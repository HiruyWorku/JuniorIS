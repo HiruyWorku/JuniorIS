{
  "cells": [
    {
      "cell_type": "markdown",
      "metadata": {
        "id": "view-in-github",
        "colab_type": "text"
      },
      "source": [
        "<a href=\"https://colab.research.google.com/github/HiruyWorku/JuniorIS/blob/main/MDP_introduction.ipynb\" target=\"_parent\"><img src=\"https://colab.research.google.com/assets/colab-badge.svg\" alt=\"Open In Colab\"/></a>"
      ]
    },
    {
      "cell_type": "markdown",
      "metadata": {
        "pycharm": {
          "name": "#%%\n"
        },
        "id": "2nhVFL7kkzBH"
      },
      "source": [
        "# A coding introduction to the Markov Decision Process\n",
        "\n",
        "<br><br>\n",
        "\n",
        "This is a reinforcement learning model for a 5X5 maze(closest I could do a route optimization). In particular, we will get familiar with a software library called OpenAI Gym that will provide us with a simple interface to these tasks.\n",
        "\n",
        "Most of the code in the section below was referenced from OpenAI GYMs GitHub repo(https://github.com/openai/gym)\n",
        "\n",
        "\n",
        "<br><br>\n"
      ]
    },
    {
      "cell_type": "code",
      "source": [
        "# @title Setup code (not important) - Run this cell by pressing \"Shift + Enter\"\n",
        "\n",
        "\n",
        "\n",
        "!pip install -qq gym==0.23.0\n",
        "\n",
        "\n",
        "from typing import Tuple, Dict, Optional, Iterable\n",
        "\n",
        "import numpy as np\n",
        "import matplotlib\n",
        "from matplotlib import animation\n",
        "\n",
        "from IPython.display import HTML\n",
        "\n",
        "import gym\n",
        "from gym import spaces\n",
        "from gym.error import DependencyNotInstalled\n",
        "\n",
        "import pygame\n",
        "from pygame import gfxdraw\n",
        "\n",
        "\n",
        "class Maze(gym.Env):\n",
        "\n",
        "    def __init__(self, exploring_starts: bool = False,\n",
        "                 shaped_rewards: bool = False, size: int = 5) -> None:\n",
        "        super().__init__()\n",
        "        self.exploring_starts = exploring_starts\n",
        "        self.shaped_rewards = shaped_rewards\n",
        "        self.state = (size - 1, size - 1)\n",
        "        self.goal = (size - 1, size - 1)\n",
        "        self.maze = self._create_maze(size=size)\n",
        "        self.distances = self._compute_distances(self.goal, self.maze)\n",
        "        self.action_space = spaces.Discrete(n=4)\n",
        "        self.action_space.action_meanings = {0: 'UP', 1: 'RIGHT', 2: 'DOWN', 3: \"LEFT\"}\n",
        "        self.observation_space = spaces.MultiDiscrete([size, size])\n",
        "\n",
        "        self.screen = None\n",
        "        self.agent_transform = None\n",
        "\n",
        "    def step(self, action: int) -> Tuple[Tuple[int, int], float, bool, Dict]:\n",
        "        reward = self.compute_reward(self.state, action)\n",
        "        self.state = self._get_next_state(self.state, action)\n",
        "        done = self.state == self.goal\n",
        "        info = {}\n",
        "        return self.state, reward, done, info\n",
        "\n",
        "    def reset(self) -> Tuple[int, int]:\n",
        "        if self.exploring_starts:\n",
        "            while self.state == self.goal:\n",
        "                self.state = tuple(self.observation_space.sample())\n",
        "        else:\n",
        "            self.state = (0, 0)\n",
        "        return self.state\n",
        "\n",
        "    def render(self, mode: str = 'human') -> Optional[np.ndarray]:\n",
        "        assert mode in ['human', 'rgb_array']\n",
        "\n",
        "        screen_size = 600\n",
        "        scale = screen_size / 5\n",
        "\n",
        "        if self.screen is None:\n",
        "            pygame.init()\n",
        "            self.screen = pygame.Surface((screen_size, screen_size))\n",
        "\n",
        "        surf = pygame.Surface((screen_size, screen_size))\n",
        "        surf.fill((22, 36, 71))\n",
        "\n",
        "\n",
        "        for row in range(5):\n",
        "            for col in range(5):\n",
        "\n",
        "                state = (row, col)\n",
        "                for next_state in [(row + 1, col), (row - 1, col), (row, col + 1), (row, col - 1)]:\n",
        "                    if next_state not in self.maze[state]:\n",
        "\n",
        "                        # Add the geometry of the edges and walls (i.e. the boundaries between\n",
        "                        # adjacent squares that are not connected).\n",
        "                        row_diff, col_diff = np.subtract(next_state, state)\n",
        "                        left = (col + (col_diff > 0)) * scale - 2 * (col_diff != 0)\n",
        "                        right = ((col + 1) - (col_diff < 0)) * scale + 2 * (col_diff != 0)\n",
        "                        top = (5 - (row + (row_diff > 0))) * scale - 2 * (row_diff != 0)\n",
        "                        bottom = (5 - ((row + 1) - (row_diff < 0))) * scale + 2 * (row_diff != 0)\n",
        "\n",
        "                        gfxdraw.filled_polygon(surf, [(left, bottom), (left, top), (right, top), (right, bottom)], (255, 255, 255))\n",
        "\n",
        "        # Add the geometry of the goal square to the viewer.\n",
        "        left, right, top, bottom = scale * 4 + 10, scale * 5 - 10, scale - 10, 10\n",
        "        gfxdraw.filled_polygon(surf, [(left, bottom), (left, top), (right, top), (right, bottom)], (40, 199, 172))\n",
        "\n",
        "        # Add the geometry of the agent to the viewer.\n",
        "        agent_row = int(screen_size - scale * (self.state[0] + .5))\n",
        "        agent_col = int(scale * (self.state[1] + .5))\n",
        "        gfxdraw.filled_circle(surf, agent_col, agent_row, int(scale * .6 / 2), (228, 63, 90))\n",
        "\n",
        "        surf = pygame.transform.flip(surf, False, True)\n",
        "        self.screen.blit(surf, (0, 0))\n",
        "\n",
        "        return np.transpose(\n",
        "                np.array(pygame.surfarray.pixels3d(self.screen)), axes=(1, 0, 2)\n",
        "            )\n",
        "\n",
        "    def close(self) -> None:\n",
        "        if self.screen is not None:\n",
        "            pygame.display.quit()\n",
        "            pygame.quit()\n",
        "            self.screen = None\n",
        "\n",
        "    def compute_reward(self, state: Tuple[int, int], action: int) -> float:\n",
        "        next_state = self._get_next_state(state, action)\n",
        "        if self.shaped_rewards:\n",
        "            return - (self.distances[next_state] / self.distances.max())\n",
        "        return - float(state != self.goal)\n",
        "\n",
        "    def simulate_step(self, state: Tuple[int, int], action: int):\n",
        "        reward = self.compute_reward(state, action)\n",
        "        next_state = self._get_next_state(state, action)\n",
        "        done = next_state == self.goal\n",
        "        info = {}\n",
        "        return next_state, reward, done, info\n",
        "\n",
        "    def _get_next_state(self, state: Tuple[int, int], action: int) -> Tuple[int, int]:\n",
        "        if action == 0:\n",
        "            next_state = (state[0] - 1, state[1])\n",
        "        elif action == 1:\n",
        "            next_state = (state[0], state[1] + 1)\n",
        "        elif action == 2:\n",
        "            next_state = (state[0] + 1, state[1])\n",
        "        elif action == 3:\n",
        "            next_state = (state[0], state[1] - 1)\n",
        "        else:\n",
        "            raise ValueError(\"Action value not supported:\", action)\n",
        "        if next_state in self.maze[state]:\n",
        "            return next_state\n",
        "        return state\n",
        "\n",
        "    @staticmethod\n",
        "    def _create_maze(size: int) -> Dict[Tuple[int, int], Iterable[Tuple[int, int]]]:\n",
        "        maze = {(row, col): [(row - 1, col), (row + 1, col), (row, col - 1), (row, col + 1)]\n",
        "                for row in range(size) for col in range(size)}\n",
        "\n",
        "        left_edges = [[(row, 0), (row, -1)] for row in range(size)]\n",
        "        right_edges = [[(row, size - 1), (row, size)] for row in range(size)]\n",
        "        upper_edges = [[(0, col), (-1, col)] for col in range(size)]\n",
        "        lower_edges = [[(size - 1, col), (size, col)] for col in range(size)]\n",
        "        walls = [\n",
        "            [(1, 0), (1, 1)], [(2, 0), (2, 1)], [(3, 0), (3, 1)],\n",
        "            [(1, 1), (1, 2)], [(2, 1), (2, 2)], [(3, 1), (3, 2)],\n",
        "            [(3, 1), (4, 1)], [(0, 2), (1, 2)], [(1, 2), (1, 3)],\n",
        "            [(2, 2), (3, 2)], [(2, 3), (3, 3)], [(2, 4), (3, 4)],\n",
        "            [(4, 2), (4, 3)], [(1, 3), (1, 4)], [(2, 3), (2, 4)],\n",
        "        ]\n",
        "\n",
        "        obstacles = upper_edges + lower_edges + left_edges + right_edges + walls\n",
        "\n",
        "        for src, dst in obstacles:\n",
        "            maze[src].remove(dst)\n",
        "\n",
        "            if dst in maze:\n",
        "                maze[dst].remove(src)\n",
        "\n",
        "        return maze\n",
        "\n",
        "    @staticmethod\n",
        "    def _compute_distances(goal: Tuple[int, int],\n",
        "                           maze: Dict[Tuple[int, int], Iterable[Tuple[int, int]]]) -> np.ndarray:\n",
        "        distances = np.full((5, 5), np.inf)\n",
        "        visited = set()\n",
        "        distances[goal] = 0.\n",
        "\n",
        "        while visited != set(maze):\n",
        "            sorted_dst = [(v // 5, v % 5) for v in distances.argsort(axis=None)]\n",
        "            closest = next(x for x in sorted_dst if x not in visited)\n",
        "            visited.add(closest)\n",
        "\n",
        "            for neighbour in maze[closest]:\n",
        "                distances[neighbour] = min(distances[neighbour], distances[closest] + 1)\n",
        "        return distances\n",
        "\n",
        "\n",
        "def display_video(frames):\n",
        "    # Copied from: https://colab.research.google.com/github/deepmind/dm_control/blob/master/tutorial.ipynb\n",
        "    orig_backend = matplotlib.get_backend()\n",
        "    matplotlib.use('Agg')\n",
        "    fig, ax = plt.subplots(1, 1, figsize=(5, 5))\n",
        "    matplotlib.use(orig_backend)\n",
        "    ax.set_axis_off()\n",
        "    ax.set_aspect('equal')\n",
        "    ax.set_position([0, 0, 1, 1])\n",
        "    im = ax.imshow(frames[0])\n",
        "    def update(frame):\n",
        "        im.set_data(frame)\n",
        "        return [im]\n",
        "    anim = animation.FuncAnimation(fig=fig, func=update, frames=frames,\n",
        "                                    interval=50, blit=True, repeat=False)\n",
        "    return HTML(anim.to_html5_video())\n"
      ],
      "metadata": {
        "id": "Klag2liexhB8",
        "outputId": "13955ad9-4ef1-4833-a6d4-dd66f34b7906",
        "colab": {
          "base_uri": "https://localhost:8080/"
        }
      },
      "execution_count": 1,
      "outputs": [
        {
          "output_type": "stream",
          "name": "stdout",
          "text": [
            "\u001b[?25l     \u001b[90m━━━━━━━━━━━━━━━━━━━━━━━━━━━━━━━━━━━━━━━━\u001b[0m \u001b[32m0.0/624.4 kB\u001b[0m \u001b[31m?\u001b[0m eta \u001b[36m-:--:--\u001b[0m\r\u001b[2K     \u001b[91m━━━━━━━━━━━\u001b[0m\u001b[90m╺\u001b[0m\u001b[90m━━━━━━━━━━━━━━━━━━━━━━━━━━━━\u001b[0m \u001b[32m174.1/624.4 kB\u001b[0m \u001b[31m5.7 MB/s\u001b[0m eta \u001b[36m0:00:01\u001b[0m\r\u001b[2K     \u001b[91m━━━━━━━━━━━━━━━━━━━━━━━━━━━━━━━━━━━━━━━\u001b[0m\u001b[90m╺\u001b[0m \u001b[32m614.4/624.4 kB\u001b[0m \u001b[31m10.3 MB/s\u001b[0m eta \u001b[36m0:00:01\u001b[0m\r\u001b[2K     \u001b[90m━━━━━━━━━━━━━━━━━━━━━━━━━━━━━━━━━━━━━━━━\u001b[0m \u001b[32m624.4/624.4 kB\u001b[0m \u001b[31m6.6 MB/s\u001b[0m eta \u001b[36m0:00:00\u001b[0m\n",
            "\u001b[?25h  Installing build dependencies ... \u001b[?25l\u001b[?25hdone\n",
            "  Getting requirements to build wheel ... \u001b[?25l\u001b[?25hdone\n",
            "  Preparing metadata (pyproject.toml) ... \u001b[?25l\u001b[?25hdone\n",
            "  Building wheel for gym (pyproject.toml) ... \u001b[?25l\u001b[?25hdone\n"
          ]
        }
      ]
    },
    {
      "cell_type": "markdown",
      "metadata": {
        "id": "ibSRyE_2kzBL"
      },
      "source": [
        "## Quick view of the Gym library:\n",
        "<br/>\n",
        "<br/>\n",
        "\n",
        "Gym is a library for reinforcement learning research. It provides us with a simple interface to a large number of tasks, including\n",
        "\n",
        "- Classic control tasks (CartPole, Pendulum, MountainCar, etc)\n",
        "- Classic video games (Space Invaders, Breakout, Pong, etc)\n",
        "- Continuous control tasks\n",
        "- Robotic arm manipulation\n",
        "\n",
        "In this section we are going to get familiar with the five methods that we'll use while solving a control\n",
        "task.\n",
        "\n",
        "\n",
        "<br/>\n",
        "<br/>\n"
      ]
    },
    {
      "cell_type": "markdown",
      "metadata": {
        "id": "DXOjbZOakzBL"
      },
      "source": [
        "##### Making the environment: Maze()\n",
        "\n",
        "To create an environment, just pass a string with its name to the gym.make method. If the environment exists, the method returns an instance of the gym.Env class, which represents the environment of the task we are going to solve."
      ]
    },
    {
      "cell_type": "code",
      "execution_count": 2,
      "metadata": {
        "pycharm": {
          "name": "#%%\n"
        },
        "id": "3MaQzsX8kzBK"
      },
      "outputs": [],
      "source": [
        "import gym\n",
        "import numpy as np\n",
        "from IPython import display\n",
        "from matplotlib import pyplot as plt\n",
        "\n",
        "%matplotlib inline"
      ]
    },
    {
      "cell_type": "code",
      "execution_count": 3,
      "metadata": {
        "id": "OzOU7ahAkzBL"
      },
      "outputs": [],
      "source": [
        "env = Maze()"
      ]
    },
    {
      "cell_type": "markdown",
      "metadata": {
        "id": "Y9Zf8RM9kzBL"
      },
      "source": [
        "###### env.reset()\n",
        "\n",
        "This method places the environment in its initial state to  and returns it so that the agent can observe it.\n"
      ]
    },
    {
      "cell_type": "code",
      "execution_count": 4,
      "metadata": {
        "id": "L0ZTYVoHkzBM",
        "outputId": "232d1cf8-f4aa-46ed-c47f-b2405ddbcf06",
        "colab": {
          "base_uri": "https://localhost:8080/"
        }
      },
      "outputs": [
        {
          "output_type": "stream",
          "name": "stdout",
          "text": [
            "The new episode will start in state: (0, 0)\n"
          ]
        }
      ],
      "source": [
        "initial_state = env.reset()\n",
        "print(f\"The new episode will start in state: {initial_state}\")"
      ]
    },
    {
      "cell_type": "markdown",
      "metadata": {
        "id": "ipPJDHubkzBM"
      },
      "source": [
        "##### env.render()\n",
        "\n",
        "This method generates an image that represents the current state of the environment, in the form of a np.ndarray."
      ]
    },
    {
      "cell_type": "code",
      "execution_count": 5,
      "metadata": {
        "scrolled": true,
        "id": "ZNeffQeYkzBM",
        "outputId": "6c6043e2-02fd-4e8e-c4b0-3f2490d4721e",
        "colab": {
          "base_uri": "https://localhost:8080/",
          "height": 446
        }
      },
      "outputs": [
        {
          "output_type": "execute_result",
          "data": {
            "text/plain": [
              "<matplotlib.image.AxesImage at 0x781a55081910>"
            ]
          },
          "metadata": {},
          "execution_count": 5
        },
        {
          "output_type": "display_data",
          "data": {
            "text/plain": [
              "<Figure size 640x480 with 1 Axes>"
            ],
            "image/png": "[encoded data removed]"
          },
          "metadata": {}
        }
      ],
      "source": [
        "frame = env.render(mode='rgb_array')\n",
        "plt.axis('off')\n",
        "plt.title(f\"State: {initial_state}\")\n",
        "plt.imshow(frame)"
      ]
    },
    {
      "cell_type": "markdown",
      "metadata": {
        "id": "9-nfuN8YkzBM"
      },
      "source": [
        "##### env.step()\n",
        "\n",
        "This method applies the action selected by the agent in the environment, to modify it. In response, the environment returns a tuple of four objects:\n",
        "\n",
        "- The next state\n",
        "- The reward obtained\n",
        "- (bool) if the task has been completed\n",
        "- any other relevant information in a python dictionary"
      ]
    },
    {
      "cell_type": "code",
      "execution_count": 6,
      "metadata": {
        "id": "Z4OSEY9qkzBM",
        "outputId": "97db2949-35cf-4293-ddeb-785f549c2bcb",
        "colab": {
          "base_uri": "https://localhost:8080/"
        }
      },
      "outputs": [
        {
          "output_type": "stream",
          "name": "stdout",
          "text": [
            "After moving down 1 row, the agent is in state: (1, 0)\n",
            "After moving down 1 row, we got a reward of: -1.0\n",
            "After moving down 1 row, the task is not finished\n"
          ]
        }
      ],
      "source": [
        "action = 2\n",
        "next_state, reward, done, info = env.step(action)\n",
        "print(f\"After moving down 1 row, the agent is in state: {next_state}\")\n",
        "print(f\"After moving down 1 row, we got a reward of: {reward}\")\n",
        "print(\"After moving down 1 row, the task is\", \"\" if done else \"not\", \"finished\")"
      ]
    },
    {
      "cell_type": "markdown",
      "metadata": {
        "id": "plqDtRxykzBM"
      },
      "source": [
        "###### Render the new state"
      ]
    },
    {
      "cell_type": "code",
      "execution_count": 7,
      "metadata": {
        "id": "peCRUOJOkzBM",
        "outputId": "ce6f68c7-4a8e-498e-9084-5f581c937056",
        "colab": {
          "base_uri": "https://localhost:8080/",
          "height": 446
        }
      },
      "outputs": [
        {
          "output_type": "execute_result",
          "data": {
            "text/plain": [
              "<matplotlib.image.AxesImage at 0x781a14221b10>"
            ]
          },
          "metadata": {},
          "execution_count": 7
        },
        {
          "output_type": "display_data",
          "data": {
            "text/plain": [
              "<Figure size 640x480 with 1 Axes>"
            ],
            "image/png": "[encoded data removed]"
          },
          "metadata": {}
        }
      ],
      "source": [
        "frame = env.render(mode='rgb_array')\n",
        "plt.axis('off')\n",
        "plt.title(f\"State: {next_state}\")\n",
        "plt.imshow(frame)"
      ]
    },
    {
      "cell_type": "markdown",
      "metadata": {
        "id": "0vjG25uekzBM"
      },
      "source": [
        "##### env.close()\n",
        "\n",
        "It completes the task and closes the environment, releasing the associated resources."
      ]
    },
    {
      "cell_type": "code",
      "execution_count": 8,
      "metadata": {
        "id": "F7GJc38UkzBN"
      },
      "outputs": [],
      "source": [
        "env.close()"
      ]
    },
    {
      "cell_type": "markdown",
      "metadata": {
        "id": "1U8GvYvzkzBN"
      },
      "source": [
        "## Maze environment: Find the exit.\n",
        "\n",
        "\n",
        "In this section i am are going to touch on the environment that i'll use in the the rest of my research, things like dynamic programming Monte Carlo methods  and temporal difference methods. This environment is perfect for learning the basics of Reinforcement Learning because:\n",
        "\n",
        "- It has few states (25)\n",
        "- Transitions between states are deterministic ($p(s', r| s, a) = 1$)\n",
        "- All rewards are the same (-1) until the episode concludes. Thus facilitating the study of the value and action-value functions\n",
        "\n",
        "Through this environment, we are going to review the concepts seen in lesson 1 (The Markov decision process):\n",
        "\n",
        "- States and state space\n",
        "- Actions and action space\n",
        "- Trajectories and episodes\n",
        "- Rewards and returns\n",
        "- Policy\n",
        "\n",
        "\n",
        "The environment is a maze of 5x5 cells, in which the goal of the agent is to find the exit, located in the lower right corner, in the cell (4,4). In the image, the exit is colored in light green.\n",
        "\n",
        "To reach the exit, the agent can take four different actions: move up, move down, move left and move right."
      ]
    },
    {
      "cell_type": "markdown",
      "metadata": {
        "id": "3F11h1aHkzBN"
      },
      "source": [
        "###### Create the environment."
      ]
    },
    {
      "cell_type": "code",
      "execution_count": 9,
      "metadata": {
        "id": "OpfNnSqWkzBN"
      },
      "outputs": [],
      "source": [
        "env = Maze()"
      ]
    },
    {
      "cell_type": "markdown",
      "metadata": {
        "id": "HT_Ik1H5kzBN"
      },
      "source": [
        "##### States and state space\n",
        "\n",
        "The states consist of a tuple of two integers, both in the range [0, 4], representing the row and column in which the agent is currently located:\n",
        "<br>\n",
        "<br>\n",
        "\n",
        "\\begin{equation}\n",
        "    s = (row, column) \\;\\\\\n",
        "    row, column \\in \\{0,1,2,3, 4\\}\n",
        "\\end{equation}\n",
        "<br>\n",
        "<br>\n",
        "The state space (set of all possible states in the task) has 25 elements (all possible combinations of rows and columns):\n",
        "\n",
        "\n",
        "\\begin{equation}\n",
        "    Rows \\times Columns \\;\\\\\n",
        "    S = \\{(0, 0), (0, 1), (1, 0), ...\\}\n",
        "\\end{equation}\n",
        "\n",
        "Information about the state space is stored in the env.observation_space property. In this environment, it is of MultiDiscrete([5 5]) type, which means that it consists of two elements (rows and columns), each with 5 different values."
      ]
    },
    {
      "cell_type": "code",
      "execution_count": 10,
      "metadata": {
        "id": "z-5Mnmm0kzBN",
        "outputId": "0665fc4f-4e3d-4226-92ee-d71edb193ba9",
        "colab": {
          "base_uri": "https://localhost:8080/"
        }
      },
      "outputs": [
        {
          "output_type": "stream",
          "name": "stdout",
          "text": [
            "For example, the initial state is: (0, 0)\n",
            "The space state is of type: MultiDiscrete([5 5])\n"
          ]
        }
      ],
      "source": [
        "print(f\"For example, the initial state is: {env.reset()}\")\n",
        "print(f\"The space state is of type: {env.observation_space}\")"
      ]
    },
    {
      "cell_type": "markdown",
      "metadata": {
        "id": "Id_veMkskzBN"
      },
      "source": [
        "##### Actions and action space\n",
        "\n",
        "In this environment, there are four different actions and they are represented by integers:\n",
        "\n",
        "\\begin{equation}\n",
        "a \\in \\{0, 1, 2, 3\\}\n",
        "\\end{equation}\n",
        "\n",
        "- 0 -> move up\n",
        "- 1 -> move right\n",
        "- 2 -> move down\n",
        "- 3 -> move left\n",
        "\n",
        "To execute an action, simply pass it as an argument to the env.step method. Information about the action space is stored in the env.action_space property which is of Discrete(4) class. This means that in this case it only consists of an element in the range [0,4), unlike the state space seen above.\n"
      ]
    },
    {
      "cell_type": "code",
      "execution_count": 11,
      "metadata": {
        "id": "KC8iHy6lkzBN",
        "outputId": "4efb4111-2192-443c-a6d5-23af96f411eb",
        "colab": {
          "base_uri": "https://localhost:8080/"
        }
      },
      "outputs": [
        {
          "output_type": "stream",
          "name": "stdout",
          "text": [
            "An example of a valid action is: 0\n",
            "The action state is of type: Discrete(4)\n"
          ]
        }
      ],
      "source": [
        "print(f\"An example of a valid action is: {env.action_space.sample()}\")\n",
        "print(f\"The action state is of type: {env.action_space}\")"
      ]
    },
    {
      "cell_type": "markdown",
      "metadata": {
        "id": "dribhLtQkzBO"
      },
      "source": [
        "##### Trajectories and episodes\n",
        "\n",
        "A trajectory is the sequence generated by moving from one state to another (both arbitrary)\n",
        "\n",
        "\\begin{equation}\n",
        "  \\tau = S_0, A_0, R_1, S_1, A_1, ... R_N, S_N,\n",
        "\\end{equation}\n",
        "\n",
        "Let's generate a trajectory of 3 moves in code:"
      ]
    },
    {
      "cell_type": "code",
      "execution_count": 12,
      "metadata": {
        "id": "tVqrUPk5kzBO",
        "outputId": "6e8db245-a345-4e7d-fa2d-113b5295275c",
        "colab": {
          "base_uri": "https://localhost:8080/"
        }
      },
      "outputs": [
        {
          "output_type": "stream",
          "name": "stdout",
          "text": [
            "Congrats! You just generated your first trajectory:\n",
            "[[(0, 0), 0, -1.0, False, (0, 0)], [(0, 0), 3, -1.0, False, (0, 0)], [(0, 0), 3, -1.0, False, (0, 0)]]\n"
          ]
        }
      ],
      "source": [
        "env = Maze()\n",
        "state = env.reset()\n",
        "trajectory = []\n",
        "for _ in range(3):\n",
        "    action = env.action_space.sample()\n",
        "    next_state, reward, done, extra_info = env.step(action)\n",
        "    trajectory.append([state, action, reward, done, next_state])\n",
        "    state = next_state\n",
        "env.close()\n",
        "\n",
        "print(f\"Congrats! You just generated your first trajectory:\\n{trajectory}\")"
      ]
    },
    {
      "cell_type": "markdown",
      "metadata": {
        "id": "rJzFOtbOkzBO"
      },
      "source": [
        "An episode is a trajectory that goes from the initial state of the process to the final one:\n",
        "\n",
        "\\begin{equation}\n",
        "  \\tau = S_0, A_0, R_1, S_1, A_1, ... R_T, S_T,\n",
        "\\end{equation}\n",
        "where T is the terminal state.\n",
        "\n",
        "Let's generate a whole episode in code:"
      ]
    },
    {
      "cell_type": "code",
      "execution_count": 13,
      "metadata": {
        "id": "Qeylme63kzBO",
        "outputId": "707b92c4-aa0f-4e7c-9836-f69f50efd295",
        "colab": {
          "base_uri": "https://localhost:8080/"
        }
      },
      "outputs": [
        {
          "output_type": "stream",
          "name": "stdout",
          "text": [
            "Congrats! You just generated your first episode:\n",
            "[[(0, 0), 2, -1.0, False, (1, 0)], [(1, 0), 2, -1.0, False, (2, 0)], [(2, 0), 0, -1.0, False, (1, 0)], [(1, 0), 2, -1.0, False, (2, 0)], [(2, 0), 1, -1.0, False, (2, 0)], [(2, 0), 1, -1.0, False, (2, 0)], [(2, 0), 0, -1.0, False, (1, 0)], [(1, 0), 1, -1.0, False, (1, 0)], [(1, 0), 2, -1.0, False, (2, 0)], [(2, 0), 0, -1.0, False, (1, 0)], [(1, 0), 0, -1.0, False, (0, 0)], [(0, 0), 1, -1.0, False, (0, 1)], [(0, 1), 2, -1.0, False, (1, 1)], [(1, 1), 3, -1.0, False, (1, 1)], [(1, 1), 3, -1.0, False, (1, 1)], [(1, 1), 2, -1.0, False, (2, 1)], [(2, 1), 1, -1.0, False, (2, 1)], [(2, 1), 3, -1.0, False, (2, 1)], [(2, 1), 2, -1.0, False, (3, 1)], [(3, 1), 0, -1.0, False, (2, 1)], [(2, 1), 2, -1.0, False, (3, 1)], [(3, 1), 0, -1.0, False, (2, 1)], [(2, 1), 0, -1.0, False, (1, 1)], [(1, 1), 0, -1.0, False, (0, 1)], [(0, 1), 3, -1.0, False, (0, 0)], [(0, 0), 3, -1.0, False, (0, 0)], [(0, 0), 0, -1.0, False, (0, 0)], [(0, 0), 2, -1.0, False, (1, 0)], [(1, 0), 1, -1.0, False, (1, 0)], [(1, 0), 3, -1.0, False, (1, 0)], [(1, 0), 3, -1.0, False, (1, 0)], [(1, 0), 3, -1.0, False, (1, 0)], [(1, 0), 0, -1.0, False, (0, 0)], [(0, 0), 2, -1.0, False, (1, 0)], [(1, 0), 2, -1.0, False, (2, 0)], [(2, 0), 1, -1.0, False, (2, 0)], [(2, 0), 2, -1.0, False, (3, 0)], [(3, 0), 1, -1.0, False, (3, 0)], [(3, 0), 0, -1.0, False, (2, 0)], [(2, 0), 1, -1.0, False, (2, 0)], [(2, 0), 2, -1.0, False, (3, 0)], [(3, 0), 0, -1.0, False, (2, 0)], [(2, 0), 0, -1.0, False, (1, 0)], [(1, 0), 0, -1.0, False, (0, 0)], [(0, 0), 3, -1.0, False, (0, 0)], [(0, 0), 3, -1.0, False, (0, 0)], [(0, 0), 3, -1.0, False, (0, 0)], [(0, 0), 0, -1.0, False, (0, 0)], [(0, 0), 0, -1.0, False, (0, 0)], [(0, 0), 1, -1.0, False, (0, 1)], [(0, 1), 1, -1.0, False, (0, 2)], [(0, 2), 3, -1.0, False, (0, 1)], [(0, 1), 2, -1.0, False, (1, 1)], [(1, 1), 2, -1.0, False, (2, 1)], [(2, 1), 2, -1.0, False, (3, 1)], [(3, 1), 2, -1.0, False, (3, 1)], [(3, 1), 1, -1.0, False, (3, 1)], [(3, 1), 0, -1.0, False, (2, 1)], [(2, 1), 1, -1.0, False, (2, 1)], [(2, 1), 0, -1.0, False, (1, 1)], [(1, 1), 1, -1.0, False, (1, 1)], [(1, 1), 1, -1.0, False, (1, 1)], [(1, 1), 3, -1.0, False, (1, 1)], [(1, 1), 2, -1.0, False, (2, 1)], [(2, 1), 3, -1.0, False, (2, 1)], [(2, 1), 1, -1.0, False, (2, 1)], [(2, 1), 2, -1.0, False, (3, 1)], [(3, 1), 1, -1.0, False, (3, 1)], [(3, 1), 2, -1.0, False, (3, 1)], [(3, 1), 2, -1.0, False, (3, 1)], [(3, 1), 3, -1.0, False, (3, 1)], [(3, 1), 3, -1.0, False, (3, 1)], [(3, 1), 1, -1.0, False, (3, 1)], [(3, 1), 0, -1.0, False, (2, 1)], [(2, 1), 3, -1.0, False, (2, 1)], [(2, 1), 3, -1.0, False, (2, 1)], [(2, 1), 0, -1.0, False, (1, 1)], [(1, 1), 1, -1.0, False, (1, 1)], [(1, 1), 3, -1.0, False, (1, 1)], [(1, 1), 3, -1.0, False, (1, 1)], [(1, 1), 2, -1.0, False, (2, 1)], [(2, 1), 3, -1.0, False, (2, 1)], [(2, 1), 3, -1.0, False, (2, 1)], [(2, 1), 1, -1.0, False, (2, 1)], [(2, 1), 2, -1.0, False, (3, 1)], [(3, 1), 0, -1.0, False, (2, 1)], [(2, 1), 3, -1.0, False, (2, 1)], [(2, 1), 3, -1.0, False, (2, 1)], [(2, 1), 2, -1.0, False, (3, 1)], [(3, 1), 1, -1.0, False, (3, 1)], [(3, 1), 3, -1.0, False, (3, 1)], [(3, 1), 0, -1.0, False, (2, 1)], [(2, 1), 2, -1.0, False, (3, 1)], [(3, 1), 2, -1.0, False, (3, 1)], [(3, 1), 1, -1.0, False, (3, 1)], [(3, 1), 0, -1.0, False, (2, 1)], [(2, 1), 3, -1.0, False, (2, 1)], [(2, 1), 1, -1.0, False, (2, 1)], [(2, 1), 2, -1.0, False, (3, 1)], [(3, 1), 2, -1.0, False, (3, 1)], [(3, 1), 1, -1.0, False, (3, 1)], [(3, 1), 3, -1.0, False, (3, 1)], [(3, 1), 1, -1.0, False, (3, 1)], [(3, 1), 3, -1.0, False, (3, 1)], [(3, 1), 0, -1.0, False, (2, 1)], [(2, 1), 3, -1.0, False, (2, 1)], [(2, 1), 3, -1.0, False, (2, 1)], [(2, 1), 1, -1.0, False, (2, 1)], [(2, 1), 2, -1.0, False, (3, 1)], [(3, 1), 0, -1.0, False, (2, 1)], [(2, 1), 0, -1.0, False, (1, 1)], [(1, 1), 3, -1.0, False, (1, 1)], [(1, 1), 2, -1.0, False, (2, 1)], [(2, 1), 2, -1.0, False, (3, 1)], [(3, 1), 3, -1.0, False, (3, 1)], [(3, 1), 0, -1.0, False, (2, 1)], [(2, 1), 3, -1.0, False, (2, 1)], [(2, 1), 0, -1.0, False, (1, 1)], [(1, 1), 3, -1.0, False, (1, 1)], [(1, 1), 2, -1.0, False, (2, 1)], [(2, 1), 1, -1.0, False, (2, 1)], [(2, 1), 0, -1.0, False, (1, 1)], [(1, 1), 2, -1.0, False, (2, 1)], [(2, 1), 0, -1.0, False, (1, 1)], [(1, 1), 2, -1.0, False, (2, 1)], [(2, 1), 3, -1.0, False, (2, 1)], [(2, 1), 0, -1.0, False, (1, 1)], [(1, 1), 0, -1.0, False, (0, 1)], [(0, 1), 2, -1.0, False, (1, 1)], [(1, 1), 1, -1.0, False, (1, 1)], [(1, 1), 2, -1.0, False, (2, 1)], [(2, 1), 3, -1.0, False, (2, 1)], [(2, 1), 1, -1.0, False, (2, 1)], [(2, 1), 3, -1.0, False, (2, 1)], [(2, 1), 3, -1.0, False, (2, 1)], [(2, 1), 2, -1.0, False, (3, 1)], [(3, 1), 1, -1.0, False, (3, 1)], [(3, 1), 2, -1.0, False, (3, 1)], [(3, 1), 0, -1.0, False, (2, 1)], [(2, 1), 3, -1.0, False, (2, 1)], [(2, 1), 3, -1.0, False, (2, 1)], [(2, 1), 1, -1.0, False, (2, 1)], [(2, 1), 2, -1.0, False, (3, 1)], [(3, 1), 0, -1.0, False, (2, 1)], [(2, 1), 0, -1.0, False, (1, 1)], [(1, 1), 0, -1.0, False, (0, 1)], [(0, 1), 3, -1.0, False, (0, 0)], [(0, 0), 2, -1.0, False, (1, 0)], [(1, 0), 0, -1.0, False, (0, 0)], [(0, 0), 0, -1.0, False, (0, 0)], [(0, 0), 2, -1.0, False, (1, 0)], [(1, 0), 2, -1.0, False, (2, 0)], [(2, 0), 2, -1.0, False, (3, 0)], [(3, 0), 2, -1.0, False, (4, 0)], [(4, 0), 2, -1.0, False, (4, 0)], [(4, 0), 2, -1.0, False, (4, 0)], [(4, 0), 1, -1.0, False, (4, 1)], [(4, 1), 2, -1.0, False, (4, 1)], [(4, 1), 1, -1.0, False, (4, 2)], [(4, 2), 3, -1.0, False, (4, 1)], [(4, 1), 2, -1.0, False, (4, 1)], [(4, 1), 1, -1.0, False, (4, 2)], [(4, 2), 0, -1.0, False, (3, 2)], [(3, 2), 0, -1.0, False, (3, 2)], [(3, 2), 3, -1.0, False, (3, 2)], [(3, 2), 3, -1.0, False, (3, 2)], [(3, 2), 0, -1.0, False, (3, 2)], [(3, 2), 1, -1.0, False, (3, 3)], [(3, 3), 3, -1.0, False, (3, 2)], [(3, 2), 2, -1.0, False, (4, 2)], [(4, 2), 3, -1.0, False, (4, 1)], [(4, 1), 3, -1.0, False, (4, 0)], [(4, 0), 0, -1.0, False, (3, 0)], [(3, 0), 2, -1.0, False, (4, 0)], [(4, 0), 3, -1.0, False, (4, 0)], [(4, 0), 1, -1.0, False, (4, 1)], [(4, 1), 1, -1.0, False, (4, 2)], [(4, 2), 2, -1.0, False, (4, 2)], [(4, 2), 2, -1.0, False, (4, 2)], [(4, 2), 0, -1.0, False, (3, 2)], [(3, 2), 0, -1.0, False, (3, 2)], [(3, 2), 0, -1.0, False, (3, 2)], [(3, 2), 2, -1.0, False, (4, 2)], [(4, 2), 3, -1.0, False, (4, 1)], [(4, 1), 1, -1.0, False, (4, 2)], [(4, 2), 2, -1.0, False, (4, 2)], [(4, 2), 1, -1.0, False, (4, 2)], [(4, 2), 3, -1.0, False, (4, 1)], [(4, 1), 1, -1.0, False, (4, 2)], [(4, 2), 2, -1.0, False, (4, 2)], [(4, 2), 1, -1.0, False, (4, 2)], [(4, 2), 1, -1.0, False, (4, 2)], [(4, 2), 0, -1.0, False, (3, 2)], [(3, 2), 2, -1.0, False, (4, 2)], [(4, 2), 3, -1.0, False, (4, 1)], [(4, 1), 2, -1.0, False, (4, 1)], [(4, 1), 2, -1.0, False, (4, 1)], [(4, 1), 3, -1.0, False, (4, 0)], [(4, 0), 0, -1.0, False, (3, 0)], [(3, 0), 0, -1.0, False, (2, 0)], [(2, 0), 3, -1.0, False, (2, 0)], [(2, 0), 0, -1.0, False, (1, 0)], [(1, 0), 1, -1.0, False, (1, 0)], [(1, 0), 0, -1.0, False, (0, 0)], [(0, 0), 2, -1.0, False, (1, 0)], [(1, 0), 2, -1.0, False, (2, 0)], [(2, 0), 3, -1.0, False, (2, 0)], [(2, 0), 2, -1.0, False, (3, 0)], [(3, 0), 1, -1.0, False, (3, 0)], [(3, 0), 0, -1.0, False, (2, 0)], [(2, 0), 1, -1.0, False, (2, 0)], [(2, 0), 3, -1.0, False, (2, 0)], [(2, 0), 1, -1.0, False, (2, 0)], [(2, 0), 1, -1.0, False, (2, 0)], [(2, 0), 0, -1.0, False, (1, 0)], [(1, 0), 2, -1.0, False, (2, 0)], [(2, 0), 3, -1.0, False, (2, 0)], [(2, 0), 1, -1.0, False, (2, 0)], [(2, 0), 0, -1.0, False, (1, 0)], [(1, 0), 3, -1.0, False, (1, 0)], [(1, 0), 1, -1.0, False, (1, 0)], [(1, 0), 2, -1.0, False, (2, 0)], [(2, 0), 0, -1.0, False, (1, 0)], [(1, 0), 1, -1.0, False, (1, 0)], [(1, 0), 1, -1.0, False, (1, 0)], [(1, 0), 1, -1.0, False, (1, 0)], [(1, 0), 2, -1.0, False, (2, 0)], [(2, 0), 0, -1.0, False, (1, 0)], [(1, 0), 0, -1.0, False, (0, 0)], [(0, 0), 1, -1.0, False, (0, 1)], [(0, 1), 0, -1.0, False, (0, 1)], [(0, 1), 3, -1.0, False, (0, 0)], [(0, 0), 1, -1.0, False, (0, 1)], [(0, 1), 3, -1.0, False, (0, 0)], [(0, 0), 1, -1.0, False, (0, 1)], [(0, 1), 0, -1.0, False, (0, 1)], [(0, 1), 0, -1.0, False, (0, 1)], [(0, 1), 2, -1.0, False, (1, 1)], [(1, 1), 1, -1.0, False, (1, 1)], [(1, 1), 1, -1.0, False, (1, 1)], [(1, 1), 2, -1.0, False, (2, 1)], [(2, 1), 0, -1.0, False, (1, 1)], [(1, 1), 3, -1.0, False, (1, 1)], [(1, 1), 0, -1.0, False, (0, 1)], [(0, 1), 2, -1.0, False, (1, 1)], [(1, 1), 2, -1.0, False, (2, 1)], [(2, 1), 1, -1.0, False, (2, 1)], [(2, 1), 2, -1.0, False, (3, 1)], [(3, 1), 3, -1.0, False, (3, 1)], [(3, 1), 3, -1.0, False, (3, 1)], [(3, 1), 1, -1.0, False, (3, 1)], [(3, 1), 2, -1.0, False, (3, 1)], [(3, 1), 0, -1.0, False, (2, 1)], [(2, 1), 3, -1.0, False, (2, 1)], [(2, 1), 1, -1.0, False, (2, 1)], [(2, 1), 1, -1.0, False, (2, 1)], [(2, 1), 0, -1.0, False, (1, 1)], [(1, 1), 3, -1.0, False, (1, 1)], [(1, 1), 3, -1.0, False, (1, 1)], [(1, 1), 3, -1.0, False, (1, 1)], [(1, 1), 3, -1.0, False, (1, 1)], [(1, 1), 1, -1.0, False, (1, 1)], [(1, 1), 3, -1.0, False, (1, 1)], [(1, 1), 1, -1.0, False, (1, 1)], [(1, 1), 1, -1.0, False, (1, 1)], [(1, 1), 2, -1.0, False, (2, 1)], [(2, 1), 2, -1.0, False, (3, 1)], [(3, 1), 3, -1.0, False, (3, 1)], [(3, 1), 2, -1.0, False, (3, 1)], [(3, 1), 3, -1.0, False, (3, 1)], [(3, 1), 2, -1.0, False, (3, 1)], [(3, 1), 2, -1.0, False, (3, 1)], [(3, 1), 0, -1.0, False, (2, 1)], [(2, 1), 0, -1.0, False, (1, 1)], [(1, 1), 0, -1.0, False, (0, 1)], [(0, 1), 0, -1.0, False, (0, 1)], [(0, 1), 1, -1.0, False, (0, 2)], [(0, 2), 3, -1.0, False, (0, 1)], [(0, 1), 1, -1.0, False, (0, 2)], [(0, 2), 3, -1.0, False, (0, 1)], [(0, 1), 0, -1.0, False, (0, 1)], [(0, 1), 3, -1.0, False, (0, 0)], [(0, 0), 3, -1.0, False, (0, 0)], [(0, 0), 3, -1.0, False, (0, 0)], [(0, 0), 2, -1.0, False, (1, 0)], [(1, 0), 1, -1.0, False, (1, 0)], [(1, 0), 1, -1.0, False, (1, 0)], [(1, 0), 3, -1.0, False, (1, 0)], [(1, 0), 2, -1.0, False, (2, 0)], [(2, 0), 3, -1.0, False, (2, 0)], [(2, 0), 3, -1.0, False, (2, 0)], [(2, 0), 1, -1.0, False, (2, 0)], [(2, 0), 2, -1.0, False, (3, 0)], [(3, 0), 2, -1.0, False, (4, 0)], [(4, 0), 1, -1.0, False, (4, 1)], [(4, 1), 0, -1.0, False, (4, 1)], [(4, 1), 3, -1.0, False, (4, 0)], [(4, 0), 2, -1.0, False, (4, 0)], [(4, 0), 3, -1.0, False, (4, 0)], [(4, 0), 0, -1.0, False, (3, 0)], [(3, 0), 1, -1.0, False, (3, 0)], [(3, 0), 1, -1.0, False, (3, 0)], [(3, 0), 2, -1.0, False, (4, 0)], [(4, 0), 2, -1.0, False, (4, 0)], [(4, 0), 0, -1.0, False, (3, 0)], [(3, 0), 2, -1.0, False, (4, 0)], [(4, 0), 0, -1.0, False, (3, 0)], [(3, 0), 3, -1.0, False, (3, 0)], [(3, 0), 0, -1.0, False, (2, 0)], [(2, 0), 1, -1.0, False, (2, 0)], [(2, 0), 2, -1.0, False, (3, 0)], [(3, 0), 0, -1.0, False, (2, 0)], [(2, 0), 0, -1.0, False, (1, 0)], [(1, 0), 3, -1.0, False, (1, 0)], [(1, 0), 0, -1.0, False, (0, 0)], [(0, 0), 2, -1.0, False, (1, 0)], [(1, 0), 2, -1.0, False, (2, 0)], [(2, 0), 1, -1.0, False, (2, 0)], [(2, 0), 2, -1.0, False, (3, 0)], [(3, 0), 1, -1.0, False, (3, 0)], [(3, 0), 1, -1.0, False, (3, 0)], [(3, 0), 1, -1.0, False, (3, 0)], [(3, 0), 0, -1.0, False, (2, 0)], [(2, 0), 3, -1.0, False, (2, 0)], [(2, 0), 1, -1.0, False, (2, 0)], [(2, 0), 0, -1.0, False, (1, 0)], [(1, 0), 3, -1.0, False, (1, 0)], [(1, 0), 2, -1.0, False, (2, 0)], [(2, 0), 0, -1.0, False, (1, 0)], [(1, 0), 0, -1.0, False, (0, 0)], [(0, 0), 1, -1.0, False, (0, 1)], [(0, 1), 1, -1.0, False, (0, 2)], [(0, 2), 2, -1.0, False, (0, 2)], [(0, 2), 1, -1.0, False, (0, 3)], [(0, 3), 2, -1.0, False, (1, 3)], [(1, 3), 2, -1.0, False, (2, 3)], [(2, 3), 1, -1.0, False, (2, 3)], [(2, 3), 0, -1.0, False, (1, 3)], [(1, 3), 1, -1.0, False, (1, 3)], [(1, 3), 2, -1.0, False, (2, 3)], [(2, 3), 1, -1.0, False, (2, 3)], [(2, 3), 0, -1.0, False, (1, 3)], [(1, 3), 0, -1.0, False, (0, 3)], [(0, 3), 2, -1.0, False, (1, 3)], [(1, 3), 2, -1.0, False, (2, 3)], [(2, 3), 1, -1.0, False, (2, 3)], [(2, 3), 2, -1.0, False, (2, 3)], [(2, 3), 1, -1.0, False, (2, 3)], [(2, 3), 1, -1.0, False, (2, 3)], [(2, 3), 0, -1.0, False, (1, 3)], [(1, 3), 1, -1.0, False, (1, 3)], [(1, 3), 2, -1.0, False, (2, 3)], [(2, 3), 0, -1.0, False, (1, 3)], [(1, 3), 0, -1.0, False, (0, 3)], [(0, 3), 1, -1.0, False, (0, 4)], [(0, 4), 1, -1.0, False, (0, 4)], [(0, 4), 2, -1.0, False, (1, 4)], [(1, 4), 1, -1.0, False, (1, 4)], [(1, 4), 1, -1.0, False, (1, 4)], [(1, 4), 3, -1.0, False, (1, 4)], [(1, 4), 0, -1.0, False, (0, 4)], [(0, 4), 3, -1.0, False, (0, 3)], [(0, 3), 0, -1.0, False, (0, 3)], [(0, 3), 0, -1.0, False, (0, 3)], [(0, 3), 3, -1.0, False, (0, 2)], [(0, 2), 1, -1.0, False, (0, 3)], [(0, 3), 1, -1.0, False, (0, 4)], [(0, 4), 1, -1.0, False, (0, 4)], [(0, 4), 1, -1.0, False, (0, 4)], [(0, 4), 2, -1.0, False, (1, 4)], [(1, 4), 1, -1.0, False, (1, 4)], [(1, 4), 2, -1.0, False, (2, 4)], [(2, 4), 0, -1.0, False, (1, 4)], [(1, 4), 0, -1.0, False, (0, 4)], [(0, 4), 2, -1.0, False, (1, 4)], [(1, 4), 3, -1.0, False, (1, 4)], [(1, 4), 3, -1.0, False, (1, 4)], [(1, 4), 3, -1.0, False, (1, 4)], [(1, 4), 0, -1.0, False, (0, 4)], [(0, 4), 1, -1.0, False, (0, 4)], [(0, 4), 1, -1.0, False, (0, 4)], [(0, 4), 2, -1.0, False, (1, 4)], [(1, 4), 1, -1.0, False, (1, 4)], [(1, 4), 3, -1.0, False, (1, 4)], [(1, 4), 2, -1.0, False, (2, 4)], [(2, 4), 2, -1.0, False, (2, 4)], [(2, 4), 1, -1.0, False, (2, 4)], [(2, 4), 1, -1.0, False, (2, 4)], [(2, 4), 0, -1.0, False, (1, 4)], [(1, 4), 1, -1.0, False, (1, 4)], [(1, 4), 2, -1.0, False, (2, 4)], [(2, 4), 2, -1.0, False, (2, 4)], [(2, 4), 2, -1.0, False, (2, 4)], [(2, 4), 2, -1.0, False, (2, 4)], [(2, 4), 3, -1.0, False, (2, 4)], [(2, 4), 2, -1.0, False, (2, 4)], [(2, 4), 2, -1.0, False, (2, 4)], [(2, 4), 0, -1.0, False, (1, 4)], [(1, 4), 2, -1.0, False, (2, 4)], [(2, 4), 1, -1.0, False, (2, 4)], [(2, 4), 1, -1.0, False, (2, 4)], [(2, 4), 0, -1.0, False, (1, 4)], [(1, 4), 2, -1.0, False, (2, 4)], [(2, 4), 2, -1.0, False, (2, 4)], [(2, 4), 0, -1.0, False, (1, 4)], [(1, 4), 2, -1.0, False, (2, 4)], [(2, 4), 0, -1.0, False, (1, 4)], [(1, 4), 1, -1.0, False, (1, 4)], [(1, 4), 2, -1.0, False, (2, 4)], [(2, 4), 1, -1.0, False, (2, 4)], [(2, 4), 2, -1.0, False, (2, 4)], [(2, 4), 3, -1.0, False, (2, 4)], [(2, 4), 0, -1.0, False, (1, 4)], [(1, 4), 2, -1.0, False, (2, 4)], [(2, 4), 0, -1.0, False, (1, 4)], [(1, 4), 2, -1.0, False, (2, 4)], [(2, 4), 3, -1.0, False, (2, 4)], [(2, 4), 3, -1.0, False, (2, 4)], [(2, 4), 3, -1.0, False, (2, 4)], [(2, 4), 2, -1.0, False, (2, 4)], [(2, 4), 2, -1.0, False, (2, 4)], [(2, 4), 2, -1.0, False, (2, 4)], [(2, 4), 2, -1.0, False, (2, 4)], [(2, 4), 1, -1.0, False, (2, 4)], [(2, 4), 3, -1.0, False, (2, 4)], [(2, 4), 2, -1.0, False, (2, 4)], [(2, 4), 3, -1.0, False, (2, 4)], [(2, 4), 3, -1.0, False, (2, 4)], [(2, 4), 1, -1.0, False, (2, 4)], [(2, 4), 2, -1.0, False, (2, 4)], [(2, 4), 3, -1.0, False, (2, 4)], [(2, 4), 1, -1.0, False, (2, 4)], [(2, 4), 0, -1.0, False, (1, 4)], [(1, 4), 2, -1.0, False, (2, 4)], [(2, 4), 0, -1.0, False, (1, 4)], [(1, 4), 3, -1.0, False, (1, 4)], [(1, 4), 1, -1.0, False, (1, 4)], [(1, 4), 2, -1.0, False, (2, 4)], [(2, 4), 0, -1.0, False, (1, 4)], [(1, 4), 0, -1.0, False, (0, 4)], [(0, 4), 2, -1.0, False, (1, 4)], [(1, 4), 1, -1.0, False, (1, 4)], [(1, 4), 1, -1.0, False, (1, 4)], [(1, 4), 0, -1.0, False, (0, 4)], [(0, 4), 3, -1.0, False, (0, 3)], [(0, 3), 3, -1.0, False, (0, 2)], [(0, 2), 3, -1.0, False, (0, 1)], [(0, 1), 0, -1.0, False, (0, 1)], [(0, 1), 0, -1.0, False, (0, 1)], [(0, 1), 2, -1.0, False, (1, 1)], [(1, 1), 3, -1.0, False, (1, 1)], [(1, 1), 0, -1.0, False, (0, 1)], [(0, 1), 0, -1.0, False, (0, 1)], [(0, 1), 3, -1.0, False, (0, 0)], [(0, 0), 1, -1.0, False, (0, 1)], [(0, 1), 1, -1.0, False, (0, 2)], [(0, 2), 1, -1.0, False, (0, 3)], [(0, 3), 2, -1.0, False, (1, 3)], [(1, 3), 0, -1.0, False, (0, 3)], [(0, 3), 2, -1.0, False, (1, 3)], [(1, 3), 3, -1.0, False, (1, 3)], [(1, 3), 2, -1.0, False, (2, 3)], [(2, 3), 0, -1.0, False, (1, 3)], [(1, 3), 3, -1.0, False, (1, 3)], [(1, 3), 2, -1.0, False, (2, 3)], [(2, 3), 2, -1.0, False, (2, 3)], [(2, 3), 1, -1.0, False, (2, 3)], [(2, 3), 3, -1.0, False, (2, 2)], [(2, 2), 3, -1.0, False, (2, 2)], [(2, 2), 3, -1.0, False, (2, 2)], [(2, 2), 1, -1.0, False, (2, 3)], [(2, 3), 1, -1.0, False, (2, 3)], [(2, 3), 1, -1.0, False, (2, 3)], [(2, 3), 0, -1.0, False, (1, 3)], [(1, 3), 1, -1.0, False, (1, 3)], [(1, 3), 0, -1.0, False, (0, 3)], [(0, 3), 0, -1.0, False, (0, 3)], [(0, 3), 3, -1.0, False, (0, 2)], [(0, 2), 1, -1.0, False, (0, 3)], [(0, 3), 0, -1.0, False, (0, 3)], [(0, 3), 0, -1.0, False, (0, 3)], [(0, 3), 2, -1.0, False, (1, 3)], [(1, 3), 2, -1.0, False, (2, 3)], [(2, 3), 3, -1.0, False, (2, 2)], [(2, 2), 0, -1.0, False, (1, 2)], [(1, 2), 3, -1.0, False, (1, 2)], [(1, 2), 1, -1.0, False, (1, 2)], [(1, 2), 2, -1.0, False, (2, 2)], [(2, 2), 3, -1.0, False, (2, 2)], [(2, 2), 3, -1.0, False, (2, 2)], [(2, 2), 0, -1.0, False, (1, 2)], [(1, 2), 0, -1.0, False, (1, 2)], [(1, 2), 3, -1.0, False, (1, 2)], [(1, 2), 3, -1.0, False, (1, 2)], [(1, 2), 0, -1.0, False, (1, 2)], [(1, 2), 1, -1.0, False, (1, 2)], [(1, 2), 3, -1.0, False, (1, 2)], [(1, 2), 3, -1.0, False, (1, 2)], [(1, 2), 2, -1.0, False, (2, 2)], [(2, 2), 1, -1.0, False, (2, 3)], [(2, 3), 2, -1.0, False, (2, 3)], [(2, 3), 0, -1.0, False, (1, 3)], [(1, 3), 0, -1.0, False, (0, 3)], [(0, 3), 1, -1.0, False, (0, 4)], [(0, 4), 2, -1.0, False, (1, 4)], [(1, 4), 0, -1.0, False, (0, 4)], [(0, 4), 0, -1.0, False, (0, 4)], [(0, 4), 0, -1.0, False, (0, 4)], [(0, 4), 1, -1.0, False, (0, 4)], [(0, 4), 2, -1.0, False, (1, 4)], [(1, 4), 2, -1.0, False, (2, 4)], [(2, 4), 3, -1.0, False, (2, 4)], [(2, 4), 3, -1.0, False, (2, 4)], [(2, 4), 0, -1.0, False, (1, 4)], [(1, 4), 0, -1.0, False, (0, 4)], [(0, 4), 2, -1.0, False, (1, 4)], [(1, 4), 3, -1.0, False, (1, 4)], [(1, 4), 2, -1.0, False, (2, 4)], [(2, 4), 2, -1.0, False, (2, 4)], [(2, 4), 2, -1.0, False, (2, 4)], [(2, 4), 0, -1.0, False, (1, 4)], [(1, 4), 1, -1.0, False, (1, 4)], [(1, 4), 1, -1.0, False, (1, 4)], [(1, 4), 1, -1.0, False, (1, 4)], [(1, 4), 1, -1.0, False, (1, 4)], [(1, 4), 1, -1.0, False, (1, 4)], [(1, 4), 0, -1.0, False, (0, 4)], [(0, 4), 1, -1.0, False, (0, 4)], [(0, 4), 3, -1.0, False, (0, 3)], [(0, 3), 0, -1.0, False, (0, 3)], [(0, 3), 0, -1.0, False, (0, 3)], [(0, 3), 1, -1.0, False, (0, 4)], [(0, 4), 0, -1.0, False, (0, 4)], [(0, 4), 2, -1.0, False, (1, 4)], [(1, 4), 3, -1.0, False, (1, 4)], [(1, 4), 1, -1.0, False, (1, 4)], [(1, 4), 1, -1.0, False, (1, 4)], [(1, 4), 0, -1.0, False, (0, 4)], [(0, 4), 2, -1.0, False, (1, 4)], [(1, 4), 3, -1.0, False, (1, 4)], [(1, 4), 0, -1.0, False, (0, 4)], [(0, 4), 2, -1.0, False, (1, 4)], [(1, 4), 2, -1.0, False, (2, 4)], [(2, 4), 1, -1.0, False, (2, 4)], [(2, 4), 1, -1.0, False, (2, 4)], [(2, 4), 1, -1.0, False, (2, 4)], [(2, 4), 2, -1.0, False, (2, 4)], [(2, 4), 1, -1.0, False, (2, 4)], [(2, 4), 3, -1.0, False, (2, 4)], [(2, 4), 3, -1.0, False, (2, 4)], [(2, 4), 2, -1.0, False, (2, 4)], [(2, 4), 0, -1.0, False, (1, 4)], [(1, 4), 1, -1.0, False, (1, 4)], [(1, 4), 2, -1.0, False, (2, 4)], [(2, 4), 2, -1.0, False, (2, 4)], [(2, 4), 2, -1.0, False, (2, 4)], [(2, 4), 3, -1.0, False, (2, 4)], [(2, 4), 0, -1.0, False, (1, 4)], [(1, 4), 0, -1.0, False, (0, 4)], [(0, 4), 2, -1.0, False, (1, 4)], [(1, 4), 3, -1.0, False, (1, 4)], [(1, 4), 3, -1.0, False, (1, 4)], [(1, 4), 0, -1.0, False, (0, 4)], [(0, 4), 3, -1.0, False, (0, 3)], [(0, 3), 1, -1.0, False, (0, 4)], [(0, 4), 1, -1.0, False, (0, 4)], [(0, 4), 0, -1.0, False, (0, 4)], [(0, 4), 0, -1.0, False, (0, 4)], [(0, 4), 3, -1.0, False, (0, 3)], [(0, 3), 3, -1.0, False, (0, 2)], [(0, 2), 1, -1.0, False, (0, 3)], [(0, 3), 2, -1.0, False, (1, 3)], [(1, 3), 0, -1.0, False, (0, 3)], [(0, 3), 0, -1.0, False, (0, 3)], [(0, 3), 2, -1.0, False, (1, 3)], [(1, 3), 3, -1.0, False, (1, 3)], [(1, 3), 3, -1.0, False, (1, 3)], [(1, 3), 3, -1.0, False, (1, 3)], [(1, 3), 0, -1.0, False, (0, 3)], [(0, 3), 0, -1.0, False, (0, 3)], [(0, 3), 0, -1.0, False, (0, 3)], [(0, 3), 2, -1.0, False, (1, 3)], [(1, 3), 1, -1.0, False, (1, 3)], [(1, 3), 1, -1.0, False, (1, 3)], [(1, 3), 3, -1.0, False, (1, 3)], [(1, 3), 1, -1.0, False, (1, 3)], [(1, 3), 0, -1.0, False, (0, 3)], [(0, 3), 3, -1.0, False, (0, 2)], [(0, 2), 2, -1.0, False, (0, 2)], [(0, 2), 1, -1.0, False, (0, 3)], [(0, 3), 2, -1.0, False, (1, 3)], [(1, 3), 0, -1.0, False, (0, 3)], [(0, 3), 2, -1.0, False, (1, 3)], [(1, 3), 0, -1.0, False, (0, 3)], [(0, 3), 1, -1.0, False, (0, 4)], [(0, 4), 1, -1.0, False, (0, 4)], [(0, 4), 1, -1.0, False, (0, 4)], [(0, 4), 3, -1.0, False, (0, 3)], [(0, 3), 1, -1.0, False, (0, 4)], [(0, 4), 3, -1.0, False, (0, 3)], [(0, 3), 2, -1.0, False, (1, 3)], [(1, 3), 1, -1.0, False, (1, 3)], [(1, 3), 2, -1.0, False, (2, 3)], [(2, 3), 0, -1.0, False, (1, 3)], [(1, 3), 3, -1.0, False, (1, 3)], [(1, 3), 1, -1.0, False, (1, 3)], [(1, 3), 2, -1.0, False, (2, 3)], [(2, 3), 2, -1.0, False, (2, 3)], [(2, 3), 2, -1.0, False, (2, 3)], [(2, 3), 1, -1.0, False, (2, 3)], [(2, 3), 1, -1.0, False, (2, 3)], [(2, 3), 2, -1.0, False, (2, 3)], [(2, 3), 2, -1.0, False, (2, 3)], [(2, 3), 0, -1.0, False, (1, 3)], [(1, 3), 2, -1.0, False, (2, 3)], [(2, 3), 3, -1.0, False, (2, 2)], [(2, 2), 2, -1.0, False, (2, 2)], [(2, 2), 3, -1.0, False, (2, 2)], [(2, 2), 1, -1.0, False, (2, 3)], [(2, 3), 0, -1.0, False, (1, 3)], [(1, 3), 3, -1.0, False, (1, 3)], [(1, 3), 2, -1.0, False, (2, 3)], [(2, 3), 3, -1.0, False, (2, 2)], [(2, 2), 3, -1.0, False, (2, 2)], [(2, 2), 1, -1.0, False, (2, 3)], [(2, 3), 3, -1.0, False, (2, 2)], [(2, 2), 3, -1.0, False, (2, 2)], [(2, 2), 0, -1.0, False, (1, 2)], [(1, 2), 3, -1.0, False, (1, 2)], [(1, 2), 1, -1.0, False, (1, 2)], [(1, 2), 0, -1.0, False, (1, 2)], [(1, 2), 2, -1.0, False, (2, 2)], [(2, 2), 0, -1.0, False, (1, 2)], [(1, 2), 3, -1.0, False, (1, 2)], [(1, 2), 1, -1.0, False, (1, 2)], [(1, 2), 3, -1.0, False, (1, 2)], [(1, 2), 2, -1.0, False, (2, 2)], [(2, 2), 1, -1.0, False, (2, 3)], [(2, 3), 1, -1.0, False, (2, 3)], [(2, 3), 2, -1.0, False, (2, 3)], [(2, 3), 2, -1.0, False, (2, 3)], [(2, 3), 1, -1.0, False, (2, 3)], [(2, 3), 2, -1.0, False, (2, 3)], [(2, 3), 0, -1.0, False, (1, 3)], [(1, 3), 0, -1.0, False, (0, 3)], [(0, 3), 3, -1.0, False, (0, 2)], [(0, 2), 2, -1.0, False, (0, 2)], [(0, 2), 1, -1.0, False, (0, 3)], [(0, 3), 2, -1.0, False, (1, 3)], [(1, 3), 3, -1.0, False, (1, 3)], [(1, 3), 3, -1.0, False, (1, 3)], [(1, 3), 0, -1.0, False, (0, 3)], [(0, 3), 1, -1.0, False, (0, 4)], [(0, 4), 1, -1.0, False, (0, 4)], [(0, 4), 1, -1.0, False, (0, 4)], [(0, 4), 0, -1.0, False, (0, 4)], [(0, 4), 2, -1.0, False, (1, 4)], [(1, 4), 2, -1.0, False, (2, 4)], [(2, 4), 1, -1.0, False, (2, 4)], [(2, 4), 2, -1.0, False, (2, 4)], [(2, 4), 2, -1.0, False, (2, 4)], [(2, 4), 0, -1.0, False, (1, 4)], [(1, 4), 1, -1.0, False, (1, 4)], [(1, 4), 1, -1.0, False, (1, 4)], [(1, 4), 3, -1.0, False, (1, 4)], [(1, 4), 2, -1.0, False, (2, 4)], [(2, 4), 1, -1.0, False, (2, 4)], [(2, 4), 1, -1.0, False, (2, 4)], [(2, 4), 0, -1.0, False, (1, 4)], [(1, 4), 2, -1.0, False, (2, 4)], [(2, 4), 2, -1.0, False, (2, 4)], [(2, 4), 1, -1.0, False, (2, 4)], [(2, 4), 0, -1.0, False, (1, 4)], [(1, 4), 2, -1.0, False, (2, 4)], [(2, 4), 1, -1.0, False, (2, 4)], [(2, 4), 2, -1.0, False, (2, 4)], [(2, 4), 3, -1.0, False, (2, 4)], [(2, 4), 3, -1.0, False, (2, 4)], [(2, 4), 2, -1.0, False, (2, 4)], [(2, 4), 1, -1.0, False, (2, 4)], [(2, 4), 3, -1.0, False, (2, 4)], [(2, 4), 1, -1.0, False, (2, 4)], [(2, 4), 0, -1.0, False, (1, 4)], [(1, 4), 2, -1.0, False, (2, 4)], [(2, 4), 0, -1.0, False, (1, 4)], [(1, 4), 0, -1.0, False, (0, 4)], [(0, 4), 2, -1.0, False, (1, 4)], [(1, 4), 3, -1.0, False, (1, 4)], [(1, 4), 2, -1.0, False, (2, 4)], [(2, 4), 1, -1.0, False, (2, 4)], [(2, 4), 0, -1.0, False, (1, 4)], [(1, 4), 0, -1.0, False, (0, 4)], [(0, 4), 0, -1.0, False, (0, 4)], [(0, 4), 3, -1.0, False, (0, 3)], [(0, 3), 0, -1.0, False, (0, 3)], [(0, 3), 1, -1.0, False, (0, 4)], [(0, 4), 2, -1.0, False, (1, 4)], [(1, 4), 1, -1.0, False, (1, 4)], [(1, 4), 1, -1.0, False, (1, 4)], [(1, 4), 1, -1.0, False, (1, 4)], [(1, 4), 2, -1.0, False, (2, 4)], [(2, 4), 0, -1.0, False, (1, 4)], [(1, 4), 1, -1.0, False, (1, 4)], [(1, 4), 0, -1.0, False, (0, 4)], [(0, 4), 1, -1.0, False, (0, 4)], [(0, 4), 3, -1.0, False, (0, 3)], [(0, 3), 0, -1.0, False, (0, 3)], [(0, 3), 3, -1.0, False, (0, 2)], [(0, 2), 0, -1.0, False, (0, 2)], [(0, 2), 1, -1.0, False, (0, 3)], [(0, 3), 1, -1.0, False, (0, 4)], [(0, 4), 0, -1.0, False, (0, 4)], [(0, 4), 0, -1.0, False, (0, 4)], [(0, 4), 2, -1.0, False, (1, 4)], [(1, 4), 0, -1.0, False, (0, 4)], [(0, 4), 0, -1.0, False, (0, 4)], [(0, 4), 2, -1.0, False, (1, 4)], [(1, 4), 0, -1.0, False, (0, 4)], [(0, 4), 0, -1.0, False, (0, 4)], [(0, 4), 1, -1.0, False, (0, 4)], [(0, 4), 1, -1.0, False, (0, 4)], [(0, 4), 3, -1.0, False, (0, 3)], [(0, 3), 1, -1.0, False, (0, 4)], [(0, 4), 2, -1.0, False, (1, 4)], [(1, 4), 1, -1.0, False, (1, 4)], [(1, 4), 2, -1.0, False, (2, 4)], [(2, 4), 1, -1.0, False, (2, 4)], [(2, 4), 3, -1.0, False, (2, 4)], [(2, 4), 3, -1.0, False, (2, 4)], [(2, 4), 0, -1.0, False, (1, 4)], [(1, 4), 1, -1.0, False, (1, 4)], [(1, 4), 1, -1.0, False, (1, 4)], [(1, 4), 3, -1.0, False, (1, 4)], [(1, 4), 2, -1.0, False, (2, 4)], [(2, 4), 2, -1.0, False, (2, 4)], [(2, 4), 1, -1.0, False, (2, 4)], [(2, 4), 1, -1.0, False, (2, 4)], [(2, 4), 0, -1.0, False, (1, 4)], [(1, 4), 2, -1.0, False, (2, 4)], [(2, 4), 2, -1.0, False, (2, 4)], [(2, 4), 0, -1.0, False, (1, 4)], [(1, 4), 2, -1.0, False, (2, 4)], [(2, 4), 3, -1.0, False, (2, 4)], [(2, 4), 1, -1.0, False, (2, 4)], [(2, 4), 2, -1.0, False, (2, 4)], [(2, 4), 3, -1.0, False, (2, 4)], [(2, 4), 3, -1.0, False, (2, 4)], [(2, 4), 0, -1.0, False, (1, 4)], [(1, 4), 2, -1.0, False, (2, 4)], [(2, 4), 3, -1.0, False, (2, 4)], [(2, 4), 3, -1.0, False, (2, 4)], [(2, 4), 1, -1.0, False, (2, 4)], [(2, 4), 2, -1.0, False, (2, 4)], [(2, 4), 2, -1.0, False, (2, 4)], [(2, 4), 1, -1.0, False, (2, 4)], [(2, 4), 2, -1.0, False, (2, 4)], [(2, 4), 3, -1.0, False, (2, 4)], [(2, 4), 0, -1.0, False, (1, 4)], [(1, 4), 2, -1.0, False, (2, 4)], [(2, 4), 0, -1.0, False, (1, 4)], [(1, 4), 2, -1.0, False, (2, 4)], [(2, 4), 1, -1.0, False, (2, 4)], [(2, 4), 3, -1.0, False, (2, 4)], [(2, 4), 3, -1.0, False, (2, 4)], [(2, 4), 2, -1.0, False, (2, 4)], [(2, 4), 2, -1.0, False, (2, 4)], [(2, 4), 0, -1.0, False, (1, 4)], [(1, 4), 3, -1.0, False, (1, 4)], [(1, 4), 3, -1.0, False, (1, 4)], [(1, 4), 2, -1.0, False, (2, 4)], [(2, 4), 0, -1.0, False, (1, 4)], [(1, 4), 0, -1.0, False, (0, 4)], [(0, 4), 3, -1.0, False, (0, 3)], [(0, 3), 1, -1.0, False, (0, 4)], [(0, 4), 3, -1.0, False, (0, 3)], [(0, 3), 0, -1.0, False, (0, 3)], [(0, 3), 2, -1.0, False, (1, 3)], [(1, 3), 3, -1.0, False, (1, 3)], [(1, 3), 3, -1.0, False, (1, 3)], [(1, 3), 2, -1.0, False, (2, 3)], [(2, 3), 2, -1.0, False, (2, 3)], [(2, 3), 3, -1.0, False, (2, 2)], [(2, 2), 2, -1.0, False, (2, 2)], [(2, 2), 1, -1.0, False, (2, 3)], [(2, 3), 0, -1.0, False, (1, 3)], [(1, 3), 1, -1.0, False, (1, 3)], [(1, 3), 3, -1.0, False, (1, 3)], [(1, 3), 0, -1.0, False, (0, 3)], [(0, 3), 2, -1.0, False, (1, 3)], [(1, 3), 0, -1.0, False, (0, 3)], [(0, 3), 0, -1.0, False, (0, 3)], [(0, 3), 2, -1.0, False, (1, 3)], [(1, 3), 2, -1.0, False, (2, 3)], [(2, 3), 0, -1.0, False, (1, 3)], [(1, 3), 1, -1.0, False, (1, 3)], [(1, 3), 3, -1.0, False, (1, 3)], [(1, 3), 3, -1.0, False, (1, 3)], [(1, 3), 3, -1.0, False, (1, 3)], [(1, 3), 1, -1.0, False, (1, 3)], [(1, 3), 2, -1.0, False, (2, 3)], [(2, 3), 2, -1.0, False, (2, 3)], [(2, 3), 1, -1.0, False, (2, 3)], [(2, 3), 2, -1.0, False, (2, 3)], [(2, 3), 3, -1.0, False, (2, 2)], [(2, 2), 3, -1.0, False, (2, 2)], [(2, 2), 0, -1.0, False, (1, 2)], [(1, 2), 2, -1.0, False, (2, 2)], [(2, 2), 1, -1.0, False, (2, 3)], [(2, 3), 2, -1.0, False, (2, 3)], [(2, 3), 2, -1.0, False, (2, 3)], [(2, 3), 1, -1.0, False, (2, 3)], [(2, 3), 0, -1.0, False, (1, 3)], [(1, 3), 1, -1.0, False, (1, 3)], [(1, 3), 2, -1.0, False, (2, 3)], [(2, 3), 3, -1.0, False, (2, 2)], [(2, 2), 2, -1.0, False, (2, 2)], [(2, 2), 3, -1.0, False, (2, 2)], [(2, 2), 2, -1.0, False, (2, 2)], [(2, 2), 0, -1.0, False, (1, 2)], [(1, 2), 1, -1.0, False, (1, 2)], [(1, 2), 1, -1.0, False, (1, 2)], [(1, 2), 3, -1.0, False, (1, 2)], [(1, 2), 2, -1.0, False, (2, 2)], [(2, 2), 1, -1.0, False, (2, 3)], [(2, 3), 2, -1.0, False, (2, 3)], [(2, 3), 2, -1.0, False, (2, 3)], [(2, 3), 2, -1.0, False, (2, 3)], [(2, 3), 1, -1.0, False, (2, 3)], [(2, 3), 2, -1.0, False, (2, 3)], [(2, 3), 1, -1.0, False, (2, 3)], [(2, 3), 3, -1.0, False, (2, 2)], [(2, 2), 1, -1.0, False, (2, 3)], [(2, 3), 0, -1.0, False, (1, 3)], [(1, 3), 0, -1.0, False, (0, 3)], [(0, 3), 1, -1.0, False, (0, 4)], [(0, 4), 0, -1.0, False, (0, 4)], [(0, 4), 3, -1.0, False, (0, 3)], [(0, 3), 0, -1.0, False, (0, 3)], [(0, 3), 3, -1.0, False, (0, 2)], [(0, 2), 0, -1.0, False, (0, 2)], [(0, 2), 3, -1.0, False, (0, 1)], [(0, 1), 0, -1.0, False, (0, 1)], [(0, 1), 0, -1.0, False, (0, 1)], [(0, 1), 1, -1.0, False, (0, 2)], [(0, 2), 0, -1.0, False, (0, 2)], [(0, 2), 0, -1.0, False, (0, 2)], [(0, 2), 2, -1.0, False, (0, 2)], [(0, 2), 2, -1.0, False, (0, 2)], [(0, 2), 0, -1.0, False, (0, 2)], [(0, 2), 0, -1.0, False, (0, 2)], [(0, 2), 3, -1.0, False, (0, 1)], [(0, 1), 2, -1.0, False, (1, 1)], [(1, 1), 2, -1.0, False, (2, 1)], [(2, 1), 3, -1.0, False, (2, 1)], [(2, 1), 0, -1.0, False, (1, 1)], [(1, 1), 2, -1.0, False, (2, 1)], [(2, 1), 3, -1.0, False, (2, 1)], [(2, 1), 3, -1.0, False, (2, 1)], [(2, 1), 1, -1.0, False, (2, 1)], [(2, 1), 0, -1.0, False, (1, 1)], [(1, 1), 2, -1.0, False, (2, 1)], [(2, 1), 3, -1.0, False, (2, 1)], [(2, 1), 2, -1.0, False, (3, 1)], [(3, 1), 2, -1.0, False, (3, 1)], [(3, 1), 0, -1.0, False, (2, 1)], [(2, 1), 3, -1.0, False, (2, 1)], [(2, 1), 2, -1.0, False, (3, 1)], [(3, 1), 3, -1.0, False, (3, 1)], [(3, 1), 0, -1.0, False, (2, 1)], [(2, 1), 2, -1.0, False, (3, 1)], [(3, 1), 3, -1.0, False, (3, 1)], [(3, 1), 2, -1.0, False, (3, 1)], [(3, 1), 1, -1.0, False, (3, 1)], [(3, 1), 2, -1.0, False, (3, 1)], [(3, 1), 2, -1.0, False, (3, 1)], [(3, 1), 0, -1.0, False, (2, 1)], [(2, 1), 1, -1.0, False, (2, 1)], [(2, 1), 2, -1.0, False, (3, 1)], [(3, 1), 3, -1.0, False, (3, 1)], [(3, 1), 0, -1.0, False, (2, 1)], [(2, 1), 1, -1.0, False, (2, 1)], [(2, 1), 1, -1.0, False, (2, 1)], [(2, 1), 2, -1.0, False, (3, 1)], [(3, 1), 3, -1.0, False, (3, 1)], [(3, 1), 1, -1.0, False, (3, 1)], [(3, 1), 0, -1.0, False, (2, 1)], [(2, 1), 1, -1.0, False, (2, 1)], [(2, 1), 0, -1.0, False, (1, 1)], [(1, 1), 3, -1.0, False, (1, 1)], [(1, 1), 0, -1.0, False, (0, 1)], [(0, 1), 2, -1.0, False, (1, 1)], [(1, 1), 2, -1.0, False, (2, 1)], [(2, 1), 0, -1.0, False, (1, 1)], [(1, 1), 3, -1.0, False, (1, 1)], [(1, 1), 3, -1.0, False, (1, 1)], [(1, 1), 2, -1.0, False, (2, 1)], [(2, 1), 3, -1.0, False, (2, 1)], [(2, 1), 1, -1.0, False, (2, 1)], [(2, 1), 2, -1.0, False, (3, 1)], [(3, 1), 0, -1.0, False, (2, 1)], [(2, 1), 2, -1.0, False, (3, 1)], [(3, 1), 1, -1.0, False, (3, 1)], [(3, 1), 1, -1.0, False, (3, 1)], [(3, 1), 2, -1.0, False, (3, 1)], [(3, 1), 2, -1.0, False, (3, 1)], [(3, 1), 0, -1.0, False, (2, 1)], [(2, 1), 3, -1.0, False, (2, 1)], [(2, 1), 0, -1.0, False, (1, 1)], [(1, 1), 2, -1.0, False, (2, 1)], [(2, 1), 2, -1.0, False, (3, 1)], [(3, 1), 2, -1.0, False, (3, 1)], [(3, 1), 0, -1.0, False, (2, 1)], [(2, 1), 2, -1.0, False, (3, 1)], [(3, 1), 2, -1.0, False, (3, 1)], [(3, 1), 3, -1.0, False, (3, 1)], [(3, 1), 0, -1.0, False, (2, 1)], [(2, 1), 3, -1.0, False, (2, 1)], [(2, 1), 0, -1.0, False, (1, 1)], [(1, 1), 1, -1.0, False, (1, 1)], [(1, 1), 0, -1.0, False, (0, 1)], [(0, 1), 2, -1.0, False, (1, 1)], [(1, 1), 1, -1.0, False, (1, 1)], [(1, 1), 3, -1.0, False, (1, 1)], [(1, 1), 3, -1.0, False, (1, 1)], [(1, 1), 0, -1.0, False, (0, 1)], [(0, 1), 1, -1.0, False, (0, 2)], [(0, 2), 2, -1.0, False, (0, 2)], [(0, 2), 3, -1.0, False, (0, 1)], [(0, 1), 3, -1.0, False, (0, 0)], [(0, 0), 0, -1.0, False, (0, 0)], [(0, 0), 0, -1.0, False, (0, 0)], [(0, 0), 1, -1.0, False, (0, 1)], [(0, 1), 0, -1.0, False, (0, 1)], [(0, 1), 2, -1.0, False, (1, 1)], [(1, 1), 2, -1.0, False, (2, 1)], [(2, 1), 0, -1.0, False, (1, 1)], [(1, 1), 0, -1.0, False, (0, 1)], [(0, 1), 0, -1.0, False, (0, 1)], [(0, 1), 3, -1.0, False, (0, 0)], [(0, 0), 1, -1.0, False, (0, 1)], [(0, 1), 2, -1.0, False, (1, 1)], [(1, 1), 2, -1.0, False, (2, 1)], [(2, 1), 3, -1.0, False, (2, 1)], [(2, 1), 1, -1.0, False, (2, 1)], [(2, 1), 0, -1.0, False, (1, 1)], [(1, 1), 3, -1.0, False, (1, 1)], [(1, 1), 3, -1.0, False, (1, 1)], [(1, 1), 3, -1.0, False, (1, 1)], [(1, 1), 0, -1.0, False, (0, 1)], [(0, 1), 0, -1.0, False, (0, 1)], [(0, 1), 3, -1.0, False, (0, 0)], [(0, 0), 0, -1.0, False, (0, 0)], [(0, 0), 1, -1.0, False, (0, 1)], [(0, 1), 3, -1.0, False, (0, 0)], [(0, 0), 3, -1.0, False, (0, 0)], [(0, 0), 2, -1.0, False, (1, 0)], [(1, 0), 2, -1.0, False, (2, 0)], [(2, 0), 1, -1.0, False, (2, 0)], [(2, 0), 1, -1.0, False, (2, 0)], [(2, 0), 1, -1.0, False, (2, 0)], [(2, 0), 0, -1.0, False, (1, 0)], [(1, 0), 2, -1.0, False, (2, 0)], [(2, 0), 2, -1.0, False, (3, 0)], [(3, 0), 0, -1.0, False, (2, 0)], [(2, 0), 3, -1.0, False, (2, 0)], [(2, 0), 2, -1.0, False, (3, 0)], [(3, 0), 3, -1.0, False, (3, 0)], [(3, 0), 3, -1.0, False, (3, 0)], [(3, 0), 1, -1.0, False, (3, 0)], [(3, 0), 0, -1.0, False, (2, 0)], [(2, 0), 3, -1.0, False, (2, 0)], [(2, 0), 2, -1.0, False, (3, 0)], [(3, 0), 3, -1.0, False, (3, 0)], [(3, 0), 1, -1.0, False, (3, 0)], [(3, 0), 1, -1.0, False, (3, 0)], [(3, 0), 1, -1.0, False, (3, 0)], [(3, 0), 3, -1.0, False, (3, 0)], [(3, 0), 3, -1.0, False, (3, 0)], [(3, 0), 0, -1.0, False, (2, 0)], [(2, 0), 0, -1.0, False, (1, 0)], [(1, 0), 1, -1.0, False, (1, 0)], [(1, 0), 1, -1.0, False, (1, 0)], [(1, 0), 0, -1.0, False, (0, 0)], [(0, 0), 2, -1.0, False, (1, 0)], [(1, 0), 3, -1.0, False, (1, 0)], [(1, 0), 0, -1.0, False, (0, 0)], [(0, 0), 2, -1.0, False, (1, 0)], [(1, 0), 1, -1.0, False, (1, 0)], [(1, 0), 0, -1.0, False, (0, 0)], [(0, 0), 3, -1.0, False, (0, 0)], [(0, 0), 3, -1.0, False, (0, 0)], [(0, 0), 2, -1.0, False, (1, 0)], [(1, 0), 3, -1.0, False, (1, 0)], [(1, 0), 1, -1.0, False, (1, 0)], [(1, 0), 0, -1.0, False, (0, 0)], [(0, 0), 2, -1.0, False, (1, 0)], [(1, 0), 3, -1.0, False, (1, 0)], [(1, 0), 2, -1.0, False, (2, 0)], [(2, 0), 0, -1.0, False, (1, 0)], [(1, 0), 0, -1.0, False, (0, 0)], [(0, 0), 2, -1.0, False, (1, 0)], [(1, 0), 3, -1.0, False, (1, 0)], [(1, 0), 1, -1.0, False, (1, 0)], [(1, 0), 1, -1.0, False, (1, 0)], [(1, 0), 3, -1.0, False, (1, 0)], [(1, 0), 3, -1.0, False, (1, 0)], [(1, 0), 1, -1.0, False, (1, 0)], [(1, 0), 3, -1.0, False, (1, 0)], [(1, 0), 1, -1.0, False, (1, 0)], [(1, 0), 0, -1.0, False, (0, 0)], [(0, 0), 0, -1.0, False, (0, 0)], [(0, 0), 1, -1.0, False, (0, 1)], [(0, 1), 1, -1.0, False, (0, 2)], [(0, 2), 3, -1.0, False, (0, 1)], [(0, 1), 2, -1.0, False, (1, 1)], [(1, 1), 1, -1.0, False, (1, 1)], [(1, 1), 0, -1.0, False, (0, 1)], [(0, 1), 3, -1.0, False, (0, 0)], [(0, 0), 1, -1.0, False, (0, 1)], [(0, 1), 0, -1.0, False, (0, 1)], [(0, 1), 1, -1.0, False, (0, 2)], [(0, 2), 2, -1.0, False, (0, 2)], [(0, 2), 3, -1.0, False, (0, 1)], [(0, 1), 0, -1.0, False, (0, 1)], [(0, 1), 1, -1.0, False, (0, 2)], [(0, 2), 3, -1.0, False, (0, 1)], [(0, 1), 2, -1.0, False, (1, 1)], [(1, 1), 0, -1.0, False, (0, 1)], [(0, 1), 1, -1.0, False, (0, 2)], [(0, 2), 3, -1.0, False, (0, 1)], [(0, 1), 3, -1.0, False, (0, 0)], [(0, 0), 1, -1.0, False, (0, 1)], [(0, 1), 3, -1.0, False, (0, 0)], [(0, 0), 0, -1.0, False, (0, 0)], [(0, 0), 3, -1.0, False, (0, 0)], [(0, 0), 2, -1.0, False, (1, 0)], [(1, 0), 1, -1.0, False, (1, 0)], [(1, 0), 2, -1.0, False, (2, 0)], [(2, 0), 3, -1.0, False, (2, 0)], [(2, 0), 0, -1.0, False, (1, 0)], [(1, 0), 0, -1.0, False, (0, 0)], [(0, 0), 3, -1.0, False, (0, 0)], [(0, 0), 2, -1.0, False, (1, 0)], [(1, 0), 1, -1.0, False, (1, 0)], [(1, 0), 1, -1.0, False, (1, 0)], [(1, 0), 0, -1.0, False, (0, 0)], [(0, 0), 0, -1.0, False, (0, 0)], [(0, 0), 0, -1.0, False, (0, 0)], [(0, 0), 0, -1.0, False, (0, 0)], [(0, 0), 0, -1.0, False, (0, 0)], [(0, 0), 1, -1.0, False, (0, 1)], [(0, 1), 3, -1.0, False, (0, 0)], [(0, 0), 2, -1.0, False, (1, 0)], [(1, 0), 3, -1.0, False, (1, 0)], [(1, 0), 0, -1.0, False, (0, 0)], [(0, 0), 3, -1.0, False, (0, 0)], [(0, 0), 2, -1.0, False, (1, 0)], [(1, 0), 2, -1.0, False, (2, 0)], [(2, 0), 2, -1.0, False, (3, 0)], [(3, 0), 3, -1.0, False, (3, 0)], [(3, 0), 1, -1.0, False, (3, 0)], [(3, 0), 1, -1.0, False, (3, 0)], [(3, 0), 1, -1.0, False, (3, 0)], [(3, 0), 3, -1.0, False, (3, 0)], [(3, 0), 3, -1.0, False, (3, 0)], [(3, 0), 3, -1.0, False, (3, 0)], [(3, 0), 0, -1.0, False, (2, 0)], [(2, 0), 1, -1.0, False, (2, 0)], [(2, 0), 1, -1.0, False, (2, 0)], [(2, 0), 2, -1.0, False, (3, 0)], [(3, 0), 1, -1.0, False, (3, 0)], [(3, 0), 2, -1.0, False, (4, 0)], [(4, 0), 2, -1.0, False, (4, 0)], [(4, 0), 2, -1.0, False, (4, 0)], [(4, 0), 1, -1.0, False, (4, 1)], [(4, 1), 2, -1.0, False, (4, 1)], [(4, 1), 3, -1.0, False, (4, 0)], [(4, 0), 2, -1.0, False, (4, 0)], [(4, 0), 3, -1.0, False, (4, 0)], [(4, 0), 0, -1.0, False, (3, 0)], [(3, 0), 3, -1.0, False, (3, 0)], [(3, 0), 3, -1.0, False, (3, 0)], [(3, 0), 1, -1.0, False, (3, 0)], [(3, 0), 3, -1.0, False, (3, 0)], [(3, 0), 0, -1.0, False, (2, 0)], [(2, 0), 0, -1.0, False, (1, 0)], [(1, 0), 3, -1.0, False, (1, 0)], [(1, 0), 3, -1.0, False, (1, 0)], [(1, 0), 3, -1.0, False, (1, 0)], [(1, 0), 0, -1.0, False, (0, 0)], [(0, 0), 0, -1.0, False, (0, 0)], [(0, 0), 2, -1.0, False, (1, 0)], [(1, 0), 1, -1.0, False, (1, 0)], [(1, 0), 0, -1.0, False, (0, 0)], [(0, 0), 3, -1.0, False, (0, 0)], [(0, 0), 0, -1.0, False, (0, 0)], [(0, 0), 3, -1.0, False, (0, 0)], [(0, 0), 0, -1.0, False, (0, 0)], [(0, 0), 1, -1.0, False, (0, 1)], [(0, 1), 2, -1.0, False, (1, 1)], [(1, 1), 1, -1.0, False, (1, 1)], [(1, 1), 1, -1.0, False, (1, 1)], [(1, 1), 3, -1.0, False, (1, 1)], [(1, 1), 2, -1.0, False, (2, 1)], [(2, 1), 1, -1.0, False, (2, 1)], [(2, 1), 3, -1.0, False, (2, 1)], [(2, 1), 0, -1.0, False, (1, 1)], [(1, 1), 2, -1.0, False, (2, 1)], [(2, 1), 3, -1.0, False, (2, 1)], [(2, 1), 0, -1.0, False, (1, 1)], [(1, 1), 2, -1.0, False, (2, 1)], [(2, 1), 2, -1.0, False, (3, 1)], [(3, 1), 1, -1.0, False, (3, 1)], [(3, 1), 3, -1.0, False, (3, 1)], [(3, 1), 2, -1.0, False, (3, 1)], [(3, 1), 1, -1.0, False, (3, 1)], [(3, 1), 2, -1.0, False, (3, 1)], [(3, 1), 1, -1.0, False, (3, 1)], [(3, 1), 0, -1.0, False, (2, 1)], [(2, 1), 1, -1.0, False, (2, 1)], [(2, 1), 2, -1.0, False, (3, 1)], [(3, 1), 0, -1.0, False, (2, 1)], [(2, 1), 0, -1.0, False, (1, 1)], [(1, 1), 1, -1.0, False, (1, 1)], [(1, 1), 0, -1.0, False, (0, 1)], [(0, 1), 1, -1.0, False, (0, 2)], [(0, 2), 0, -1.0, False, (0, 2)], [(0, 2), 2, -1.0, False, (0, 2)], [(0, 2), 1, -1.0, False, (0, 3)], [(0, 3), 2, -1.0, False, (1, 3)], [(1, 3), 0, -1.0, False, (0, 3)], [(0, 3), 1, -1.0, False, (0, 4)], [(0, 4), 2, -1.0, False, (1, 4)], [(1, 4), 0, -1.0, False, (0, 4)], [(0, 4), 3, -1.0, False, (0, 3)], [(0, 3), 0, -1.0, False, (0, 3)], [(0, 3), 0, -1.0, False, (0, 3)], [(0, 3), 2, -1.0, False, (1, 3)], [(1, 3), 1, -1.0, False, (1, 3)], [(1, 3), 0, -1.0, False, (0, 3)], [(0, 3), 1, -1.0, False, (0, 4)], [(0, 4), 0, -1.0, False, (0, 4)], [(0, 4), 2, -1.0, False, (1, 4)], [(1, 4), 2, -1.0, False, (2, 4)], [(2, 4), 2, -1.0, False, (2, 4)], [(2, 4), 0, -1.0, False, (1, 4)], [(1, 4), 3, -1.0, False, (1, 4)], [(1, 4), 3, -1.0, False, (1, 4)], [(1, 4), 0, -1.0, False, (0, 4)], [(0, 4), 0, -1.0, False, (0, 4)], [(0, 4), 2, -1.0, False, (1, 4)], [(1, 4), 2, -1.0, False, (2, 4)], [(2, 4), 1, -1.0, False, (2, 4)], [(2, 4), 2, -1.0, False, (2, 4)], [(2, 4), 2, -1.0, False, (2, 4)], [(2, 4), 0, -1.0, False, (1, 4)], [(1, 4), 2, -1.0, False, (2, 4)], [(2, 4), 2, -1.0, False, (2, 4)], [(2, 4), 1, -1.0, False, (2, 4)], [(2, 4), 1, -1.0, False, (2, 4)], [(2, 4), 0, -1.0, False, (1, 4)], [(1, 4), 3, -1.0, False, (1, 4)], [(1, 4), 1, -1.0, False, (1, 4)], [(1, 4), 2, -1.0, False, (2, 4)], [(2, 4), 2, -1.0, False, (2, 4)], [(2, 4), 0, -1.0, False, (1, 4)], [(1, 4), 2, -1.0, False, (2, 4)], [(2, 4), 2, -1.0, False, (2, 4)], [(2, 4), 0, -1.0, False, (1, 4)], [(1, 4), 0, -1.0, False, (0, 4)], [(0, 4), 1, -1.0, False, (0, 4)], [(0, 4), 0, -1.0, False, (0, 4)], [(0, 4), 2, -1.0, False, (1, 4)], [(1, 4), 1, -1.0, False, (1, 4)], [(1, 4), 1, -1.0, False, (1, 4)], [(1, 4), 3, -1.0, False, (1, 4)], [(1, 4), 1, -1.0, False, (1, 4)], [(1, 4), 0, -1.0, False, (0, 4)], [(0, 4), 0, -1.0, False, (0, 4)], [(0, 4), 2, -1.0, False, (1, 4)], [(1, 4), 3, -1.0, False, (1, 4)], [(1, 4), 2, -1.0, False, (2, 4)], [(2, 4), 3, -1.0, False, (2, 4)], [(2, 4), 1, -1.0, False, (2, 4)], [(2, 4), 0, -1.0, False, (1, 4)], [(1, 4), 3, -1.0, False, (1, 4)], [(1, 4), 3, -1.0, False, (1, 4)], [(1, 4), 1, -1.0, False, (1, 4)], [(1, 4), 3, -1.0, False, (1, 4)], [(1, 4), 1, -1.0, False, (1, 4)], [(1, 4), 0, -1.0, False, (0, 4)], [(0, 4), 0, -1.0, False, (0, 4)], [(0, 4), 3, -1.0, False, (0, 3)], [(0, 3), 0, -1.0, False, (0, 3)], [(0, 3), 0, -1.0, False, (0, 3)], [(0, 3), 3, -1.0, False, (0, 2)], [(0, 2), 0, -1.0, False, (0, 2)], [(0, 2), 0, -1.0, False, (0, 2)], [(0, 2), 0, -1.0, False, (0, 2)], [(0, 2), 0, -1.0, False, (0, 2)], [(0, 2), 0, -1.0, False, (0, 2)], [(0, 2), 1, -1.0, False, (0, 3)], [(0, 3), 2, -1.0, False, (1, 3)], [(1, 3), 2, -1.0, False, (2, 3)], [(2, 3), 3, -1.0, False, (2, 2)], [(2, 2), 2, -1.0, False, (2, 2)], [(2, 2), 1, -1.0, False, (2, 3)], [(2, 3), 1, -1.0, False, (2, 3)], [(2, 3), 1, -1.0, False, (2, 3)], [(2, 3), 3, -1.0, False, (2, 2)], [(2, 2), 2, -1.0, False, (2, 2)], [(2, 2), 3, -1.0, False, (2, 2)], [(2, 2), 0, -1.0, False, (1, 2)], [(1, 2), 2, -1.0, False, (2, 2)], [(2, 2), 3, -1.0, False, (2, 2)], [(2, 2), 3, -1.0, False, (2, 2)], [(2, 2), 3, -1.0, False, (2, 2)], [(2, 2), 0, -1.0, False, (1, 2)], [(1, 2), 0, -1.0, False, (1, 2)], [(1, 2), 0, -1.0, False, (1, 2)], [(1, 2), 1, -1.0, False, (1, 2)], [(1, 2), 0, -1.0, False, (1, 2)], [(1, 2), 2, -1.0, False, (2, 2)], [(2, 2), 1, -1.0, False, (2, 3)], [(2, 3), 3, -1.0, False, (2, 2)], [(2, 2), 0, -1.0, False, (1, 2)], [(1, 2), 2, -1.0, False, (2, 2)], [(2, 2), 2, -1.0, False, (2, 2)], [(2, 2), 2, -1.0, False, (2, 2)], [(2, 2), 0, -1.0, False, (1, 2)], [(1, 2), 0, -1.0, False, (1, 2)], [(1, 2), 2, -1.0, False, (2, 2)], [(2, 2), 1, -1.0, False, (2, 3)], [(2, 3), 2, -1.0, False, (2, 3)], [(2, 3), 3, -1.0, False, (2, 2)], [(2, 2), 0, -1.0, False, (1, 2)], [(1, 2), 2, -1.0, False, (2, 2)], [(2, 2), 0, -1.0, False, (1, 2)], [(1, 2), 1, -1.0, False, (1, 2)], [(1, 2), 2, -1.0, False, (2, 2)], [(2, 2), 3, -1.0, False, (2, 2)], [(2, 2), 3, -1.0, False, (2, 2)], [(2, 2), 3, -1.0, False, (2, 2)], [(2, 2), 3, -1.0, False, (2, 2)], [(2, 2), 2, -1.0, False, (2, 2)], [(2, 2), 3, -1.0, False, (2, 2)], [(2, 2), 2, -1.0, False, (2, 2)], [(2, 2), 3, -1.0, False, (2, 2)], [(2, 2), 2, -1.0, False, (2, 2)], [(2, 2), 0, -1.0, False, (1, 2)], [(1, 2), 3, -1.0, False, (1, 2)], [(1, 2), 3, -1.0, False, (1, 2)], [(1, 2), 2, -1.0, False, (2, 2)], [(2, 2), 1, -1.0, False, (2, 3)], [(2, 3), 3, -1.0, False, (2, 2)], [(2, 2), 3, -1.0, False, (2, 2)], [(2, 2), 0, -1.0, False, (1, 2)], [(1, 2), 3, -1.0, False, (1, 2)], [(1, 2), 3, -1.0, False, (1, 2)], [(1, 2), 1, -1.0, False, (1, 2)], [(1, 2), 1, -1.0, False, (1, 2)], [(1, 2), 3, -1.0, False, (1, 2)], [(1, 2), 1, -1.0, False, (1, 2)], [(1, 2), 1, -1.0, False, (1, 2)], [(1, 2), 1, -1.0, False, (1, 2)], [(1, 2), 3, -1.0, False, (1, 2)], [(1, 2), 3, -1.0, False, (1, 2)], [(1, 2), 0, -1.0, False, (1, 2)], [(1, 2), 1, -1.0, False, (1, 2)], [(1, 2), 3, -1.0, False, (1, 2)], [(1, 2), 0, -1.0, False, (1, 2)], [(1, 2), 0, -1.0, False, (1, 2)], [(1, 2), 0, -1.0, False, (1, 2)], [(1, 2), 0, -1.0, False, (1, 2)], [(1, 2), 3, -1.0, False, (1, 2)], [(1, 2), 1, -1.0, False, (1, 2)], [(1, 2), 0, -1.0, False, (1, 2)], [(1, 2), 1, -1.0, False, (1, 2)], [(1, 2), 2, -1.0, False, (2, 2)], [(2, 2), 3, -1.0, False, (2, 2)], [(2, 2), 0, -1.0, False, (1, 2)], [(1, 2), 0, -1.0, False, (1, 2)], [(1, 2), 0, -1.0, False, (1, 2)], [(1, 2), 2, -1.0, False, (2, 2)], [(2, 2), 3, -1.0, False, (2, 2)], [(2, 2), 0, -1.0, False, (1, 2)], [(1, 2), 3, -1.0, False, (1, 2)], [(1, 2), 3, -1.0, False, (1, 2)], [(1, 2), 2, -1.0, False, (2, 2)], [(2, 2), 2, -1.0, False, (2, 2)], [(2, 2), 1, -1.0, False, (2, 3)], [(2, 3), 1, -1.0, False, (2, 3)], [(2, 3), 0, -1.0, False, (1, 3)], [(1, 3), 1, -1.0, False, (1, 3)], [(1, 3), 3, -1.0, False, (1, 3)], [(1, 3), 0, -1.0, False, (0, 3)], [(0, 3), 1, -1.0, False, (0, 4)], [(0, 4), 1, -1.0, False, (0, 4)], [(0, 4), 1, -1.0, False, (0, 4)], [(0, 4), 2, -1.0, False, (1, 4)], [(1, 4), 3, -1.0, False, (1, 4)], [(1, 4), 0, -1.0, False, (0, 4)], [(0, 4), 0, -1.0, False, (0, 4)], [(0, 4), 1, -1.0, False, (0, 4)], [(0, 4), 2, -1.0, False, (1, 4)], [(1, 4), 0, -1.0, False, (0, 4)], [(0, 4), 2, -1.0, False, (1, 4)], [(1, 4), 0, -1.0, False, (0, 4)], [(0, 4), 3, -1.0, False, (0, 3)], [(0, 3), 3, -1.0, False, (0, 2)], [(0, 2), 3, -1.0, False, (0, 1)], [(0, 1), 2, -1.0, False, (1, 1)], [(1, 1), 0, -1.0, False, (0, 1)], [(0, 1), 1, -1.0, False, (0, 2)], [(0, 2), 3, -1.0, False, (0, 1)], [(0, 1), 0, -1.0, False, (0, 1)], [(0, 1), 3, -1.0, False, (0, 0)], [(0, 0), 2, -1.0, False, (1, 0)], [(1, 0), 0, -1.0, False, (0, 0)], [(0, 0), 3, -1.0, False, (0, 0)], [(0, 0), 1, -1.0, False, (0, 1)], [(0, 1), 0, -1.0, False, (0, 1)], [(0, 1), 2, -1.0, False, (1, 1)], [(1, 1), 2, -1.0, False, (2, 1)], [(2, 1), 3, -1.0, False, (2, 1)], [(2, 1), 0, -1.0, False, (1, 1)], [(1, 1), 1, -1.0, False, (1, 1)], [(1, 1), 2, -1.0, False, (2, 1)], [(2, 1), 0, -1.0, False, (1, 1)], [(1, 1), 3, -1.0, False, (1, 1)], [(1, 1), 3, -1.0, False, (1, 1)], [(1, 1), 0, -1.0, False, (0, 1)], [(0, 1), 3, -1.0, False, (0, 0)], [(0, 0), 0, -1.0, False, (0, 0)], [(0, 0), 2, -1.0, False, (1, 0)], [(1, 0), 2, -1.0, False, (2, 0)], [(2, 0), 1, -1.0, False, (2, 0)], [(2, 0), 1, -1.0, False, (2, 0)], [(2, 0), 1, -1.0, False, (2, 0)], [(2, 0), 3, -1.0, False, (2, 0)], [(2, 0), 3, -1.0, False, (2, 0)], [(2, 0), 1, -1.0, False, (2, 0)], [(2, 0), 0, -1.0, False, (1, 0)], [(1, 0), 0, -1.0, False, (0, 0)], [(0, 0), 1, -1.0, False, (0, 1)], [(0, 1), 2, -1.0, False, (1, 1)], [(1, 1), 1, -1.0, False, (1, 1)], [(1, 1), 2, -1.0, False, (2, 1)], [(2, 1), 3, -1.0, False, (2, 1)], [(2, 1), 2, -1.0, False, (3, 1)], [(3, 1), 1, -1.0, False, (3, 1)], [(3, 1), 1, -1.0, False, (3, 1)], [(3, 1), 3, -1.0, False, (3, 1)], [(3, 1), 3, -1.0, False, (3, 1)], [(3, 1), 3, -1.0, False, (3, 1)], [(3, 1), 1, -1.0, False, (3, 1)], [(3, 1), 2, -1.0, False, (3, 1)], [(3, 1), 3, -1.0, False, (3, 1)], [(3, 1), 1, -1.0, False, (3, 1)], [(3, 1), 1, -1.0, False, (3, 1)], [(3, 1), 1, -1.0, False, (3, 1)], [(3, 1), 2, -1.0, False, (3, 1)], [(3, 1), 1, -1.0, False, (3, 1)], [(3, 1), 1, -1.0, False, (3, 1)], [(3, 1), 3, -1.0, False, (3, 1)], [(3, 1), 3, -1.0, False, (3, 1)], [(3, 1), 3, -1.0, False, (3, 1)], [(3, 1), 3, -1.0, False, (3, 1)], [(3, 1), 2, -1.0, False, (3, 1)], [(3, 1), 1, -1.0, False, (3, 1)], [(3, 1), 0, -1.0, False, (2, 1)], [(2, 1), 2, -1.0, False, (3, 1)], [(3, 1), 3, -1.0, False, (3, 1)], [(3, 1), 3, -1.0, False, (3, 1)], [(3, 1), 2, -1.0, False, (3, 1)], [(3, 1), 2, -1.0, False, (3, 1)], [(3, 1), 2, -1.0, False, (3, 1)], [(3, 1), 0, -1.0, False, (2, 1)], [(2, 1), 3, -1.0, False, (2, 1)], [(2, 1), 2, -1.0, False, (3, 1)], [(3, 1), 1, -1.0, False, (3, 1)], [(3, 1), 3, -1.0, False, (3, 1)], [(3, 1), 1, -1.0, False, (3, 1)], [(3, 1), 2, -1.0, False, (3, 1)], [(3, 1), 1, -1.0, False, (3, 1)], [(3, 1), 3, -1.0, False, (3, 1)], [(3, 1), 2, -1.0, False, (3, 1)], [(3, 1), 3, -1.0, False, (3, 1)], [(3, 1), 3, -1.0, False, (3, 1)], [(3, 1), 1, -1.0, False, (3, 1)], [(3, 1), 3, -1.0, False, (3, 1)], [(3, 1), 2, -1.0, False, (3, 1)], [(3, 1), 2, -1.0, False, (3, 1)], [(3, 1), 2, -1.0, False, (3, 1)], [(3, 1), 0, -1.0, False, (2, 1)], [(2, 1), 3, -1.0, False, (2, 1)], [(2, 1), 1, -1.0, False, (2, 1)], [(2, 1), 1, -1.0, False, (2, 1)], [(2, 1), 0, -1.0, False, (1, 1)], [(1, 1), 3, -1.0, False, (1, 1)], [(1, 1), 0, -1.0, False, (0, 1)], [(0, 1), 1, -1.0, False, (0, 2)], [(0, 2), 2, -1.0, False, (0, 2)], [(0, 2), 3, -1.0, False, (0, 1)], [(0, 1), 0, -1.0, False, (0, 1)], [(0, 1), 2, -1.0, False, (1, 1)], [(1, 1), 0, -1.0, False, (0, 1)], [(0, 1), 3, -1.0, False, (0, 0)], [(0, 0), 0, -1.0, False, (0, 0)], [(0, 0), 3, -1.0, False, (0, 0)], [(0, 0), 0, -1.0, False, (0, 0)], [(0, 0), 3, -1.0, False, (0, 0)], [(0, 0), 2, -1.0, False, (1, 0)], [(1, 0), 1, -1.0, False, (1, 0)], [(1, 0), 2, -1.0, False, (2, 0)], [(2, 0), 0, -1.0, False, (1, 0)], [(1, 0), 1, -1.0, False, (1, 0)], [(1, 0), 2, -1.0, False, (2, 0)], [(2, 0), 2, -1.0, False, (3, 0)], [(3, 0), 1, -1.0, False, (3, 0)], [(3, 0), 0, -1.0, False, (2, 0)], [(2, 0), 0, -1.0, False, (1, 0)], [(1, 0), 0, -1.0, False, (0, 0)], [(0, 0), 1, -1.0, False, (0, 1)], [(0, 1), 2, -1.0, False, (1, 1)], [(1, 1), 3, -1.0, False, (1, 1)], [(1, 1), 3, -1.0, False, (1, 1)], [(1, 1), 3, -1.0, False, (1, 1)], [(1, 1), 3, -1.0, False, (1, 1)], [(1, 1), 2, -1.0, False, (2, 1)], [(2, 1), 3, -1.0, False, (2, 1)], [(2, 1), 0, -1.0, False, (1, 1)], [(1, 1), 1, -1.0, False, (1, 1)], [(1, 1), 0, -1.0, False, (0, 1)], [(0, 1), 1, -1.0, False, (0, 2)], [(0, 2), 2, -1.0, False, (0, 2)], [(0, 2), 3, -1.0, False, (0, 1)], [(0, 1), 1, -1.0, False, (0, 2)], [(0, 2), 0, -1.0, False, (0, 2)], [(0, 2), 3, -1.0, False, (0, 1)], [(0, 1), 0, -1.0, False, (0, 1)], [(0, 1), 1, -1.0, False, (0, 2)], [(0, 2), 0, -1.0, False, (0, 2)], [(0, 2), 0, -1.0, False, (0, 2)], [(0, 2), 0, -1.0, False, (0, 2)], [(0, 2), 0, -1.0, False, (0, 2)], [(0, 2), 2, -1.0, False, (0, 2)], [(0, 2), 3, -1.0, False, (0, 1)], [(0, 1), 2, -1.0, False, (1, 1)], [(1, 1), 0, -1.0, False, (0, 1)], [(0, 1), 1, -1.0, False, (0, 2)], [(0, 2), 1, -1.0, False, (0, 3)], [(0, 3), 0, -1.0, False, (0, 3)], [(0, 3), 1, -1.0, False, (0, 4)], [(0, 4), 3, -1.0, False, (0, 3)], [(0, 3), 2, -1.0, False, (1, 3)], [(1, 3), 0, -1.0, False, (0, 3)], [(0, 3), 1, -1.0, False, (0, 4)], [(0, 4), 0, -1.0, False, (0, 4)], [(0, 4), 2, -1.0, False, (1, 4)], [(1, 4), 1, -1.0, False, (1, 4)], [(1, 4), 2, -1.0, False, (2, 4)], [(2, 4), 2, -1.0, False, (2, 4)], [(2, 4), 2, -1.0, False, (2, 4)], [(2, 4), 0, -1.0, False, (1, 4)], [(1, 4), 3, -1.0, False, (1, 4)], [(1, 4), 2, -1.0, False, (2, 4)], [(2, 4), 0, -1.0, False, (1, 4)], [(1, 4), 1, -1.0, False, (1, 4)], [(1, 4), 1, -1.0, False, (1, 4)], [(1, 4), 2, -1.0, False, (2, 4)], [(2, 4), 0, -1.0, False, (1, 4)], [(1, 4), 1, -1.0, False, (1, 4)], [(1, 4), 2, -1.0, False, (2, 4)], [(2, 4), 2, -1.0, False, (2, 4)], [(2, 4), 0, -1.0, False, (1, 4)], [(1, 4), 3, -1.0, False, (1, 4)], [(1, 4), 0, -1.0, False, (0, 4)], [(0, 4), 1, -1.0, False, (0, 4)], [(0, 4), 3, -1.0, False, (0, 3)], [(0, 3), 1, -1.0, False, (0, 4)], [(0, 4), 3, -1.0, False, (0, 3)], [(0, 3), 1, -1.0, False, (0, 4)], [(0, 4), 2, -1.0, False, (1, 4)], [(1, 4), 1, -1.0, False, (1, 4)], [(1, 4), 3, -1.0, False, (1, 4)], [(1, 4), 0, -1.0, False, (0, 4)], [(0, 4), 0, -1.0, False, (0, 4)], [(0, 4), 0, -1.0, False, (0, 4)], [(0, 4), 2, -1.0, False, (1, 4)], [(1, 4), 2, -1.0, False, (2, 4)], [(2, 4), 2, -1.0, False, (2, 4)], [(2, 4), 3, -1.0, False, (2, 4)], [(2, 4), 2, -1.0, False, (2, 4)], [(2, 4), 2, -1.0, False, (2, 4)], [(2, 4), 1, -1.0, False, (2, 4)], [(2, 4), 3, -1.0, False, (2, 4)], [(2, 4), 0, -1.0, False, (1, 4)], [(1, 4), 3, -1.0, False, (1, 4)], [(1, 4), 3, -1.0, False, (1, 4)], [(1, 4), 1, -1.0, False, (1, 4)], [(1, 4), 3, -1.0, False, (1, 4)], [(1, 4), 3, -1.0, False, (1, 4)], [(1, 4), 2, -1.0, False, (2, 4)], [(2, 4), 3, -1.0, False, (2, 4)], [(2, 4), 1, -1.0, False, (2, 4)], [(2, 4), 0, -1.0, False, (1, 4)], [(1, 4), 2, -1.0, False, (2, 4)], [(2, 4), 2, -1.0, False, (2, 4)], [(2, 4), 1, -1.0, False, (2, 4)], [(2, 4), 0, -1.0, False, (1, 4)], [(1, 4), 2, -1.0, False, (2, 4)], [(2, 4), 1, -1.0, False, (2, 4)], [(2, 4), 3, -1.0, False, (2, 4)], [(2, 4), 2, -1.0, False, (2, 4)], [(2, 4), 2, -1.0, False, (2, 4)], [(2, 4), 0, -1.0, False, (1, 4)], [(1, 4), 0, -1.0, False, (0, 4)], [(0, 4), 0, -1.0, False, (0, 4)], [(0, 4), 3, -1.0, False, (0, 3)], [(0, 3), 0, -1.0, False, (0, 3)], [(0, 3), 2, -1.0, False, (1, 3)], [(1, 3), 3, -1.0, False, (1, 3)], [(1, 3), 3, -1.0, False, (1, 3)], [(1, 3), 2, -1.0, False, (2, 3)], [(2, 3), 3, -1.0, False, (2, 2)], [(2, 2), 1, -1.0, False, (2, 3)], [(2, 3), 1, -1.0, False, (2, 3)], [(2, 3), 2, -1.0, False, (2, 3)], [(2, 3), 3, -1.0, False, (2, 2)], [(2, 2), 1, -1.0, False, (2, 3)], [(2, 3), 2, -1.0, False, (2, 3)], [(2, 3), 1, -1.0, False, (2, 3)], [(2, 3), 1, -1.0, False, (2, 3)], [(2, 3), 3, -1.0, False, (2, 2)], [(2, 2), 3, -1.0, False, (2, 2)], [(2, 2), 0, -1.0, False, (1, 2)], [(1, 2), 3, -1.0, False, (1, 2)], [(1, 2), 3, -1.0, False, (1, 2)], [(1, 2), 0, -1.0, False, (1, 2)], [(1, 2), 0, -1.0, False, (1, 2)], [(1, 2), 0, -1.0, False, (1, 2)], [(1, 2), 1, -1.0, False, (1, 2)], [(1, 2), 2, -1.0, False, (2, 2)], [(2, 2), 2, -1.0, False, (2, 2)], [(2, 2), 0, -1.0, False, (1, 2)], [(1, 2), 0, -1.0, False, (1, 2)], [(1, 2), 1, -1.0, False, (1, 2)], [(1, 2), 3, -1.0, False, (1, 2)], [(1, 2), 1, -1.0, False, (1, 2)], [(1, 2), 1, -1.0, False, (1, 2)], [(1, 2), 1, -1.0, False, (1, 2)], [(1, 2), 0, -1.0, False, (1, 2)], [(1, 2), 3, -1.0, False, (1, 2)], [(1, 2), 2, -1.0, False, (2, 2)], [(2, 2), 2, -1.0, False, (2, 2)], [(2, 2), 2, -1.0, False, (2, 2)], [(2, 2), 3, -1.0, False, (2, 2)], [(2, 2), 3, -1.0, False, (2, 2)], [(2, 2), 3, -1.0, False, (2, 2)], [(2, 2), 0, -1.0, False, (1, 2)], [(1, 2), 3, -1.0, False, (1, 2)], [(1, 2), 3, -1.0, False, (1, 2)], [(1, 2), 2, -1.0, False, (2, 2)], [(2, 2), 2, -1.0, False, (2, 2)], [(2, 2), 1, -1.0, False, (2, 3)], [(2, 3), 1, -1.0, False, (2, 3)], [(2, 3), 2, -1.0, False, (2, 3)], [(2, 3), 2, -1.0, False, (2, 3)], [(2, 3), 2, -1.0, False, (2, 3)], [(2, 3), 0, -1.0, False, (1, 3)], [(1, 3), 2, -1.0, False, (2, 3)], [(2, 3), 2, -1.0, False, (2, 3)], [(2, 3), 1, -1.0, False, (2, 3)], [(2, 3), 1, -1.0, False, (2, 3)], [(2, 3), 0, -1.0, False, (1, 3)], [(1, 3), 1, -1.0, False, (1, 3)], [(1, 3), 2, -1.0, False, (2, 3)], [(2, 3), 2, -1.0, False, (2, 3)], [(2, 3), 2, -1.0, False, (2, 3)], [(2, 3), 3, -1.0, False, (2, 2)], [(2, 2), 2, -1.0, False, (2, 2)], [(2, 2), 3, -1.0, False, (2, 2)], [(2, 2), 3, -1.0, False, (2, 2)], [(2, 2), 3, -1.0, False, (2, 2)], [(2, 2), 1, -1.0, False, (2, 3)], [(2, 3), 2, -1.0, False, (2, 3)], [(2, 3), 1, -1.0, False, (2, 3)], [(2, 3), 0, -1.0, False, (1, 3)], [(1, 3), 3, -1.0, False, (1, 3)], [(1, 3), 0, -1.0, False, (0, 3)], [(0, 3), 3, -1.0, False, (0, 2)], [(0, 2), 1, -1.0, False, (0, 3)], [(0, 3), 1, -1.0, False, (0, 4)], [(0, 4), 2, -1.0, False, (1, 4)], [(1, 4), 0, -1.0, False, (0, 4)], [(0, 4), 3, -1.0, False, (0, 3)], [(0, 3), 2, -1.0, False, (1, 3)], [(1, 3), 1, -1.0, False, (1, 3)], [(1, 3), 2, -1.0, False, (2, 3)], [(2, 3), 3, -1.0, False, (2, 2)], [(2, 2), 0, -1.0, False, (1, 2)], [(1, 2), 2, -1.0, False, (2, 2)], [(2, 2), 3, -1.0, False, (2, 2)], [(2, 2), 3, -1.0, False, (2, 2)], [(2, 2), 3, -1.0, False, (2, 2)], [(2, 2), 3, -1.0, False, (2, 2)], [(2, 2), 3, -1.0, False, (2, 2)], [(2, 2), 0, -1.0, False, (1, 2)], [(1, 2), 1, -1.0, False, (1, 2)], [(1, 2), 1, -1.0, False, (1, 2)], [(1, 2), 3, -1.0, False, (1, 2)], [(1, 2), 0, -1.0, False, (1, 2)], [(1, 2), 0, -1.0, False, (1, 2)], [(1, 2), 1, -1.0, False, (1, 2)], [(1, 2), 3, -1.0, False, (1, 2)], [(1, 2), 0, -1.0, False, (1, 2)], [(1, 2), 1, -1.0, False, (1, 2)], [(1, 2), 1, -1.0, False, (1, 2)], [(1, 2), 0, -1.0, False, (1, 2)], [(1, 2), 0, -1.0, False, (1, 2)], [(1, 2), 2, -1.0, False, (2, 2)], [(2, 2), 3, -1.0, False, (2, 2)], [(2, 2), 3, -1.0, False, (2, 2)], [(2, 2), 3, -1.0, False, (2, 2)], [(2, 2), 3, -1.0, False, (2, 2)], [(2, 2), 1, -1.0, False, (2, 3)], [(2, 3), 2, -1.0, False, (2, 3)], [(2, 3), 0, -1.0, False, (1, 3)], [(1, 3), 1, -1.0, False, (1, 3)], [(1, 3), 3, -1.0, False, (1, 3)], [(1, 3), 2, -1.0, False, (2, 3)], [(2, 3), 0, -1.0, False, (1, 3)], [(1, 3), 3, -1.0, False, (1, 3)], [(1, 3), 2, -1.0, False, (2, 3)], [(2, 3), 2, -1.0, False, (2, 3)], [(2, 3), 2, -1.0, False, (2, 3)], [(2, 3), 1, -1.0, False, (2, 3)], [(2, 3), 1, -1.0, False, (2, 3)], [(2, 3), 3, -1.0, False, (2, 2)], [(2, 2), 0, -1.0, False, (1, 2)], [(1, 2), 0, -1.0, False, (1, 2)], [(1, 2), 1, -1.0, False, (1, 2)], [(1, 2), 1, -1.0, False, (1, 2)], [(1, 2), 0, -1.0, False, (1, 2)], [(1, 2), 0, -1.0, False, (1, 2)], [(1, 2), 3, -1.0, False, (1, 2)], [(1, 2), 0, -1.0, False, (1, 2)], [(1, 2), 1, -1.0, False, (1, 2)], [(1, 2), 0, -1.0, False, (1, 2)], [(1, 2), 0, -1.0, False, (1, 2)], [(1, 2), 0, -1.0, False, (1, 2)], [(1, 2), 3, -1.0, False, (1, 2)], [(1, 2), 2, -1.0, False, (2, 2)], [(2, 2), 3, -1.0, False, (2, 2)], [(2, 2), 3, -1.0, False, (2, 2)], [(2, 2), 1, -1.0, False, (2, 3)], [(2, 3), 1, -1.0, False, (2, 3)], [(2, 3), 3, -1.0, False, (2, 2)], [(2, 2), 2, -1.0, False, (2, 2)], [(2, 2), 1, -1.0, False, (2, 3)], [(2, 3), 0, -1.0, False, (1, 3)], [(1, 3), 3, -1.0, False, (1, 3)], [(1, 3), 0, -1.0, False, (0, 3)], [(0, 3), 0, -1.0, False, (0, 3)], [(0, 3), 3, -1.0, False, (0, 2)], [(0, 2), 1, -1.0, False, (0, 3)], [(0, 3), 0, -1.0, False, (0, 3)], [(0, 3), 0, -1.0, False, (0, 3)], [(0, 3), 3, -1.0, False, (0, 2)], [(0, 2), 0, -1.0, False, (0, 2)], [(0, 2), 3, -1.0, False, (0, 1)], [(0, 1), 1, -1.0, False, (0, 2)], [(0, 2), 2, -1.0, False, (0, 2)], [(0, 2), 2, -1.0, False, (0, 2)], [(0, 2), 1, -1.0, False, (0, 3)], [(0, 3), 1, -1.0, False, (0, 4)], [(0, 4), 0, -1.0, False, (0, 4)], [(0, 4), 0, -1.0, False, (0, 4)], [(0, 4), 0, -1.0, False, (0, 4)], [(0, 4), 2, -1.0, False, (1, 4)], [(1, 4), 1, -1.0, False, (1, 4)], [(1, 4), 3, -1.0, False, (1, 4)], [(1, 4), 2, -1.0, False, (2, 4)], [(2, 4), 0, -1.0, False, (1, 4)], [(1, 4), 0, -1.0, False, (0, 4)], [(0, 4), 3, -1.0, False, (0, 3)], [(0, 3), 0, -1.0, False, (0, 3)], [(0, 3), 0, -1.0, False, (0, 3)], [(0, 3), 2, -1.0, False, (1, 3)], [(1, 3), 0, -1.0, False, (0, 3)], [(0, 3), 3, -1.0, False, (0, 2)], [(0, 2), 0, -1.0, False, (0, 2)], [(0, 2), 1, -1.0, False, (0, 3)], [(0, 3), 1, -1.0, False, (0, 4)], [(0, 4), 3, -1.0, False, (0, 3)], [(0, 3), 1, -1.0, False, (0, 4)], [(0, 4), 0, -1.0, False, (0, 4)], [(0, 4), 1, -1.0, False, (0, 4)], [(0, 4), 2, -1.0, False, (1, 4)], [(1, 4), 2, -1.0, False, (2, 4)], [(2, 4), 2, -1.0, False, (2, 4)], [(2, 4), 1, -1.0, False, (2, 4)], [(2, 4), 0, -1.0, False, (1, 4)], [(1, 4), 3, -1.0, False, (1, 4)], [(1, 4), 3, -1.0, False, (1, 4)], [(1, 4), 0, -1.0, False, (0, 4)], [(0, 4), 1, -1.0, False, (0, 4)], [(0, 4), 2, -1.0, False, (1, 4)], [(1, 4), 3, -1.0, False, (1, 4)], [(1, 4), 2, -1.0, False, (2, 4)], [(2, 4), 2, -1.0, False, (2, 4)], [(2, 4), 3, -1.0, False, (2, 4)], [(2, 4), 0, -1.0, False, (1, 4)], [(1, 4), 2, -1.0, False, (2, 4)], [(2, 4), 3, -1.0, False, (2, 4)], [(2, 4), 3, -1.0, False, (2, 4)], [(2, 4), 2, -1.0, False, (2, 4)], [(2, 4), 0, -1.0, False, (1, 4)], [(1, 4), 3, -1.0, False, (1, 4)], [(1, 4), 2, -1.0, False, (2, 4)], [(2, 4), 3, -1.0, False, (2, 4)], [(2, 4), 3, -1.0, False, (2, 4)], [(2, 4), 0, -1.0, False, (1, 4)], [(1, 4), 2, -1.0, False, (2, 4)], [(2, 4), 1, -1.0, False, (2, 4)], [(2, 4), 0, -1.0, False, (1, 4)], [(1, 4), 3, -1.0, False, (1, 4)], [(1, 4), 2, -1.0, False, (2, 4)], [(2, 4), 2, -1.0, False, (2, 4)], [(2, 4), 1, -1.0, False, (2, 4)], [(2, 4), 2, -1.0, False, (2, 4)], [(2, 4), 3, -1.0, False, (2, 4)], [(2, 4), 3, -1.0, False, (2, 4)], [(2, 4), 0, -1.0, False, (1, 4)], [(1, 4), 0, -1.0, False, (0, 4)], [(0, 4), 3, -1.0, False, (0, 3)], [(0, 3), 0, -1.0, False, (0, 3)], [(0, 3), 2, -1.0, False, (1, 3)], [(1, 3), 0, -1.0, False, (0, 3)], [(0, 3), 0, -1.0, False, (0, 3)], [(0, 3), 1, -1.0, False, (0, 4)], [(0, 4), 1, -1.0, False, (0, 4)], [(0, 4), 3, -1.0, False, (0, 3)], [(0, 3), 3, -1.0, False, (0, 2)], [(0, 2), 2, -1.0, False, (0, 2)], [(0, 2), 3, -1.0, False, (0, 1)], [(0, 1), 3, -1.0, False, (0, 0)], [(0, 0), 3, -1.0, False, (0, 0)], [(0, 0), 2, -1.0, False, (1, 0)], [(1, 0), 0, -1.0, False, (0, 0)], [(0, 0), 1, -1.0, False, (0, 1)], [(0, 1), 0, -1.0, False, (0, 1)], [(0, 1), 2, -1.0, False, (1, 1)], [(1, 1), 0, -1.0, False, (0, 1)], [(0, 1), 1, -1.0, False, (0, 2)], [(0, 2), 3, -1.0, False, (0, 1)], [(0, 1), 3, -1.0, False, (0, 0)], [(0, 0), 3, -1.0, False, (0, 0)], [(0, 0), 3, -1.0, False, (0, 0)], [(0, 0), 2, -1.0, False, (1, 0)], [(1, 0), 2, -1.0, False, (2, 0)], [(2, 0), 3, -1.0, False, (2, 0)], [(2, 0), 3, -1.0, False, (2, 0)], [(2, 0), 3, -1.0, False, (2, 0)], [(2, 0), 0, -1.0, False, (1, 0)], [(1, 0), 2, -1.0, False, (2, 0)], [(2, 0), 0, -1.0, False, (1, 0)], [(1, 0), 0, -1.0, False, (0, 0)], [(0, 0), 0, -1.0, False, (0, 0)], [(0, 0), 3, -1.0, False, (0, 0)], [(0, 0), 2, -1.0, False, (1, 0)], [(1, 0), 2, -1.0, False, (2, 0)], [(2, 0), 1, -1.0, False, (2, 0)], [(2, 0), 3, -1.0, False, (2, 0)], [(2, 0), 0, -1.0, False, (1, 0)], [(1, 0), 3, -1.0, False, (1, 0)], [(1, 0), 0, -1.0, False, (0, 0)], [(0, 0), 0, -1.0, False, (0, 0)], [(0, 0), 0, -1.0, False, (0, 0)], [(0, 0), 2, -1.0, False, (1, 0)], [(1, 0), 3, -1.0, False, (1, 0)], [(1, 0), 3, -1.0, False, (1, 0)], [(1, 0), 0, -1.0, False, (0, 0)], [(0, 0), 2, -1.0, False, (1, 0)], [(1, 0), 0, -1.0, False, (0, 0)], [(0, 0), 1, -1.0, False, (0, 1)], [(0, 1), 0, -1.0, False, (0, 1)], [(0, 1), 2, -1.0, False, (1, 1)], [(1, 1), 1, -1.0, False, (1, 1)], [(1, 1), 1, -1.0, False, (1, 1)], [(1, 1), 2, -1.0, False, (2, 1)], [(2, 1), 1, -1.0, False, (2, 1)], [(2, 1), 3, -1.0, False, (2, 1)], [(2, 1), 2, -1.0, False, (3, 1)], [(3, 1), 1, -1.0, False, (3, 1)], [(3, 1), 1, -1.0, False, (3, 1)], [(3, 1), 1, -1.0, False, (3, 1)], [(3, 1), 2, -1.0, False, (3, 1)], [(3, 1), 1, -1.0, False, (3, 1)], [(3, 1), 0, -1.0, False, (2, 1)], [(2, 1), 0, -1.0, False, (1, 1)], [(1, 1), 1, -1.0, False, (1, 1)], [(1, 1), 0, -1.0, False, (0, 1)], [(0, 1), 0, -1.0, False, (0, 1)], [(0, 1), 2, -1.0, False, (1, 1)], [(1, 1), 0, -1.0, False, (0, 1)], [(0, 1), 0, -1.0, False, (0, 1)], [(0, 1), 1, -1.0, False, (0, 2)], [(0, 2), 2, -1.0, False, (0, 2)], [(0, 2), 1, -1.0, False, (0, 3)], [(0, 3), 3, -1.0, False, (0, 2)], [(0, 2), 3, -1.0, False, (0, 1)], [(0, 1), 0, -1.0, False, (0, 1)], [(0, 1), 2, -1.0, False, (1, 1)], [(1, 1), 3, -1.0, False, (1, 1)], [(1, 1), 0, -1.0, False, (0, 1)], [(0, 1), 3, -1.0, False, (0, 0)], [(0, 0), 2, -1.0, False, (1, 0)], [(1, 0), 1, -1.0, False, (1, 0)], [(1, 0), 1, -1.0, False, (1, 0)], [(1, 0), 1, -1.0, False, (1, 0)], [(1, 0), 2, -1.0, False, (2, 0)], [(2, 0), 3, -1.0, False, (2, 0)], [(2, 0), 3, -1.0, False, (2, 0)], [(2, 0), 0, -1.0, False, (1, 0)], [(1, 0), 2, -1.0, False, (2, 0)], [(2, 0), 2, -1.0, False, (3, 0)], [(3, 0), 0, -1.0, False, (2, 0)], [(2, 0), 0, -1.0, False, (1, 0)], [(1, 0), 0, -1.0, False, (0, 0)], [(0, 0), 0, -1.0, False, (0, 0)], [(0, 0), 3, -1.0, False, (0, 0)], [(0, 0), 1, -1.0, False, (0, 1)], [(0, 1), 0, -1.0, False, (0, 1)], [(0, 1), 1, -1.0, False, (0, 2)], [(0, 2), 0, -1.0, False, (0, 2)], [(0, 2), 1, -1.0, False, (0, 3)], [(0, 3), 2, -1.0, False, (1, 3)], [(1, 3), 0, -1.0, False, (0, 3)], [(0, 3), 3, -1.0, False, (0, 2)], [(0, 2), 0, -1.0, False, (0, 2)], [(0, 2), 3, -1.0, False, (0, 1)], [(0, 1), 3, -1.0, False, (0, 0)], [(0, 0), 3, -1.0, False, (0, 0)], [(0, 0), 3, -1.0, False, (0, 0)], [(0, 0), 2, -1.0, False, (1, 0)], [(1, 0), 2, -1.0, False, (2, 0)], [(2, 0), 2, -1.0, False, (3, 0)], [(3, 0), 1, -1.0, False, (3, 0)], [(3, 0), 2, -1.0, False, (4, 0)], [(4, 0), 2, -1.0, False, (4, 0)], [(4, 0), 1, -1.0, False, (4, 1)], [(4, 1), 2, -1.0, False, (4, 1)], [(4, 1), 2, -1.0, False, (4, 1)], [(4, 1), 2, -1.0, False, (4, 1)], [(4, 1), 3, -1.0, False, (4, 0)], [(4, 0), 3, -1.0, False, (4, 0)], [(4, 0), 3, -1.0, False, (4, 0)], [(4, 0), 2, -1.0, False, (4, 0)], [(4, 0), 1, -1.0, False, (4, 1)], [(4, 1), 3, -1.0, False, (4, 0)], [(4, 0), 1, -1.0, False, (4, 1)], [(4, 1), 3, -1.0, False, (4, 0)], [(4, 0), 3, -1.0, False, (4, 0)], [(4, 0), 0, -1.0, False, (3, 0)], [(3, 0), 3, -1.0, False, (3, 0)], [(3, 0), 2, -1.0, False, (4, 0)], [(4, 0), 2, -1.0, False, (4, 0)], [(4, 0), 0, -1.0, False, (3, 0)], [(3, 0), 0, -1.0, False, (2, 0)], [(2, 0), 3, -1.0, False, (2, 0)], [(2, 0), 1, -1.0, False, (2, 0)], [(2, 0), 3, -1.0, False, (2, 0)], [(2, 0), 3, -1.0, False, (2, 0)], [(2, 0), 0, -1.0, False, (1, 0)], [(1, 0), 2, -1.0, False, (2, 0)], [(2, 0), 0, -1.0, False, (1, 0)], [(1, 0), 0, -1.0, False, (0, 0)], [(0, 0), 3, -1.0, False, (0, 0)], [(0, 0), 0, -1.0, False, (0, 0)], [(0, 0), 1, -1.0, False, (0, 1)], [(0, 1), 3, -1.0, False, (0, 0)], [(0, 0), 1, -1.0, False, (0, 1)], [(0, 1), 2, -1.0, False, (1, 1)], [(1, 1), 3, -1.0, False, (1, 1)], [(1, 1), 3, -1.0, False, (1, 1)], [(1, 1), 3, -1.0, False, (1, 1)], [(1, 1), 1, -1.0, False, (1, 1)], [(1, 1), 0, -1.0, False, (0, 1)], [(0, 1), 1, -1.0, False, (0, 2)], [(0, 2), 0, -1.0, False, (0, 2)], [(0, 2), 0, -1.0, False, (0, 2)], [(0, 2), 1, -1.0, False, (0, 3)], [(0, 3), 2, -1.0, False, (1, 3)], [(1, 3), 2, -1.0, False, (2, 3)], [(2, 3), 2, -1.0, False, (2, 3)], [(2, 3), 3, -1.0, False, (2, 2)], [(2, 2), 3, -1.0, False, (2, 2)], [(2, 2), 1, -1.0, False, (2, 3)], [(2, 3), 2, -1.0, False, (2, 3)], [(2, 3), 2, -1.0, False, (2, 3)], [(2, 3), 1, -1.0, False, (2, 3)], [(2, 3), 0, -1.0, False, (1, 3)], [(1, 3), 2, -1.0, False, (2, 3)], [(2, 3), 3, -1.0, False, (2, 2)], [(2, 2), 3, -1.0, False, (2, 2)], [(2, 2), 3, -1.0, False, (2, 2)], [(2, 2), 1, -1.0, False, (2, 3)], [(2, 3), 2, -1.0, False, (2, 3)], [(2, 3), 1, -1.0, False, (2, 3)], [(2, 3), 1, -1.0, False, (2, 3)], [(2, 3), 3, -1.0, False, (2, 2)], [(2, 2), 1, -1.0, False, (2, 3)], [(2, 3), 3, -1.0, False, (2, 2)], [(2, 2), 3, -1.0, False, (2, 2)], [(2, 2), 2, -1.0, False, (2, 2)], [(2, 2), 3, -1.0, False, (2, 2)], [(2, 2), 1, -1.0, False, (2, 3)], [(2, 3), 3, -1.0, False, (2, 2)], [(2, 2), 2, -1.0, False, (2, 2)], [(2, 2), 2, -1.0, False, (2, 2)], [(2, 2), 0, -1.0, False, (1, 2)], [(1, 2), 2, -1.0, False, (2, 2)], [(2, 2), 3, -1.0, False, (2, 2)], [(2, 2), 3, -1.0, False, (2, 2)], [(2, 2), 2, -1.0, False, (2, 2)], [(2, 2), 2, -1.0, False, (2, 2)], [(2, 2), 2, -1.0, False, (2, 2)], [(2, 2), 2, -1.0, False, (2, 2)], [(2, 2), 0, -1.0, False, (1, 2)], [(1, 2), 2, -1.0, False, (2, 2)], [(2, 2), 0, -1.0, False, (1, 2)], [(1, 2), 1, -1.0, False, (1, 2)], [(1, 2), 2, -1.0, False, (2, 2)], [(2, 2), 1, -1.0, False, (2, 3)], [(2, 3), 2, -1.0, False, (2, 3)], [(2, 3), 1, -1.0, False, (2, 3)], [(2, 3), 0, -1.0, False, (1, 3)], [(1, 3), 2, -1.0, False, (2, 3)], [(2, 3), 3, -1.0, False, (2, 2)], [(2, 2), 1, -1.0, False, (2, 3)], [(2, 3), 3, -1.0, False, (2, 2)], [(2, 2), 1, -1.0, False, (2, 3)], [(2, 3), 1, -1.0, False, (2, 3)], [(2, 3), 0, -1.0, False, (1, 3)], [(1, 3), 1, -1.0, False, (1, 3)], [(1, 3), 1, -1.0, False, (1, 3)], [(1, 3), 2, -1.0, False, (2, 3)], [(2, 3), 3, -1.0, False, (2, 2)], [(2, 2), 2, -1.0, False, (2, 2)], [(2, 2), 0, -1.0, False, (1, 2)], [(1, 2), 0, -1.0, False, (1, 2)], [(1, 2), 1, -1.0, False, (1, 2)], [(1, 2), 0, -1.0, False, (1, 2)], [(1, 2), 1, -1.0, False, (1, 2)], [(1, 2), 3, -1.0, False, (1, 2)], [(1, 2), 2, -1.0, False, (2, 2)], [(2, 2), 2, -1.0, False, (2, 2)], [(2, 2), 1, -1.0, False, (2, 3)], [(2, 3), 0, -1.0, False, (1, 3)], [(1, 3), 2, -1.0, False, (2, 3)], [(2, 3), 0, -1.0, False, (1, 3)], [(1, 3), 3, -1.0, False, (1, 3)], [(1, 3), 0, -1.0, False, (0, 3)], [(0, 3), 2, -1.0, False, (1, 3)], [(1, 3), 2, -1.0, False, (2, 3)], [(2, 3), 3, -1.0, False, (2, 2)], [(2, 2), 1, -1.0, False, (2, 3)], [(2, 3), 0, -1.0, False, (1, 3)], [(1, 3), 2, -1.0, False, (2, 3)], [(2, 3), 0, -1.0, False, (1, 3)], [(1, 3), 3, -1.0, False, (1, 3)], [(1, 3), 0, -1.0, False, (0, 3)], [(0, 3), 1, -1.0, False, (0, 4)], [(0, 4), 0, -1.0, False, (0, 4)], [(0, 4), 2, -1.0, False, (1, 4)], [(1, 4), 0, -1.0, False, (0, 4)], [(0, 4), 1, -1.0, False, (0, 4)], [(0, 4), 1, -1.0, False, (0, 4)], [(0, 4), 3, -1.0, False, (0, 3)], [(0, 3), 1, -1.0, False, (0, 4)], [(0, 4), 2, -1.0, False, (1, 4)], [(1, 4), 3, -1.0, False, (1, 4)], [(1, 4), 2, -1.0, False, (2, 4)], [(2, 4), 1, -1.0, False, (2, 4)], [(2, 4), 2, -1.0, False, (2, 4)], [(2, 4), 3, -1.0, False, (2, 4)], [(2, 4), 1, -1.0, False, (2, 4)], [(2, 4), 2, -1.0, False, (2, 4)], [(2, 4), 3, -1.0, False, (2, 4)], [(2, 4), 2, -1.0, False, (2, 4)], [(2, 4), 2, -1.0, False, (2, 4)], [(2, 4), 3, -1.0, False, (2, 4)], [(2, 4), 0, -1.0, False, (1, 4)], [(1, 4), 1, -1.0, False, (1, 4)], [(1, 4), 1, -1.0, False, (1, 4)], [(1, 4), 2, -1.0, False, (2, 4)], [(2, 4), 0, -1.0, False, (1, 4)], [(1, 4), 1, -1.0, False, (1, 4)], [(1, 4), 1, -1.0, False, (1, 4)], [(1, 4), 3, -1.0, False, (1, 4)], [(1, 4), 1, -1.0, False, (1, 4)], [(1, 4), 1, -1.0, False, (1, 4)], [(1, 4), 3, -1.0, False, (1, 4)], [(1, 4), 2, -1.0, False, (2, 4)], [(2, 4), 0, -1.0, False, (1, 4)], [(1, 4), 3, -1.0, False, (1, 4)], [(1, 4), 2, -1.0, False, (2, 4)], [(2, 4), 2, -1.0, False, (2, 4)], [(2, 4), 2, -1.0, False, (2, 4)], [(2, 4), 1, -1.0, False, (2, 4)], [(2, 4), 2, -1.0, False, (2, 4)], [(2, 4), 0, -1.0, False, (1, 4)], [(1, 4), 1, -1.0, False, (1, 4)], [(1, 4), 0, -1.0, False, (0, 4)], [(0, 4), 3, -1.0, False, (0, 3)], [(0, 3), 1, -1.0, False, (0, 4)], [(0, 4), 0, -1.0, False, (0, 4)], [(0, 4), 0, -1.0, False, (0, 4)], [(0, 4), 2, -1.0, False, (1, 4)], [(1, 4), 0, -1.0, False, (0, 4)], [(0, 4), 0, -1.0, False, (0, 4)], [(0, 4), 3, -1.0, False, (0, 3)], [(0, 3), 0, -1.0, False, (0, 3)], [(0, 3), 2, -1.0, False, (1, 3)], [(1, 3), 3, -1.0, False, (1, 3)], [(1, 3), 2, -1.0, False, (2, 3)], [(2, 3), 0, -1.0, False, (1, 3)], [(1, 3), 2, -1.0, False, (2, 3)], [(2, 3), 1, -1.0, False, (2, 3)], [(2, 3), 2, -1.0, False, (2, 3)], [(2, 3), 2, -1.0, False, (2, 3)], [(2, 3), 0, -1.0, False, (1, 3)], [(1, 3), 1, -1.0, False, (1, 3)], [(1, 3), 0, -1.0, False, (0, 3)], [(0, 3), 2, -1.0, False, (1, 3)], [(1, 3), 1, -1.0, False, (1, 3)], [(1, 3), 1, -1.0, False, (1, 3)], [(1, 3), 0, -1.0, False, (0, 3)], [(0, 3), 1, -1.0, False, (0, 4)], [(0, 4), 1, -1.0, False, (0, 4)], [(0, 4), 3, -1.0, False, (0, 3)], [(0, 3), 2, -1.0, False, (1, 3)], [(1, 3), 1, -1.0, False, (1, 3)], [(1, 3), 0, -1.0, False, (0, 3)], [(0, 3), 0, -1.0, False, (0, 3)], [(0, 3), 2, -1.0, False, (1, 3)], [(1, 3), 2, -1.0, False, (2, 3)], [(2, 3), 1, -1.0, False, (2, 3)], [(2, 3), 0, -1.0, False, (1, 3)], [(1, 3), 2, -1.0, False, (2, 3)], [(2, 3), 1, -1.0, False, (2, 3)], [(2, 3), 0, -1.0, False, (1, 3)], [(1, 3), 1, -1.0, False, (1, 3)], [(1, 3), 3, -1.0, False, (1, 3)], [(1, 3), 1, -1.0, False, (1, 3)], [(1, 3), 2, -1.0, False, (2, 3)], [(2, 3), 0, -1.0, False, (1, 3)], [(1, 3), 2, -1.0, False, (2, 3)], [(2, 3), 2, -1.0, False, (2, 3)], [(2, 3), 0, -1.0, False, (1, 3)], [(1, 3), 2, -1.0, False, (2, 3)], [(2, 3), 2, -1.0, False, (2, 3)], [(2, 3), 0, -1.0, False, (1, 3)], [(1, 3), 2, -1.0, False, (2, 3)], [(2, 3), 0, -1.0, False, (1, 3)], [(1, 3), 1, -1.0, False, (1, 3)], [(1, 3), 1, -1.0, False, (1, 3)], [(1, 3), 1, -1.0, False, (1, 3)], [(1, 3), 3, -1.0, False, (1, 3)], [(1, 3), 3, -1.0, False, (1, 3)], [(1, 3), 1, -1.0, False, (1, 3)], [(1, 3), 2, -1.0, False, (2, 3)], [(2, 3), 2, -1.0, False, (2, 3)], [(2, 3), 1, -1.0, False, (2, 3)], [(2, 3), 1, -1.0, False, (2, 3)], [(2, 3), 3, -1.0, False, (2, 2)], [(2, 2), 3, -1.0, False, (2, 2)], [(2, 2), 0, -1.0, False, (1, 2)], [(1, 2), 1, -1.0, False, (1, 2)], [(1, 2), 0, -1.0, False, (1, 2)], [(1, 2), 0, -1.0, False, (1, 2)], [(1, 2), 2, -1.0, False, (2, 2)], [(2, 2), 3, -1.0, False, (2, 2)], [(2, 2), 2, -1.0, False, (2, 2)], [(2, 2), 1, -1.0, False, (2, 3)], [(2, 3), 3, -1.0, False, (2, 2)], [(2, 2), 0, -1.0, False, (1, 2)], [(1, 2), 1, -1.0, False, (1, 2)], [(1, 2), 2, -1.0, False, (2, 2)], [(2, 2), 1, -1.0, False, (2, 3)], [(2, 3), 3, -1.0, False, (2, 2)], [(2, 2), 2, -1.0, False, (2, 2)], [(2, 2), 1, -1.0, False, (2, 3)], [(2, 3), 2, -1.0, False, (2, 3)], [(2, 3), 0, -1.0, False, (1, 3)], [(1, 3), 2, -1.0, False, (2, 3)], [(2, 3), 3, -1.0, False, (2, 2)], [(2, 2), 2, -1.0, False, (2, 2)], [(2, 2), 2, -1.0, False, (2, 2)], [(2, 2), 2, -1.0, False, (2, 2)], [(2, 2), 1, -1.0, False, (2, 3)], [(2, 3), 3, -1.0, False, (2, 2)], [(2, 2), 3, -1.0, False, (2, 2)], [(2, 2), 3, -1.0, False, (2, 2)], [(2, 2), 2, -1.0, False, (2, 2)], [(2, 2), 3, -1.0, False, (2, 2)], [(2, 2), 1, -1.0, False, (2, 3)], [(2, 3), 0, -1.0, False, (1, 3)], [(1, 3), 3, -1.0, False, (1, 3)], [(1, 3), 1, -1.0, False, (1, 3)], [(1, 3), 1, -1.0, False, (1, 3)], [(1, 3), 0, -1.0, False, (0, 3)], [(0, 3), 3, -1.0, False, (0, 2)], [(0, 2), 2, -1.0, False, (0, 2)], [(0, 2), 1, -1.0, False, (0, 3)], [(0, 3), 0, -1.0, False, (0, 3)], [(0, 3), 1, -1.0, False, (0, 4)], [(0, 4), 3, -1.0, False, (0, 3)], [(0, 3), 0, -1.0, False, (0, 3)], [(0, 3), 3, -1.0, False, (0, 2)], [(0, 2), 1, -1.0, False, (0, 3)], [(0, 3), 3, -1.0, False, (0, 2)], [(0, 2), 2, -1.0, False, (0, 2)], [(0, 2), 1, -1.0, False, (0, 3)], [(0, 3), 2, -1.0, False, (1, 3)], [(1, 3), 3, -1.0, False, (1, 3)], [(1, 3), 1, -1.0, False, (1, 3)], [(1, 3), 3, -1.0, False, (1, 3)], [(1, 3), 1, -1.0, False, (1, 3)], [(1, 3), 2, -1.0, False, (2, 3)], [(2, 3), 0, -1.0, False, (1, 3)], [(1, 3), 1, -1.0, False, (1, 3)], [(1, 3), 3, -1.0, False, (1, 3)], [(1, 3), 2, -1.0, False, (2, 3)], [(2, 3), 0, -1.0, False, (1, 3)], [(1, 3), 0, -1.0, False, (0, 3)], [(0, 3), 1, -1.0, False, (0, 4)], [(0, 4), 0, -1.0, False, (0, 4)], [(0, 4), 3, -1.0, False, (0, 3)], [(0, 3), 2, -1.0, False, (1, 3)], [(1, 3), 2, -1.0, False, (2, 3)], [(2, 3), 0, -1.0, False, (1, 3)], [(1, 3), 0, -1.0, False, (0, 3)], [(0, 3), 0, -1.0, False, (0, 3)], [(0, 3), 1, -1.0, False, (0, 4)], [(0, 4), 1, -1.0, False, (0, 4)], [(0, 4), 2, -1.0, False, (1, 4)], [(1, 4), 0, -1.0, False, (0, 4)], [(0, 4), 1, -1.0, False, (0, 4)], [(0, 4), 3, -1.0, False, (0, 3)], [(0, 3), 0, -1.0, False, (0, 3)], [(0, 3), 0, -1.0, False, (0, 3)], [(0, 3), 2, -1.0, False, (1, 3)], [(1, 3), 2, -1.0, False, (2, 3)], [(2, 3), 1, -1.0, False, (2, 3)], [(2, 3), 1, -1.0, False, (2, 3)], [(2, 3), 2, -1.0, False, (2, 3)], [(2, 3), 2, -1.0, False, (2, 3)], [(2, 3), 1, -1.0, False, (2, 3)], [(2, 3), 0, -1.0, False, (1, 3)], [(1, 3), 2, -1.0, False, (2, 3)], [(2, 3), 2, -1.0, False, (2, 3)], [(2, 3), 0, -1.0, False, (1, 3)], [(1, 3), 0, -1.0, False, (0, 3)], [(0, 3), 0, -1.0, False, (0, 3)], [(0, 3), 3, -1.0, False, (0, 2)], [(0, 2), 3, -1.0, False, (0, 1)], [(0, 1), 3, -1.0, False, (0, 0)], [(0, 0), 0, -1.0, False, (0, 0)], [(0, 0), 2, -1.0, False, (1, 0)], [(1, 0), 2, -1.0, False, (2, 0)], [(2, 0), 3, -1.0, False, (2, 0)], [(2, 0), 3, -1.0, False, (2, 0)], [(2, 0), 2, -1.0, False, (3, 0)], [(3, 0), 0, -1.0, False, (2, 0)], [(2, 0), 3, -1.0, False, (2, 0)], [(2, 0), 2, -1.0, False, (3, 0)], [(3, 0), 0, -1.0, False, (2, 0)], [(2, 0), 1, -1.0, False, (2, 0)], [(2, 0), 0, -1.0, False, (1, 0)], [(1, 0), 2, -1.0, False, (2, 0)], [(2, 0), 1, -1.0, False, (2, 0)], [(2, 0), 1, -1.0, False, (2, 0)], [(2, 0), 1, -1.0, False, (2, 0)], [(2, 0), 3, -1.0, False, (2, 0)], [(2, 0), 2, -1.0, False, (3, 0)], [(3, 0), 3, -1.0, False, (3, 0)], [(3, 0), 3, -1.0, False, (3, 0)], [(3, 0), 1, -1.0, False, (3, 0)], [(3, 0), 3, -1.0, False, (3, 0)], [(3, 0), 1, -1.0, False, (3, 0)], [(3, 0), 3, -1.0, False, (3, 0)], [(3, 0), 3, -1.0, False, (3, 0)], [(3, 0), 1, -1.0, False, (3, 0)], [(3, 0), 1, -1.0, False, (3, 0)], [(3, 0), 0, -1.0, False, (2, 0)], [(2, 0), 2, -1.0, False, (3, 0)], [(3, 0), 2, -1.0, False, (4, 0)], [(4, 0), 1, -1.0, False, (4, 1)], [(4, 1), 1, -1.0, False, (4, 2)], [(4, 2), 2, -1.0, False, (4, 2)], [(4, 2), 3, -1.0, False, (4, 1)], [(4, 1), 1, -1.0, False, (4, 2)], [(4, 2), 1, -1.0, False, (4, 2)], [(4, 2), 3, -1.0, False, (4, 1)], [(4, 1), 3, -1.0, False, (4, 0)], [(4, 0), 2, -1.0, False, (4, 0)], [(4, 0), 0, -1.0, False, (3, 0)], [(3, 0), 1, -1.0, False, (3, 0)], [(3, 0), 2, -1.0, False, (4, 0)], [(4, 0), 2, -1.0, False, (4, 0)], [(4, 0), 3, -1.0, False, (4, 0)], [(4, 0), 3, -1.0, False, (4, 0)], [(4, 0), 3, -1.0, False, (4, 0)], [(4, 0), 3, -1.0, False, (4, 0)], [(4, 0), 2, -1.0, False, (4, 0)], [(4, 0), 3, -1.0, False, (4, 0)], [(4, 0), 0, -1.0, False, (3, 0)], [(3, 0), 0, -1.0, False, (2, 0)], [(2, 0), 2, -1.0, False, (3, 0)], [(3, 0), 3, -1.0, False, (3, 0)], [(3, 0), 0, -1.0, False, (2, 0)], [(2, 0), 3, -1.0, False, (2, 0)], [(2, 0), 1, -1.0, False, (2, 0)], [(2, 0), 1, -1.0, False, (2, 0)], [(2, 0), 0, -1.0, False, (1, 0)], [(1, 0), 1, -1.0, False, (1, 0)], [(1, 0), 2, -1.0, False, (2, 0)], [(2, 0), 3, -1.0, False, (2, 0)], [(2, 0), 1, -1.0, False, (2, 0)], [(2, 0), 3, -1.0, False, (2, 0)], [(2, 0), 2, -1.0, False, (3, 0)], [(3, 0), 0, -1.0, False, (2, 0)], [(2, 0), 0, -1.0, False, (1, 0)], [(1, 0), 0, -1.0, False, (0, 0)], [(0, 0), 2, -1.0, False, (1, 0)], [(1, 0), 1, -1.0, False, (1, 0)], [(1, 0), 0, -1.0, False, (0, 0)], [(0, 0), 3, -1.0, False, (0, 0)], [(0, 0), 1, -1.0, False, (0, 1)], [(0, 1), 2, -1.0, False, (1, 1)], [(1, 1), 1, -1.0, False, (1, 1)], [(1, 1), 1, -1.0, False, (1, 1)], [(1, 1), 1, -1.0, False, (1, 1)], [(1, 1), 2, -1.0, False, (2, 1)], [(2, 1), 0, -1.0, False, (1, 1)], [(1, 1), 3, -1.0, False, (1, 1)], [(1, 1), 1, -1.0, False, (1, 1)], [(1, 1), 3, -1.0, False, (1, 1)], [(1, 1), 2, -1.0, False, (2, 1)], [(2, 1), 3, -1.0, False, (2, 1)], [(2, 1), 0, -1.0, False, (1, 1)], [(1, 1), 0, -1.0, False, (0, 1)], [(0, 1), 2, -1.0, False, (1, 1)], [(1, 1), 1, -1.0, False, (1, 1)], [(1, 1), 3, -1.0, False, (1, 1)], [(1, 1), 2, -1.0, False, (2, 1)], [(2, 1), 1, -1.0, False, (2, 1)], [(2, 1), 2, -1.0, False, (3, 1)], [(3, 1), 2, -1.0, False, (3, 1)], [(3, 1), 0, -1.0, False, (2, 1)], [(2, 1), 2, -1.0, False, (3, 1)], [(3, 1), 1, -1.0, False, (3, 1)], [(3, 1), 1, -1.0, False, (3, 1)], [(3, 1), 3, -1.0, False, (3, 1)], [(3, 1), 2, -1.0, False, (3, 1)], [(3, 1), 2, -1.0, False, (3, 1)], [(3, 1), 3, -1.0, False, (3, 1)], [(3, 1), 1, -1.0, False, (3, 1)], [(3, 1), 0, -1.0, False, (2, 1)], [(2, 1), 1, -1.0, False, (2, 1)], [(2, 1), 2, -1.0, False, (3, 1)], [(3, 1), 3, -1.0, False, (3, 1)], [(3, 1), 0, -1.0, False, (2, 1)], [(2, 1), 3, -1.0, False, (2, 1)], [(2, 1), 2, -1.0, False, (3, 1)], [(3, 1), 1, -1.0, False, (3, 1)], [(3, 1), 2, -1.0, False, (3, 1)], [(3, 1), 1, -1.0, False, (3, 1)], [(3, 1), 0, -1.0, False, (2, 1)], [(2, 1), 2, -1.0, False, (3, 1)], [(3, 1), 2, -1.0, False, (3, 1)], [(3, 1), 1, -1.0, False, (3, 1)], [(3, 1), 0, -1.0, False, (2, 1)], [(2, 1), 0, -1.0, False, (1, 1)], [(1, 1), 2, -1.0, False, (2, 1)], [(2, 1), 3, -1.0, False, (2, 1)], [(2, 1), 2, -1.0, False, (3, 1)], [(3, 1), 0, -1.0, False, (2, 1)], [(2, 1), 0, -1.0, False, (1, 1)], [(1, 1), 1, -1.0, False, (1, 1)], [(1, 1), 0, -1.0, False, (0, 1)], [(0, 1), 2, -1.0, False, (1, 1)], [(1, 1), 2, -1.0, False, (2, 1)], [(2, 1), 2, -1.0, False, (3, 1)], [(3, 1), 3, -1.0, False, (3, 1)], [(3, 1), 0, -1.0, False, (2, 1)], [(2, 1), 3, -1.0, False, (2, 1)], [(2, 1), 2, -1.0, False, (3, 1)], [(3, 1), 1, -1.0, False, (3, 1)], [(3, 1), 1, -1.0, False, (3, 1)], [(3, 1), 3, -1.0, False, (3, 1)], [(3, 1), 0, -1.0, False, (2, 1)], [(2, 1), 0, -1.0, False, (1, 1)], [(1, 1), 0, -1.0, False, (0, 1)], [(0, 1), 0, -1.0, False, (0, 1)], [(0, 1), 2, -1.0, False, (1, 1)], [(1, 1), 2, -1.0, False, (2, 1)], [(2, 1), 2, -1.0, False, (3, 1)], [(3, 1), 1, -1.0, False, (3, 1)], [(3, 1), 0, -1.0, False, (2, 1)], [(2, 1), 3, -1.0, False, (2, 1)], [(2, 1), 2, -1.0, False, (3, 1)], [(3, 1), 0, -1.0, False, (2, 1)], [(2, 1), 0, -1.0, False, (1, 1)], [(1, 1), 3, -1.0, False, (1, 1)], [(1, 1), 1, -1.0, False, (1, 1)], [(1, 1), 1, -1.0, False, (1, 1)], [(1, 1), 3, -1.0, False, (1, 1)], [(1, 1), 2, -1.0, False, (2, 1)], [(2, 1), 1, -1.0, False, (2, 1)], [(2, 1), 3, -1.0, False, (2, 1)], [(2, 1), 2, -1.0, False, (3, 1)], [(3, 1), 3, -1.0, False, (3, 1)], [(3, 1), 0, -1.0, False, (2, 1)], [(2, 1), 0, -1.0, False, (1, 1)], [(1, 1), 2, -1.0, False, (2, 1)], [(2, 1), 3, -1.0, False, (2, 1)], [(2, 1), 1, -1.0, False, (2, 1)], [(2, 1), 3, -1.0, False, (2, 1)], [(2, 1), 0, -1.0, False, (1, 1)], [(1, 1), 3, -1.0, False, (1, 1)], [(1, 1), 1, -1.0, False, (1, 1)], [(1, 1), 3, -1.0, False, (1, 1)], [(1, 1), 0, -1.0, False, (0, 1)], [(0, 1), 3, -1.0, False, (0, 0)], [(0, 0), 1, -1.0, False, (0, 1)], [(0, 1), 1, -1.0, False, (0, 2)], [(0, 2), 2, -1.0, False, (0, 2)], [(0, 2), 2, -1.0, False, (0, 2)], [(0, 2), 3, -1.0, False, (0, 1)], [(0, 1), 3, -1.0, False, (0, 0)], [(0, 0), 2, -1.0, False, (1, 0)], [(1, 0), 2, -1.0, False, (2, 0)], [(2, 0), 0, -1.0, False, (1, 0)], [(1, 0), 0, -1.0, False, (0, 0)], [(0, 0), 0, -1.0, False, (0, 0)], [(0, 0), 3, -1.0, False, (0, 0)], [(0, 0), 3, -1.0, False, (0, 0)], [(0, 0), 1, -1.0, False, (0, 1)], [(0, 1), 1, -1.0, False, (0, 2)], [(0, 2), 2, -1.0, False, (0, 2)], [(0, 2), 2, -1.0, False, (0, 2)], [(0, 2), 2, -1.0, False, (0, 2)], [(0, 2), 2, -1.0, False, (0, 2)], [(0, 2), 2, -1.0, False, (0, 2)], [(0, 2), 2, -1.0, False, (0, 2)], [(0, 2), 2, -1.0, False, (0, 2)], [(0, 2), 3, -1.0, False, (0, 1)], [(0, 1), 1, -1.0, False, (0, 2)], [(0, 2), 0, -1.0, False, (0, 2)], [(0, 2), 1, -1.0, False, (0, 3)], [(0, 3), 2, -1.0, False, (1, 3)], [(1, 3), 0, -1.0, False, (0, 3)], [(0, 3), 2, -1.0, False, (1, 3)], [(1, 3), 0, -1.0, False, (0, 3)], [(0, 3), 2, -1.0, False, (1, 3)], [(1, 3), 1, -1.0, False, (1, 3)], [(1, 3), 2, -1.0, False, (2, 3)], [(2, 3), 1, -1.0, False, (2, 3)], [(2, 3), 1, -1.0, False, (2, 3)], [(2, 3), 2, -1.0, False, (2, 3)], [(2, 3), 3, -1.0, False, (2, 2)], [(2, 2), 1, -1.0, False, (2, 3)], [(2, 3), 1, -1.0, False, (2, 3)], [(2, 3), 0, -1.0, False, (1, 3)], [(1, 3), 2, -1.0, False, (2, 3)], [(2, 3), 0, -1.0, False, (1, 3)], [(1, 3), 2, -1.0, False, (2, 3)], [(2, 3), 3, -1.0, False, (2, 2)], [(2, 2), 1, -1.0, False, (2, 3)], [(2, 3), 0, -1.0, False, (1, 3)], [(1, 3), 2, -1.0, False, (2, 3)], [(2, 3), 3, -1.0, False, (2, 2)], [(2, 2), 3, -1.0, False, (2, 2)], [(2, 2), 2, -1.0, False, (2, 2)], [(2, 2), 3, -1.0, False, (2, 2)], [(2, 2), 0, -1.0, False, (1, 2)], [(1, 2), 0, -1.0, False, (1, 2)], [(1, 2), 1, -1.0, False, (1, 2)], [(1, 2), 2, -1.0, False, (2, 2)], [(2, 2), 2, -1.0, False, (2, 2)], [(2, 2), 2, -1.0, False, (2, 2)], [(2, 2), 3, -1.0, False, (2, 2)], [(2, 2), 0, -1.0, False, (1, 2)], [(1, 2), 1, -1.0, False, (1, 2)], [(1, 2), 3, -1.0, False, (1, 2)], [(1, 2), 1, -1.0, False, (1, 2)], [(1, 2), 1, -1.0, False, (1, 2)], [(1, 2), 1, -1.0, False, (1, 2)], [(1, 2), 3, -1.0, False, (1, 2)], [(1, 2), 2, -1.0, False, (2, 2)], [(2, 2), 1, -1.0, False, (2, 3)], [(2, 3), 2, -1.0, False, (2, 3)], [(2, 3), 0, -1.0, False, (1, 3)], [(1, 3), 2, -1.0, False, (2, 3)], [(2, 3), 0, -1.0, False, (1, 3)], [(1, 3), 3, -1.0, False, (1, 3)], [(1, 3), 2, -1.0, False, (2, 3)], [(2, 3), 3, -1.0, False, (2, 2)], [(2, 2), 0, -1.0, False, (1, 2)], [(1, 2), 2, -1.0, False, (2, 2)], [(2, 2), 1, -1.0, False, (2, 3)], [(2, 3), 0, -1.0, False, (1, 3)], [(1, 3), 0, -1.0, False, (0, 3)], [(0, 3), 2, -1.0, False, (1, 3)], [(1, 3), 3, -1.0, False, (1, 3)], [(1, 3), 1, -1.0, False, (1, 3)], [(1, 3), 1, -1.0, False, (1, 3)], [(1, 3), 0, -1.0, False, (0, 3)], [(0, 3), 0, -1.0, False, (0, 3)], [(0, 3), 0, -1.0, False, (0, 3)], [(0, 3), 1, -1.0, False, (0, 4)], [(0, 4), 3, -1.0, False, (0, 3)], [(0, 3), 3, -1.0, False, (0, 2)], [(0, 2), 0, -1.0, False, (0, 2)], [(0, 2), 2, -1.0, False, (0, 2)], [(0, 2), 3, -1.0, False, (0, 1)], [(0, 1), 2, -1.0, False, (1, 1)], [(1, 1), 3, -1.0, False, (1, 1)], [(1, 1), 0, -1.0, False, (0, 1)], [(0, 1), 3, -1.0, False, (0, 0)], [(0, 0), 1, -1.0, False, (0, 1)], [(0, 1), 0, -1.0, False, (0, 1)], [(0, 1), 0, -1.0, False, (0, 1)], [(0, 1), 0, -1.0, False, (0, 1)], [(0, 1), 1, -1.0, False, (0, 2)], [(0, 2), 0, -1.0, False, (0, 2)], [(0, 2), 1, -1.0, False, (0, 3)], [(0, 3), 1, -1.0, False, (0, 4)], [(0, 4), 2, -1.0, False, (1, 4)], [(1, 4), 3, -1.0, False, (1, 4)], [(1, 4), 1, -1.0, False, (1, 4)], [(1, 4), 1, -1.0, False, (1, 4)], [(1, 4), 0, -1.0, False, (0, 4)], [(0, 4), 0, -1.0, False, (0, 4)], [(0, 4), 3, -1.0, False, (0, 3)], [(0, 3), 0, -1.0, False, (0, 3)], [(0, 3), 2, -1.0, False, (1, 3)], [(1, 3), 1, -1.0, False, (1, 3)], [(1, 3), 0, -1.0, False, (0, 3)], [(0, 3), 1, -1.0, False, (0, 4)], [(0, 4), 0, -1.0, False, (0, 4)], [(0, 4), 0, -1.0, False, (0, 4)], [(0, 4), 1, -1.0, False, (0, 4)], [(0, 4), 2, -1.0, False, (1, 4)], [(1, 4), 1, -1.0, False, (1, 4)], [(1, 4), 1, -1.0, False, (1, 4)], [(1, 4), 3, -1.0, False, (1, 4)], [(1, 4), 0, -1.0, False, (0, 4)], [(0, 4), 3, -1.0, False, (0, 3)], [(0, 3), 0, -1.0, False, (0, 3)], [(0, 3), 0, -1.0, False, (0, 3)], [(0, 3), 3, -1.0, False, (0, 2)], [(0, 2), 0, -1.0, False, (0, 2)], [(0, 2), 0, -1.0, False, (0, 2)], [(0, 2), 3, -1.0, False, (0, 1)], [(0, 1), 3, -1.0, False, (0, 0)], [(0, 0), 0, -1.0, False, (0, 0)], [(0, 0), 1, -1.0, False, (0, 1)], [(0, 1), 0, -1.0, False, (0, 1)], [(0, 1), 1, -1.0, False, (0, 2)], [(0, 2), 0, -1.0, False, (0, 2)], [(0, 2), 3, -1.0, False, (0, 1)], [(0, 1), 0, -1.0, False, (0, 1)], [(0, 1), 3, -1.0, False, (0, 0)], [(0, 0), 3, -1.0, False, (0, 0)], [(0, 0), 0, -1.0, False, (0, 0)], [(0, 0), 3, -1.0, False, (0, 0)], [(0, 0), 1, -1.0, False, (0, 1)], [(0, 1), 0, -1.0, False, (0, 1)], [(0, 1), 1, -1.0, False, (0, 2)], [(0, 2), 0, -1.0, False, (0, 2)], [(0, 2), 3, -1.0, False, (0, 1)], [(0, 1), 3, -1.0, False, (0, 0)], [(0, 0), 0, -1.0, False, (0, 0)], [(0, 0), 0, -1.0, False, (0, 0)], [(0, 0), 1, -1.0, False, (0, 1)], [(0, 1), 0, -1.0, False, (0, 1)], [(0, 1), 0, -1.0, False, (0, 1)], [(0, 1), 3, -1.0, False, (0, 0)], [(0, 0), 1, -1.0, False, (0, 1)], [(0, 1), 2, -1.0, False, (1, 1)], [(1, 1), 3, -1.0, False, (1, 1)], [(1, 1), 1, -1.0, False, (1, 1)], [(1, 1), 2, -1.0, False, (2, 1)], [(2, 1), 0, -1.0, False, (1, 1)], [(1, 1), 1, -1.0, False, (1, 1)], [(1, 1), 0, -1.0, False, (0, 1)], [(0, 1), 3, -1.0, False, (0, 0)], [(0, 0), 1, -1.0, False, (0, 1)], [(0, 1), 1, -1.0, False, (0, 2)], [(0, 2), 3, -1.0, False, (0, 1)], [(0, 1), 0, -1.0, False, (0, 1)], [(0, 1), 0, -1.0, False, (0, 1)], [(0, 1), 1, -1.0, False, (0, 2)], [(0, 2), 0, -1.0, False, (0, 2)], [(0, 2), 3, -1.0, False, (0, 1)], [(0, 1), 3, -1.0, False, (0, 0)], [(0, 0), 1, -1.0, False, (0, 1)], [(0, 1), 2, -1.0, False, (1, 1)], [(1, 1), 0, -1.0, False, (0, 1)], [(0, 1), 1, -1.0, False, (0, 2)], [(0, 2), 1, -1.0, False, (0, 3)], [(0, 3), 2, -1.0, False, (1, 3)], [(1, 3), 3, -1.0, False, (1, 3)], [(1, 3), 1, -1.0, False, (1, 3)], [(1, 3), 2, -1.0, False, (2, 3)], [(2, 3), 2, -1.0, False, (2, 3)], [(2, 3), 2, -1.0, False, (2, 3)], [(2, 3), 0, -1.0, False, (1, 3)], [(1, 3), 0, -1.0, False, (0, 3)], [(0, 3), 2, -1.0, False, (1, 3)], [(1, 3), 0, -1.0, False, (0, 3)], [(0, 3), 0, -1.0, False, (0, 3)], [(0, 3), 2, -1.0, False, (1, 3)], [(1, 3), 2, -1.0, False, (2, 3)], [(2, 3), 3, -1.0, False, (2, 2)], [(2, 2), 3, -1.0, False, (2, 2)], [(2, 2), 3, -1.0, False, (2, 2)], [(2, 2), 0, -1.0, False, (1, 2)], [(1, 2), 0, -1.0, False, (1, 2)], [(1, 2), 2, -1.0, False, (2, 2)], [(2, 2), 3, -1.0, False, (2, 2)], [(2, 2), 2, -1.0, False, (2, 2)], [(2, 2), 3, -1.0, False, (2, 2)], [(2, 2), 1, -1.0, False, (2, 3)], [(2, 3), 1, -1.0, False, (2, 3)], [(2, 3), 0, -1.0, False, (1, 3)], [(1, 3), 3, -1.0, False, (1, 3)], [(1, 3), 1, -1.0, False, (1, 3)], [(1, 3), 2, -1.0, False, (2, 3)], [(2, 3), 1, -1.0, False, (2, 3)], [(2, 3), 3, -1.0, False, (2, 2)], [(2, 2), 0, -1.0, False, (1, 2)], [(1, 2), 3, -1.0, False, (1, 2)], [(1, 2), 3, -1.0, False, (1, 2)], [(1, 2), 3, -1.0, False, (1, 2)], [(1, 2), 1, -1.0, False, (1, 2)], [(1, 2), 2, -1.0, False, (2, 2)], [(2, 2), 0, -1.0, False, (1, 2)], [(1, 2), 2, -1.0, False, (2, 2)], [(2, 2), 1, -1.0, False, (2, 3)], [(2, 3), 1, -1.0, False, (2, 3)], [(2, 3), 0, -1.0, False, (1, 3)], [(1, 3), 1, -1.0, False, (1, 3)], [(1, 3), 3, -1.0, False, (1, 3)], [(1, 3), 1, -1.0, False, (1, 3)], [(1, 3), 2, -1.0, False, (2, 3)], [(2, 3), 3, -1.0, False, (2, 2)], [(2, 2), 0, -1.0, False, (1, 2)], [(1, 2), 2, -1.0, False, (2, 2)], [(2, 2), 3, -1.0, False, (2, 2)], [(2, 2), 0, -1.0, False, (1, 2)], [(1, 2), 3, -1.0, False, (1, 2)], [(1, 2), 3, -1.0, False, (1, 2)], [(1, 2), 0, -1.0, False, (1, 2)], [(1, 2), 3, -1.0, False, (1, 2)], [(1, 2), 0, -1.0, False, (1, 2)], [(1, 2), 1, -1.0, False, (1, 2)], [(1, 2), 1, -1.0, False, (1, 2)], [(1, 2), 0, -1.0, False, (1, 2)], [(1, 2), 0, -1.0, False, (1, 2)], [(1, 2), 3, -1.0, False, (1, 2)], [(1, 2), 0, -1.0, False, (1, 2)], [(1, 2), 0, -1.0, False, (1, 2)], [(1, 2), 1, -1.0, False, (1, 2)], [(1, 2), 3, -1.0, False, (1, 2)], [(1, 2), 1, -1.0, False, (1, 2)], [(1, 2), 0, -1.0, False, (1, 2)], [(1, 2), 3, -1.0, False, (1, 2)], [(1, 2), 2, -1.0, False, (2, 2)], [(2, 2), 0, -1.0, False, (1, 2)], [(1, 2), 3, -1.0, False, (1, 2)], [(1, 2), 1, -1.0, False, (1, 2)], [(1, 2), 1, -1.0, False, (1, 2)], [(1, 2), 1, -1.0, False, (1, 2)], [(1, 2), 0, -1.0, False, (1, 2)], [(1, 2), 3, -1.0, False, (1, 2)], [(1, 2), 1, -1.0, False, (1, 2)], [(1, 2), 1, -1.0, False, (1, 2)], [(1, 2), 0, -1.0, False, (1, 2)], [(1, 2), 0, -1.0, False, (1, 2)], [(1, 2), 0, -1.0, False, (1, 2)], [(1, 2), 3, -1.0, False, (1, 2)], [(1, 2), 2, -1.0, False, (2, 2)], [(2, 2), 1, -1.0, False, (2, 3)], [(2, 3), 1, -1.0, False, (2, 3)], [(2, 3), 2, -1.0, False, (2, 3)], [(2, 3), 3, -1.0, False, (2, 2)], [(2, 2), 3, -1.0, False, (2, 2)], [(2, 2), 0, -1.0, False, (1, 2)], [(1, 2), 3, -1.0, False, (1, 2)], [(1, 2), 2, -1.0, False, (2, 2)], [(2, 2), 3, -1.0, False, (2, 2)], [(2, 2), 1, -1.0, False, (2, 3)], [(2, 3), 2, -1.0, False, (2, 3)], [(2, 3), 3, -1.0, False, (2, 2)], [(2, 2), 1, -1.0, False, (2, 3)], [(2, 3), 2, -1.0, False, (2, 3)], [(2, 3), 2, -1.0, False, (2, 3)], [(2, 3), 1, -1.0, False, (2, 3)], [(2, 3), 1, -1.0, False, (2, 3)], [(2, 3), 0, -1.0, False, (1, 3)], [(1, 3), 2, -1.0, False, (2, 3)], [(2, 3), 0, -1.0, False, (1, 3)], [(1, 3), 2, -1.0, False, (2, 3)], [(2, 3), 2, -1.0, False, (2, 3)], [(2, 3), 0, -1.0, False, (1, 3)], [(1, 3), 0, -1.0, False, (0, 3)], [(0, 3), 2, -1.0, False, (1, 3)], [(1, 3), 2, -1.0, False, (2, 3)], [(2, 3), 3, -1.0, False, (2, 2)], [(2, 2), 1, -1.0, False, (2, 3)], [(2, 3), 3, -1.0, False, (2, 2)], [(2, 2), 0, -1.0, False, (1, 2)], [(1, 2), 3, -1.0, False, (1, 2)], [(1, 2), 0, -1.0, False, (1, 2)], [(1, 2), 3, -1.0, False, (1, 2)], [(1, 2), 1, -1.0, False, (1, 2)], [(1, 2), 1, -1.0, False, (1, 2)], [(1, 2), 1, -1.0, False, (1, 2)], [(1, 2), 3, -1.0, False, (1, 2)], [(1, 2), 0, -1.0, False, (1, 2)], [(1, 2), 0, -1.0, False, (1, 2)], [(1, 2), 3, -1.0, False, (1, 2)], [(1, 2), 3, -1.0, False, (1, 2)], [(1, 2), 3, -1.0, False, (1, 2)], [(1, 2), 2, -1.0, False, (2, 2)], [(2, 2), 2, -1.0, False, (2, 2)], [(2, 2), 3, -1.0, False, (2, 2)], [(2, 2), 2, -1.0, False, (2, 2)], [(2, 2), 1, -1.0, False, (2, 3)], [(2, 3), 2, -1.0, False, (2, 3)], [(2, 3), 0, -1.0, False, (1, 3)], [(1, 3), 1, -1.0, False, (1, 3)], [(1, 3), 1, -1.0, False, (1, 3)], [(1, 3), 1, -1.0, False, (1, 3)], [(1, 3), 2, -1.0, False, (2, 3)], [(2, 3), 0, -1.0, False, (1, 3)], [(1, 3), 3, -1.0, False, (1, 3)], [(1, 3), 2, -1.0, False, (2, 3)], [(2, 3), 3, -1.0, False, (2, 2)], [(2, 2), 1, -1.0, False, (2, 3)], [(2, 3), 2, -1.0, False, (2, 3)], [(2, 3), 1, -1.0, False, (2, 3)], [(2, 3), 0, -1.0, False, (1, 3)], [(1, 3), 3, -1.0, False, (1, 3)], [(1, 3), 3, -1.0, False, (1, 3)], [(1, 3), 3, -1.0, False, (1, 3)], [(1, 3), 3, -1.0, False, (1, 3)], [(1, 3), 1, -1.0, False, (1, 3)], [(1, 3), 3, -1.0, False, (1, 3)], [(1, 3), 0, -1.0, False, (0, 3)], [(0, 3), 0, -1.0, False, (0, 3)], [(0, 3), 3, -1.0, False, (0, 2)], [(0, 2), 0, -1.0, False, (0, 2)], [(0, 2), 1, -1.0, False, (0, 3)], [(0, 3), 1, -1.0, False, (0, 4)], [(0, 4), 1, -1.0, False, (0, 4)], [(0, 4), 3, -1.0, False, (0, 3)], [(0, 3), 2, -1.0, False, (1, 3)], [(1, 3), 1, -1.0, False, (1, 3)], [(1, 3), 2, -1.0, False, (2, 3)], [(2, 3), 1, -1.0, False, (2, 3)], [(2, 3), 0, -1.0, False, (1, 3)], [(1, 3), 3, -1.0, False, (1, 3)], [(1, 3), 3, -1.0, False, (1, 3)], [(1, 3), 3, -1.0, False, (1, 3)], [(1, 3), 0, -1.0, False, (0, 3)], [(0, 3), 2, -1.0, False, (1, 3)], [(1, 3), 0, -1.0, False, (0, 3)], [(0, 3), 0, -1.0, False, (0, 3)], [(0, 3), 3, -1.0, False, (0, 2)], [(0, 2), 1, -1.0, False, (0, 3)], [(0, 3), 2, -1.0, False, (1, 3)], [(1, 3), 3, -1.0, False, (1, 3)], [(1, 3), 0, -1.0, False, (0, 3)], [(0, 3), 3, -1.0, False, (0, 2)], [(0, 2), 1, -1.0, False, (0, 3)], [(0, 3), 0, -1.0, False, (0, 3)], [(0, 3), 0, -1.0, False, (0, 3)], [(0, 3), 2, -1.0, False, (1, 3)], [(1, 3), 0, -1.0, False, (0, 3)], [(0, 3), 0, -1.0, False, (0, 3)], [(0, 3), 0, -1.0, False, (0, 3)], [(0, 3), 2, -1.0, False, (1, 3)], [(1, 3), 2, -1.0, False, (2, 3)], [(2, 3), 3, -1.0, False, (2, 2)], [(2, 2), 3, -1.0, False, (2, 2)], [(2, 2), 2, -1.0, False, (2, 2)], [(2, 2), 3, -1.0, False, (2, 2)], [(2, 2), 0, -1.0, False, (1, 2)], [(1, 2), 1, -1.0, False, (1, 2)], [(1, 2), 3, -1.0, False, (1, 2)], [(1, 2), 3, -1.0, False, (1, 2)], [(1, 2), 3, -1.0, False, (1, 2)], [(1, 2), 0, -1.0, False, (1, 2)], [(1, 2), 0, -1.0, False, (1, 2)], [(1, 2), 0, -1.0, False, (1, 2)], [(1, 2), 2, -1.0, False, (2, 2)], [(2, 2), 0, -1.0, False, (1, 2)], [(1, 2), 3, -1.0, False, (1, 2)], [(1, 2), 2, -1.0, False, (2, 2)], [(2, 2), 1, -1.0, False, (2, 3)], [(2, 3), 3, -1.0, False, (2, 2)], [(2, 2), 2, -1.0, False, (2, 2)], [(2, 2), 2, -1.0, False, (2, 2)], [(2, 2), 0, -1.0, False, (1, 2)], [(1, 2), 3, -1.0, False, (1, 2)], [(1, 2), 2, -1.0, False, (2, 2)], [(2, 2), 0, -1.0, False, (1, 2)], [(1, 2), 3, -1.0, False, (1, 2)], [(1, 2), 0, -1.0, False, (1, 2)], [(1, 2), 0, -1.0, False, (1, 2)], [(1, 2), 2, -1.0, False, (2, 2)], [(2, 2), 1, -1.0, False, (2, 3)], [(2, 3), 1, -1.0, False, (2, 3)], [(2, 3), 2, -1.0, False, (2, 3)], [(2, 3), 1, -1.0, False, (2, 3)], [(2, 3), 2, -1.0, False, (2, 3)], [(2, 3), 3, -1.0, False, (2, 2)], [(2, 2), 1, -1.0, False, (2, 3)], [(2, 3), 3, -1.0, False, (2, 2)], [(2, 2), 0, -1.0, False, (1, 2)], [(1, 2), 0, -1.0, False, (1, 2)], [(1, 2), 2, -1.0, False, (2, 2)], [(2, 2), 2, -1.0, False, (2, 2)], [(2, 2), 3, -1.0, False, (2, 2)], [(2, 2), 0, -1.0, False, (1, 2)], [(1, 2), 2, -1.0, False, (2, 2)], [(2, 2), 3, -1.0, False, (2, 2)], [(2, 2), 2, -1.0, False, (2, 2)], [(2, 2), 0, -1.0, False, (1, 2)], [(1, 2), 2, -1.0, False, (2, 2)], [(2, 2), 0, -1.0, False, (1, 2)], [(1, 2), 1, -1.0, False, (1, 2)], [(1, 2), 2, -1.0, False, (2, 2)], [(2, 2), 2, -1.0, False, (2, 2)], [(2, 2), 3, -1.0, False, (2, 2)], [(2, 2), 1, -1.0, False, (2, 3)], [(2, 3), 1, -1.0, False, (2, 3)], [(2, 3), 0, -1.0, False, (1, 3)], [(1, 3), 3, -1.0, False, (1, 3)], [(1, 3), 2, -1.0, False, (2, 3)], [(2, 3), 1, -1.0, False, (2, 3)], [(2, 3), 2, -1.0, False, (2, 3)], [(2, 3), 2, -1.0, False, (2, 3)], [(2, 3), 1, -1.0, False, (2, 3)], [(2, 3), 0, -1.0, False, (1, 3)], [(1, 3), 0, -1.0, False, (0, 3)], [(0, 3), 0, -1.0, False, (0, 3)], [(0, 3), 3, -1.0, False, (0, 2)], [(0, 2), 1, -1.0, False, (0, 3)], [(0, 3), 3, -1.0, False, (0, 2)], [(0, 2), 0, -1.0, False, (0, 2)], [(0, 2), 3, -1.0, False, (0, 1)], [(0, 1), 2, -1.0, False, (1, 1)], [(1, 1), 0, -1.0, False, (0, 1)], [(0, 1), 1, -1.0, False, (0, 2)], [(0, 2), 2, -1.0, False, (0, 2)], [(0, 2), 2, -1.0, False, (0, 2)], [(0, 2), 1, -1.0, False, (0, 3)], [(0, 3), 2, -1.0, False, (1, 3)], [(1, 3), 0, -1.0, False, (0, 3)], [(0, 3), 0, -1.0, False, (0, 3)], [(0, 3), 3, -1.0, False, (0, 2)], [(0, 2), 3, -1.0, False, (0, 1)], [(0, 1), 3, -1.0, False, (0, 0)], [(0, 0), 0, -1.0, False, (0, 0)], [(0, 0), 0, -1.0, False, (0, 0)], [(0, 0), 0, -1.0, False, (0, 0)], [(0, 0), 1, -1.0, False, (0, 1)], [(0, 1), 0, -1.0, False, (0, 1)], [(0, 1), 2, -1.0, False, (1, 1)], [(1, 1), 2, -1.0, False, (2, 1)], [(2, 1), 0, -1.0, False, (1, 1)], [(1, 1), 1, -1.0, False, (1, 1)], [(1, 1), 2, -1.0, False, (2, 1)], [(2, 1), 3, -1.0, False, (2, 1)], [(2, 1), 3, -1.0, False, (2, 1)], [(2, 1), 3, -1.0, False, (2, 1)], [(2, 1), 0, -1.0, False, (1, 1)], [(1, 1), 1, -1.0, False, (1, 1)], [(1, 1), 3, -1.0, False, (1, 1)], [(1, 1), 1, -1.0, False, (1, 1)], [(1, 1), 1, -1.0, False, (1, 1)], [(1, 1), 2, -1.0, False, (2, 1)], [(2, 1), 0, -1.0, False, (1, 1)], [(1, 1), 0, -1.0, False, (0, 1)], [(0, 1), 1, -1.0, False, (0, 2)], [(0, 2), 0, -1.0, False, (0, 2)], [(0, 2), 1, -1.0, False, (0, 3)], [(0, 3), 3, -1.0, False, (0, 2)], [(0, 2), 0, -1.0, False, (0, 2)], [(0, 2), 1, -1.0, False, (0, 3)], [(0, 3), 1, -1.0, False, (0, 4)], [(0, 4), 0, -1.0, False, (0, 4)], [(0, 4), 3, -1.0, False, (0, 3)], [(0, 3), 2, -1.0, False, (1, 3)], [(1, 3), 0, -1.0, False, (0, 3)], [(0, 3), 2, -1.0, False, (1, 3)], [(1, 3), 0, -1.0, False, (0, 3)], [(0, 3), 2, -1.0, False, (1, 3)], [(1, 3), 3, -1.0, False, (1, 3)], [(1, 3), 3, -1.0, False, (1, 3)], [(1, 3), 0, -1.0, False, (0, 3)], [(0, 3), 3, -1.0, False, (0, 2)], [(0, 2), 0, -1.0, False, (0, 2)], [(0, 2), 3, -1.0, False, (0, 1)], [(0, 1), 0, -1.0, False, (0, 1)], [(0, 1), 3, -1.0, False, (0, 0)], [(0, 0), 1, -1.0, False, (0, 1)], [(0, 1), 0, -1.0, False, (0, 1)], [(0, 1), 2, -1.0, False, (1, 1)], [(1, 1), 2, -1.0, False, (2, 1)], [(2, 1), 0, -1.0, False, (1, 1)], [(1, 1), 2, -1.0, False, (2, 1)], [(2, 1), 1, -1.0, False, (2, 1)], [(2, 1), 0, -1.0, False, (1, 1)], [(1, 1), 0, -1.0, False, (0, 1)], [(0, 1), 0, -1.0, False, (0, 1)], [(0, 1), 1, -1.0, False, (0, 2)], [(0, 2), 1, -1.0, False, (0, 3)], [(0, 3), 3, -1.0, False, (0, 2)], [(0, 2), 2, -1.0, False, (0, 2)], [(0, 2), 1, -1.0, False, (0, 3)], [(0, 3), 3, -1.0, False, (0, 2)], [(0, 2), 0, -1.0, False, (0, 2)], [(0, 2), 3, -1.0, False, (0, 1)], [(0, 1), 1, -1.0, False, (0, 2)], [(0, 2), 3, -1.0, False, (0, 1)], [(0, 1), 2, -1.0, False, (1, 1)], [(1, 1), 0, -1.0, False, (0, 1)], [(0, 1), 0, -1.0, False, (0, 1)], [(0, 1), 1, -1.0, False, (0, 2)], [(0, 2), 3, -1.0, False, (0, 1)], [(0, 1), 2, -1.0, False, (1, 1)], [(1, 1), 3, -1.0, False, (1, 1)], [(1, 1), 2, -1.0, False, (2, 1)], [(2, 1), 2, -1.0, False, (3, 1)], [(3, 1), 2, -1.0, False, (3, 1)], [(3, 1), 1, -1.0, False, (3, 1)], [(3, 1), 0, -1.0, False, (2, 1)], [(2, 1), 0, -1.0, False, (1, 1)], [(1, 1), 1, -1.0, False, (1, 1)], [(1, 1), 0, -1.0, False, (0, 1)], [(0, 1), 3, -1.0, False, (0, 0)], [(0, 0), 1, -1.0, False, (0, 1)], [(0, 1), 2, -1.0, False, (1, 1)], [(1, 1), 0, -1.0, False, (0, 1)], [(0, 1), 0, -1.0, False, (0, 1)], [(0, 1), 2, -1.0, False, (1, 1)], [(1, 1), 3, -1.0, False, (1, 1)], [(1, 1), 0, -1.0, False, (0, 1)], [(0, 1), 2, -1.0, False, (1, 1)], [(1, 1), 2, -1.0, False, (2, 1)], [(2, 1), 3, -1.0, False, (2, 1)], [(2, 1), 1, -1.0, False, (2, 1)], [(2, 1), 3, -1.0, False, (2, 1)], [(2, 1), 0, -1.0, False, (1, 1)], [(1, 1), 1, -1.0, False, (1, 1)], [(1, 1), 0, -1.0, False, (0, 1)], [(0, 1), 0, -1.0, False, (0, 1)], [(0, 1), 3, -1.0, False, (0, 0)], [(0, 0), 3, -1.0, False, (0, 0)], [(0, 0), 0, -1.0, False, (0, 0)], [(0, 0), 0, -1.0, False, (0, 0)], [(0, 0), 2, -1.0, False, (1, 0)], [(1, 0), 0, -1.0, False, (0, 0)], [(0, 0), 3, -1.0, False, (0, 0)], [(0, 0), 2, -1.0, False, (1, 0)], [(1, 0), 3, -1.0, False, (1, 0)], [(1, 0), 3, -1.0, False, (1, 0)], [(1, 0), 0, -1.0, False, (0, 0)], [(0, 0), 2, -1.0, False, (1, 0)], [(1, 0), 1, -1.0, False, (1, 0)], [(1, 0), 2, -1.0, False, (2, 0)], [(2, 0), 1, -1.0, False, (2, 0)], [(2, 0), 3, -1.0, False, (2, 0)], [(2, 0), 3, -1.0, False, (2, 0)], [(2, 0), 2, -1.0, False, (3, 0)], [(3, 0), 3, -1.0, False, (3, 0)], [(3, 0), 3, -1.0, False, (3, 0)], [(3, 0), 0, -1.0, False, (2, 0)], [(2, 0), 1, -1.0, False, (2, 0)], [(2, 0), 3, -1.0, False, (2, 0)], [(2, 0), 0, -1.0, False, (1, 0)], [(1, 0), 0, -1.0, False, (0, 0)], [(0, 0), 0, -1.0, False, (0, 0)], [(0, 0), 3, -1.0, False, (0, 0)], [(0, 0), 2, -1.0, False, (1, 0)], [(1, 0), 2, -1.0, False, (2, 0)], [(2, 0), 2, -1.0, False, (3, 0)], [(3, 0), 0, -1.0, False, (2, 0)], [(2, 0), 2, -1.0, False, (3, 0)], [(3, 0), 1, -1.0, False, (3, 0)], [(3, 0), 3, -1.0, False, (3, 0)], [(3, 0), 2, -1.0, False, (4, 0)], [(4, 0), 2, -1.0, False, (4, 0)], [(4, 0), 0, -1.0, False, (3, 0)], [(3, 0), 3, -1.0, False, (3, 0)], [(3, 0), 2, -1.0, False, (4, 0)], [(4, 0), 3, -1.0, False, (4, 0)], [(4, 0), 0, -1.0, False, (3, 0)], [(3, 0), 3, -1.0, False, (3, 0)], [(3, 0), 3, -1.0, False, (3, 0)], [(3, 0), 1, -1.0, False, (3, 0)], [(3, 0), 2, -1.0, False, (4, 0)], [(4, 0), 3, -1.0, False, (4, 0)], [(4, 0), 0, -1.0, False, (3, 0)], [(3, 0), 3, -1.0, False, (3, 0)], [(3, 0), 2, -1.0, False, (4, 0)], [(4, 0), 0, -1.0, False, (3, 0)], [(3, 0), 2, -1.0, False, (4, 0)], [(4, 0), 2, -1.0, False, (4, 0)], [(4, 0), 3, -1.0, False, (4, 0)], [(4, 0), 3, -1.0, False, (4, 0)], [(4, 0), 3, -1.0, False, (4, 0)], [(4, 0), 2, -1.0, False, (4, 0)], [(4, 0), 2, -1.0, False, (4, 0)], [(4, 0), 0, -1.0, False, (3, 0)], [(3, 0), 1, -1.0, False, (3, 0)], [(3, 0), 0, -1.0, False, (2, 0)], [(2, 0), 2, -1.0, False, (3, 0)], [(3, 0), 0, -1.0, False, (2, 0)], [(2, 0), 2, -1.0, False, (3, 0)], [(3, 0), 2, -1.0, False, (4, 0)], [(4, 0), 3, -1.0, False, (4, 0)], [(4, 0), 2, -1.0, False, (4, 0)], [(4, 0), 1, -1.0, False, (4, 1)], [(4, 1), 1, -1.0, False, (4, 2)], [(4, 2), 1, -1.0, False, (4, 2)], [(4, 2), 0, -1.0, False, (3, 2)], [(3, 2), 2, -1.0, False, (4, 2)], [(4, 2), 1, -1.0, False, (4, 2)], [(4, 2), 3, -1.0, False, (4, 1)], [(4, 1), 3, -1.0, False, (4, 0)], [(4, 0), 1, -1.0, False, (4, 1)], [(4, 1), 1, -1.0, False, (4, 2)], [(4, 2), 1, -1.0, False, (4, 2)], [(4, 2), 1, -1.0, False, (4, 2)], [(4, 2), 0, -1.0, False, (3, 2)], [(3, 2), 3, -1.0, False, (3, 2)], [(3, 2), 1, -1.0, False, (3, 3)], [(3, 3), 1, -1.0, False, (3, 4)], [(3, 4), 1, -1.0, False, (3, 4)], [(3, 4), 1, -1.0, False, (3, 4)], [(3, 4), 0, -1.0, False, (3, 4)], [(3, 4), 3, -1.0, False, (3, 3)], [(3, 3), 0, -1.0, False, (3, 3)], [(3, 3), 2, -1.0, False, (4, 3)], [(4, 3), 2, -1.0, False, (4, 3)], [(4, 3), 2, -1.0, False, (4, 3)], [(4, 3), 1, -1.0, True, (4, 4)]]\n"
          ]
        }
      ],
      "source": [
        "env = Maze()\n",
        "state = env.reset()\n",
        "episode = []\n",
        "done = False\n",
        "while not done:\n",
        "    action = env.action_space.sample()\n",
        "    next_state, reward, done, extra_info = env.step(action)\n",
        "    episode.append([state, action, reward, done, next_state])\n",
        "    state = next_state\n",
        "env.close()\n",
        "\n",
        "print(f\"Congrats! You just generated your first episode:\\n{episode}\")"
      ]
    },
    {
      "cell_type": "markdown",
      "metadata": {
        "id": "nDpBTu8rkzBO"
      },
      "source": [
        "##### Rewards and returns\n",
        "\n",
        "A reward is numerical feedback that the environment generates when the agent takes an action *a* in a state *s*:\n",
        "\n",
        "\\begin{equation}\n",
        "    r = r(s, a)\n",
        "\\end{equation}\n",
        "\n",
        "Let's generate a reward from the environment:"
      ]
    },
    {
      "cell_type": "code",
      "execution_count": 14,
      "metadata": {
        "id": "4nv4JmpekzBO",
        "outputId": "ab648c00-4aa6-4d7d-fa65-4b86e0415449",
        "colab": {
          "base_uri": "https://localhost:8080/"
        }
      },
      "outputs": [
        {
          "output_type": "stream",
          "name": "stdout",
          "text": [
            "We achieved a reward of -1.0 by taking action 3 in state (0, 0)\n"
          ]
        }
      ],
      "source": [
        "env = Maze()\n",
        "state = env.reset()\n",
        "action = env.action_space.sample()\n",
        "_, reward, _, _ = env.step(action)\n",
        "print(f\"We achieved a reward of {reward} by taking action {action} in state {state}\")"
      ]
    },
    {
      "cell_type": "markdown",
      "metadata": {
        "id": "n3cUQup0kzBO"
      },
      "source": [
        "The return associated with a moment in time *t* is the sum (discounted) of rewards that the agent obtains from that moment. We are going to calculate $G_0$, that is, the return to the beginning of the episode:\n",
        "\n",
        "\\begin{equation}\n",
        "    G_0 = R_1 + \\gamma R_2 + \\gamma^2 R_3 + ... + \\gamma^{T-1} R_T\n",
        "\\end{equation}\n",
        "\n",
        "\n",
        "\n",
        "Let's assume that the discount factor $\\gamma = 0.99$:\n"
      ]
    },
    {
      "cell_type": "code",
      "execution_count": 15,
      "metadata": {
        "id": "sVHUd8lAkzBP",
        "outputId": "0d24a39b-e149-4398-b23c-a3f267478607",
        "colab": {
          "base_uri": "https://localhost:8080/"
        }
      },
      "outputs": [
        {
          "output_type": "stream",
          "name": "stdout",
          "text": [
            "It took us 1584 moves to find the exit,\n",
            "    and each reward r(s,a)=-1, so the return amounts to -99.99998780594224\n"
          ]
        }
      ],
      "source": [
        "env = Maze()\n",
        "state = env.reset()\n",
        "done = False\n",
        "gamma = 0.99\n",
        "G_0 = 0\n",
        "t = 0\n",
        "while not done:\n",
        "    action = env.action_space.sample()\n",
        "    _, reward, done, _ = env.step(action)\n",
        "    G_0 += gamma ** t * reward\n",
        "    t += 1\n",
        "env.close()\n",
        "\n",
        "print(\n",
        "    f\"\"\"It took us {t} moves to find the exit,\n",
        "    and each reward r(s,a)=-1, so the return amounts to {G_0}\"\"\")"
      ]
    },
    {
      "cell_type": "markdown",
      "metadata": {
        "id": "k_-SzsKqkzBP"
      },
      "source": [
        "##### Policy\n",
        "\n",
        "A policy is a function $\\pi(a|s) \\in [0, 1]$ that gives the probability of an action given the current state. The function takes the state and action as inputs and returns a float in [0,1].\n",
        "\n",
        "Since in practice we will need to compute the probabilities of all actions, we will represent the policy as a function that takes the state as an argument and returns the probabilities associated with each of the actions. Thus, if the probabilities are:\n",
        "\n",
        "[0.5, 0.3, 0.1]\n",
        "\n",
        "we will understand that the action with index 0 has a 50% probability of being chosen, the one with index 1 has 30% and the one with index 2 has 10%.\n",
        "\n",
        "Let's code a policy function that chooses actions randomly:"
      ]
    },
    {
      "cell_type": "code",
      "execution_count": 16,
      "metadata": {
        "id": "ma5JmoBpkzBP"
      },
      "outputs": [],
      "source": [
        "def random_policy(state):\n",
        "    return np.array([0.25] * 4)"
      ]
    },
    {
      "cell_type": "markdown",
      "metadata": {
        "id": "OFo4dB1XkzBP"
      },
      "source": [
        "## Playing an episode with our random policy"
      ]
    },
    {
      "cell_type": "markdown",
      "metadata": {
        "id": "cyKI_99lkzBP"
      },
      "source": [
        "###### Create and reset the environment"
      ]
    },
    {
      "cell_type": "code",
      "execution_count": 17,
      "metadata": {
        "id": "fyvHJbbGkzBP"
      },
      "outputs": [],
      "source": [
        "env = Maze()\n",
        "state = env.reset()"
      ]
    },
    {
      "cell_type": "markdown",
      "metadata": {
        "id": "FMwqTWLvkzBP"
      },
      "source": [
        "Compute $p(a|s) \\ \\forall a \\in \\{0, 1, 2, 3\\}$"
      ]
    },
    {
      "cell_type": "code",
      "execution_count": 18,
      "metadata": {
        "id": "6FuAJ8cSkzBP"
      },
      "outputs": [],
      "source": [
        "action_probabilities = random_policy(state)"
      ]
    },
    {
      "cell_type": "code",
      "execution_count": 19,
      "metadata": {
        "id": "X1E0GbytkzBP",
        "outputId": "0f150636-6935-42fd-96a9-c93634048337",
        "colab": {
          "base_uri": "https://localhost:8080/",
          "height": 487
        }
      },
      "outputs": [
        {
          "output_type": "display_data",
          "data": {
            "text/plain": [
              "<Figure size 640x480 with 1 Axes>"
            ],
            "image/png": "[encoded data removed]"
          },
          "metadata": {}
        }
      ],
      "source": [
        "objects = ('Up', 'Right', 'Down', 'Left')\n",
        "y_pos = np.arange(len(objects))\n",
        "\n",
        "plt.bar(y_pos, action_probabilities, alpha=0.5)\n",
        "plt.xticks(y_pos, objects)\n",
        "plt.ylabel('P(a|s)')\n",
        "plt.title('Random Policy')\n",
        "plt.tight_layout()\n",
        "\n",
        "plt.show()"
      ]
    },
    {
      "cell_type": "markdown",
      "metadata": {
        "id": "0qoQVv-wkzBQ"
      },
      "source": [
        "##### Use the policy to play an episode (This cell has been updated, read below)\n",
        "\n",
        "\n",
        "Dear student, to keep the course content up to date, the code for displaying our policy facing the environment has been updated.\n",
        "This function works the same way as described in the video, the only difference\n",
        "is that now we save a screenshot of every state in the `frames` variable and then, we use the `display_video` function to turn those images into a video.\n",
        "\n",
        "<br>\n",
        "\n",
        "In any case, this is convenience code that is completely unrelated to Reinforcement Learning, so in the following notebooks, I'll just make it available to you in the first code cell (which you can just run and ignore, like you did this time). That way, you'll be able to focus on the important part.\n",
        "\n",
        "Cheers!\n",
        "\n",
        "\n",
        "\n"
      ]
    },
    {
      "cell_type": "code",
      "source": [
        "def test_agent(environment, policy):\n",
        "    frames = []\n",
        "    state = env.reset()\n",
        "    done = False\n",
        "    frames.append(env.render(mode=\"rgb_array\"))\n",
        "\n",
        "    while not done:\n",
        "        action_probs = policy(state)\n",
        "        action = np.random.choice(range(4), 1, p=action_probs)\n",
        "        next_state, reward, done, extra_info = env.step(action)\n",
        "        img = env.render(mode=\"rgb_array\")\n",
        "        frames.append(img)\n",
        "        state = next_state\n",
        "\n",
        "    return display_video(frames)\n",
        "\n",
        "\n",
        "test_agent(env, random_policy)"
      ],
      "metadata": {
        "id": "c54pyJpc2bq1",
        "outputId": "df6bc9e3-ee22-47f9-9612-98e561325d55",
        "colab": {
          "base_uri": "https://localhost:8080/",
          "height": 521
        }
      },
      "execution_count": 20,
      "outputs": [
        {
          "output_type": "execute_result",
          "data": {
            "text/plain": [
              "<IPython.core.display.HTML object>"
            ],
            "text/html": [
              "<video width=\"500\" height=\"500\" controls autoplay>\n",
              "  <source type=\"video/mp4\" src=\"data:video/mp4;base64,AAAAIGZ0eXBNNFYgAAACAE00ViBpc29taXNvMmF2YzEAAAAIZnJlZQAArfZtZGF0AAACrgYF//+q\n",
              "3EXpvebZSLeWLNgg2SPu73gyNjQgLSBjb3JlIDE2MyByMzA2MCA1ZGI2YWE2IC0gSC4yNjQvTVBF\n",
              "Ry00IEFWQyBjb2RlYyAtIENvcHlsZWZ0IDIwMDMtMjAyMSAtIGh0dHA6Ly93d3cudmlkZW9sYW4u\n",
              "b3JnL3gyNjQuaHRtbCAtIG9wdGlvbnM6IGNhYmFjPTEgcmVmPTMgZGVibG9jaz0xOjA6MCBhbmFs\n",
              "eXNlPTB4MzoweDExMyBtZT1oZXggc3VibWU9NyBwc3k9MSBwc3lfcmQ9MS4wMDowLjAwIG1peGVk\n",
              "X3JlZj0xIG1lX3JhbmdlPTE2IGNocm9tYV9tZT0xIHRyZWxsaXM9MSA4eDhkY3Q9MSBjcW09MCBk\n",
              "ZWFkem9uZT0yMSwxMSBmYXN0X3Bza2lwPTEgY2hyb21hX3FwX29mZnNldD0tMiB0aHJlYWRzPTMg\n",
              "bG9va2FoZWFkX3RocmVhZHM9MSBzbGljZWRfdGhyZWFkcz0wIG5yPTAgZGVjaW1hdGU9MSBpbnRl\n",
              "cmxhY2VkPTAgYmx1cmF5X2NvbXBhdD0wIGNvbnN0cmFpbmVkX2ludHJhPTAgYmZyYW1lcz0zIGJf\n",
              "cHlyYW1pZD0yIGJfYWRhcHQ9MSBiX2JpYXM9MCBkaXJlY3Q9MSB3ZWlnaHRiPTEgb3Blbl9nb3A9\n",
              "MCB3ZWlnaHRwPTIga2V5aW50PTI1MCBrZXlpbnRfbWluPTIwIHNjZW5lY3V0PTQwIGludHJhX3Jl\n",
              "ZnJlc2g9MCByY19sb29rYWhlYWQ9NDAgcmM9Y3JmIG1idHJlZT0xIGNyZj0yMy4wIHFjb21wPTAu\n",
              "NjAgcXBtaW49MCBxcG1heD02OSBxcHN0ZXA9NCBpcF9yYXRpbz0xLjQwIGFxPTE6MS4wMACAAAAF\n",
              "z2WIhACf2WdBBMcSgR79PWMxFJhtRQC+1MOxfqRffl+BIGYSpbn04L89reMR6l2wAAADAAADAECn\n",
              "OiagF/aSoScm0mxB0jZsQUMXj4xtK9PC34C5Kjzvm9FJaNPCK28Oo9+zkXv1FGfaLzQKXxyMRy84\n",
              "NugvKwjoQasQdwrohhoUavecWLj1oxkl9Xsh15Z9qk/hV7EGv0sEHny58nzrZzXwy77pipBfPx4P\n",
              "VT61L6SeRrR1jni8b0oksQkvQEdqtdXAvyAJ/P7aqwOp/OaHi75P2OiziXI22sX4XbT1qQxdjdwO\n",
              "MlC3cS5rKGvlvulCDn/i7/KBE+waECTJgAABT3CYyTmY76b5qEL+XT11lNTPbHRiATFe2c4Qb32T\n",
              "Snh2/F06aiY1B49gP1igrB8Efbt7mjVMWxk7/bGfVFn85v2m/vSNeRzyTu/kl6B10iqChXfN1kaB\n",
              "D53B2ITRBqKtzzB9ujhE7gIevpCd75y+AAAnwY9R1T/5LDU/EvPS7OeyjhsFIkM2a37neXSGTLv+\n",
              "fwAmxiL1eaLFLNMwS3jbl0iMWlklQflGqv23xs/ey2eWJC+a8gU7prsruBam/sdKjlXCcgDnSTUT\n",
              "jmo8qjHrvGOxrL/bTL5EY1lktFc/YxBLHSpstt+pj9M+Pve4vkaQQE8cK0OkihBVALcvBRFqEIGv\n",
              "6scB598soS7k9iq8WTwSBGNzcJyAKPNFvs1P7N//Xhc20DBXK9U+tameughb6WgkxQp7JED2DQyQ\n",
              "N7ZmCKTZ9h0bcqyVZrPAmOb/VFa9SjrRXTkVElBeslsfp/jNGGQM///G4qXjAAAeqwfBG69sNqmT\n",
              "V+oDo5s5SC31nmBxaLwXvn+WTGbZy7ZqVq8Af7qFg07Yf+lRL3A28PmOLeogZB/ZgO0KgJyj3Elg\n",
              "xOsx5tyUDfJOYDxHfJeokmUbUg+yQSr00ohqe1VX4sAI/20pOt3p5V1BxAF1wg+1cOfR0fNmC1t1\n",
              "OLSukLjueaFcsD/bJ1vACpJJRZnjJZXJPNJfTSNIPWR7N1YyI2T3aUNOkeI4JCykYuyf0GIay9vR\n",
              "kcODzNh7gaTVCFopYXea6DM6yDSaWIn9pTsKkFWBKvjAFufBaaQoB2e9Q+V+1kRAL8RgTbDT55nC\n",
              "eTziQ+YcZbgBIFozC1D6oLPbrED5VWnppVmgro4mnK98xu19PnuLakpJwAjou41EFewBS3l8LneH\n",
              "wGfdtQeduNvxa4TEvKLlwmhUdOpQkLwOOqB2RUwmguxek1THm2DbgqpW6MKvO+1PVajmJ/Rf9gAz\n",
              "weKVzOBUFF/CRNWmlBsbFVL8BTeyv9ORyI8AG+u/na/xzyBicv945iD7qVtdt6VFz8HkqkUuLwnL\n",
              "jumabNoDhaN00qfzIaDUEQeTbdRVY8PQqcPi6zm1BlXg9V+2iLzNLet/zBmqMAAA0jKzCMonh5zo\n",
              "O14B2hU9qu2AtAKnp/Y1sCnXBuj8izmCicChwpFRY5t3seLtDfabQrVpJEDKUGMkdOgoEPvzf/WD\n",
              "41QidIbvFw0CtBxcz3vmAGwGgrPgPSRWVG0IJzkGgrplD5F06RHUk99+ag0iS6XrBOz4nNL0LUTr\n",
              "rr8D5Up0K7O6onTmPlHjbAyqKAubVESY11PRnWJS2aEd8+JCCJLnk5OTdfQAIMHtpdfYdmQkbEh7\n",
              "htWLrMiXXfMq1rsideXd18nj3lrUeSpyjviPs2U0I7L2v73SnDVMaXWYmECq7mtAbcZAMHTryurv\n",
              "N7Z/pMkL5hCGr5A41RQ9s/c45AafpqAA3IcAvoqOrgiU/gFN0cz7q1UWQnvxVF973UZorjhmKKTV\n",
              "bWsuoDK9PgxgZd5mFfT0xMmd9fTSeJbO8iXyhyMhzbmomiIBLFNMo+4kDJGyjL/CC83uiwFZUKUK\n",
              "EiA7DPFwBBKVnnuhRAWGEIsO7BjDSR5asIUj4iQFZ3OnOPhbriighTWrRgaN/DyddaJ9IAY+h8T/\n",
              "iqCuaDvlAAACGkGaJGxJ/wAiCq/F3tdomAUCr/hLXczJWpQQeBXZ4FmXhii/6WHw1yAQLT9aJulu\n",
              "8a+u73kaUPXJu+y9JAHwKtOlKTV29yFfD2ebDaCevYA9CGAyhTqjtQADRHQ0hdG/Lc4LPsnc9U1X\n",
              "pgTuxlYj+Ppw7APLrtgsJdr+ncYeqI8dumqXHvKMkgQGtPmTYE2Jov4AylSU6lMiH3CJvDnOVGTc\n",
              "vV4UqYDShZIBBqDVthMS/7WPd06C3RhgYlgySQ/2KGKR7asP9iQjNuZ2Igi6DwpZ8LeAPY36CToc\n",
              "qEjixUREoX6SGL9dmaOIOgi+yYW9ZqvR4xbEPV7f1eCLoE5LZObetW22XrTmmUPFAQgx/0JjI4uA\n",
              "hyJWDlv6RcRKh1yVYdTvMeOxer0Er7QmTgsYY5AmwU5JkrWlP4/KyO3esUAlEvGMcTIhpLRWSkyN\n",
              "ta8vKnGZVM6cBYwt4nY1hKqOxlkXdOVx1rsxi6YydLKvHYSYT+z9aDmgoSx8PyeE1UqvscaiZHX0\n",
              "4ozb0wZg6p1QJLJkKHQuSxTKzqnSkurEdTbFoVII0DATlAo3OpxBcoXdOulTYK9+DETWiXAFXMih\n",
              "nVwMfJfcHYYa7FrSDRHZpIF+LsWMl+w36RAjox5p4jA/FS0kX6d1IPviCf6g/QxJOxIbr/d90zCc\n",
              "Xc6z7ikWV9eC4Jyta8PYEu7PgiZ6K9gFPJgIwswAAAMARcAAAAAiQZ5CeIS/OkfH61QL7uig8FI/\n",
              "k/gn9DozVjVBEaAAAAMBywAAABMBnmF0Qt85oetJ0ZjLwAAAAwFbAAAAHQGeY2pC3z9YjNjAKkdW\n",
              "sy46xIcTnuuWAAADABsxAAACUkGaaEmoQWiZTAk/ABOeAvc6Mkq7baMjbsXy2gPDuBl5ucx3dMm/\n",
              "+6YvWbtGeiQ8QERQorMXPJR5OgK2HZQTTM34Ah26Vr1G0rpBpsFkt3q8nF4lN/FKbKxxGCtSXxZ7\n",
              "LpzJrA2OJXqzCUXHFdO7ETadlADsM+r+Uqs9T58JENV5LJeljQNkwmEYrRrbG2rQZ9gCdb0uui2Q\n",
              "obd3rumTNkcvshSjrZWsPYSVY6hUHal3rl3o4xMMZtb8nuI+01fGxFQamUfaeXHqwmHcfm8FIBMx\n",
              "slaYhfOrTy/lho45NCerPVbVReUylTNw6y1t37/7Xol7Y6xnGI8iNGu7kXCb2+fIQydNHscZ/8od\n",
              "pJlvEmNvb2DWR6w1ybGty2SEofULPj5EcH+PUxzGxNYUf0fEimddrMHdpoGozoWdkpb8cPa7m4cJ\n",
              "bcpMYIUsrfx22M0uu9s2ZiF5h7LjAlPKFVEopJv/QmGmo1eLOXP/I1ZTNXYnFcCnSDCp3eCA/aXs\n",
              "hjs+K0aIbqQUnGDlZ8FxbL5leTvFAmivsQ73NaYgW5IKs2nUOVP9vcr+1WbgK/N+Y0STX6HtjW7W\n",
              "HphsB56x7aNFMebOepZ1bOY7+8xYPJ8LPxZFJj+lA+ZX4B+SGac9vS6jS/e/7F+z6cs5cSZf9SGT\n",
              "FJcrkvkAVoWeP7UiVE3Aoqv5QoaA/50D76FQBGolgTqtaEUf1LuW+psxSXh+O0gH44N/1Am39k/q\n",
              "2S7HUmWy35b/LWT7Ar0htb4kGpJcLatakskxqfOI7WWVrT+4H+HcgAC7gQAAACRBnoZFESwl/zHP\n",
              "dcGilXNZn6hpPhsBN3/7aQaIvdoQeAAAHpEAAAAXAZ6ldELfF5ye9XTB3w15n/0AAAMADekAAAAk\n",
              "AZ6nakLfNuzSGSZkvQDak5oKiu8zcV7LWuzs0PQ6AAADANSAAAAAF0GarEmoQWyZTAk/AAADAkP+\n",
              "yVwAAFNAAAAAE0GeykUVLCX/AF0SSeYicAAAGrEAAAAPAZ7pdELfAAg13xCQAAj4AAAADwGe62pC\n",
              "3wAINd8QkAAI+AAAAYJBmu1JqEFsmUwJPwATanX6qTjBm1+8y+xb/utvTrOohTpNHB0yVmBvz+Oq\n",
              "JPxB149aLo4t7lmmLZeUqpA5wNJb5kyi2E5X7cICc2pD8sfG5Kuiq2kwIDJedDX0BbYVFWxZcrWp\n",
              "wqVi24cfDLg5VYwfKV48CyeBpvXq00/bPKMDjuqgcZ13f0NPA0fSULM0fKwP03hvdFeGFOVl8MfR\n",
              "YYj58/Vb2cZJ8IFGq9Wyy8n4fxTdQChYbQRn+N95TG+D5SztuFspfDKgcUOxqYXNgriEevcthGLq\n",
              "paP9AL9+d22btuwdrztM040sJksa9eEXu6KpiYL0Kjt8UubaD1Zq1EKKFnK800VW7PvM60kHG4T9\n",
              "nbwCbXOc4Wst/u6YpGraFPKBfquS2KVAbT0MRHFebQTJdf4Yv1wcBz92X8bxsaa2B91TEaC9KLmt\n",
              "8YsXFYq85E4l8Jcph1xg0tJlTz4w4n6ejgGtNTqNdjb+dAmfABLhQnE7QEeGp0updCKQfzd4yPoo\n",
              "QQAAADdBmxFJ4QpSZTAk/wATn9Gq+/HPBRcORXYOzKOqc3Yr/NbzK7mec7wrHAvM/RFWJOd0I/jA\n",
              "ACyhAAAAHkGfL0U0TCX/MUAAigCZY/OoLAZ5cSgDOEgAAAMBDwAAAB4Bn050Qt82YAAw5Lgm1jS6\n",
              "FB4iw8r2mE4ngAAAGpAAAAAOAZ9QakLfAGWpkAAAOmAAAABAQZtSSahBaJlMCT8AE6Ze6KHh8nyQ\n",
              "Dir/pW2OA2uih3mK19hlxKMPAA7yO+YIuVWwf7sD0AXdaq6AOOSW0AAUEQAAAZlBm3ZJ4QpSZTAk\n",
              "/wATngL0zp2Q4cj6orsoCWTNoDgJgfYJtt0kRRjHI6YuPofqB6rkLepeixNoeK6Rsxj4lzwvx4Aq\n",
              "b1bSi+kKzHUCv1GQdpNUABHMr8in+uzhwTROdEAfqtCCdkFsa8LZFagp3or3ZbCQxkDteJy/HTpz\n",
              "+ic+vaxtHICfErRCBj8u/IyQvGQBurUPCLU2EJ7MPKA7toBGlLxHvku884nMbnotnGk6aoFeBnr0\n",
              "gN6KCbkWP9warQd8Z4C7NPd5wnJRT8iXsPhnTARh1s3pVp5FAAAWi/pnTvZatig43TE12AlfzhSi\n",
              "rfl8XbGL3HrQbjiNb5hpsj85abQRm3/G1wEX/3ADZbvyel1GXFdEAHAy+75I+E/PFbl85vU8yh0A\n",
              "U40wbHL1p+KSTDVVPAP1gs70Hcj3diDZZKP4mNHJQgUhRTszWC8Y2cnez/KkQXHeiArU9d/2L3ed\n",
              "2R6+RqKLr1Dp1JrMtB+53I+GS2p0eXluGzhfgLA+aGO5Xdw6Kvm/BDZ9VFM16HnOLrugx8oAAAWU\n",
              "AAAAOEGflEU0TCX/MUAA0NJrdSUJqLxRDSudxrsPiSWPTn4SgTpLuN3AnIXkiusj1Yoz01eoYDgA\n",
              "AAWUAAAAIAGfs3RC32v9ZAALvQpy7j3Eo2qt8VNQvONkzEAAAAj5AAAAHQGftWpC32o7ralNufQW\n",
              "ifPnT7GMj5aQAAADAHTAAAABjkGbuEmoQWiZTBTyfwANry3eyXO07DCPX+eygUnA5fOcj0LmvS/m\n",
              "tdTgHUtzZ11jR3O8eDYJqxS7hKh8rU2d4OyRmSvpD96BJi4Jt9qBLRoZDSfYGsXZVkbj/anS77KG\n",
              "0tgS1HBx5eRF4xTj3P/ktnXIO15hx9RV+5EpaC5W89rxp4CjKiyesElKbPHWYuVEXp0TjapV+wnp\n",
              "h9+PgePyfLXF17kma5lYQzRAk9j1cN5xXsLnnJ0pvpv5U6kD45Nzp0jeSApi4ZCJbGWRsV2NfKT4\n",
              "G4dz/v4mAAAdsQh2denV3PhJvTMogSgpV0VI5PxiQ2yLoqS9IiV0PWHldG1DoqfufAHHym/4iJle\n",
              "ACFbJjEbuZzHguoKTu2a5+VUCirV7i/I116Xnw0/ZbVJRO56MdokQRUBCGp1hf2oUn23Bf4qVny9\n",
              "atKqajg3cn6AqdNDTD0gY8yUDwQUy8uuUmZPFzQJ7u1hb408c8Zlrlw7Z2GD4PAa65uGQB+3aV/o\n",
              "cR98k46xH8FAZRZRooAAABCxAAAAIwGf12pC3y/VgoALZlQkski/2S9Zudq7K9soDsYFAAADAAxZ\n",
              "AAACJUGb3EnhClJlMCT/AAr64L0wsP9qsHON/HKvILP1yysd7BCauT3dOuNihwyF8rEOh99bs2+d\n",
              "/5iKZjE6zS3YgjsqaHEcWcSf4I4sr5WqcZO9HSHTLkARdzlrsUBzF3lNp73Cwa1HjVxYCYpg4Xpk\n",
              "//LWk3N+Xn6kjQAz2Jkvkz9xfm7ZP0X++wKj2vhqzOxVtrq2oo7AYXbTuxlIu2BebKBe0cOlu0gG\n",
              "f31Zi/Z+G7by9QGU8pcv31hfbeRo77iAXlgwGxclxKC5t1PfSGyAALcNK0L7W3kdvH/Q/9SpB/Y8\n",
              "p/Xv0tgUSX8kg/BjqB9TCExygF1LRiMcjtW70gTGB4chWT0N7Oi23kcHBuyNSAJhucsloqYBbuLZ\n",
              "3lH8ORbZWmBXuS3tcUo9YcpiIft5m/nL0gWJEPQPWUeILKKpHD3rzw/iLNDdzb9MTiWXWdpxWTzj\n",
              "H+kDRVdK+vgXP7nTlAbJ6Jc/NLO3rQkJSzpLi05HVFHBiTBu+rauyqXu+2a4022UTIXtkvwcs9kB\n",
              "Nj4EPFHwNHFVcxi/jKokSy5ieGCvZ8vvfwsm7F8qjd/c9fsBZE5kqeg/4lFOKoIBDKUMRPOo4tc5\n",
              "RMGdwQdI0FWkVuz6ArFuagL5iRVrz/w0v7GFaG3ZlDI3GOcKfslUyXtq0FHdr5fPT7I+Kk7pGrbv\n",
              "Vfc6lPgGmLAbzB9KUd1ikBw2dW46LjWedfWWMrjzGrCFsKsPxAADugAAACpBn/pFNEwl/yMpDEhP\n",
              "0cAAeQ9kgNGlxlezHDOQfnnGq1Yu+Mde3AAAakEAAAAcAZ4ZdELfJyr6iCBMhYy5EBwqQznN9GPA\n",
              "AAAJWAAAABIBnhtqQt8Pd1E8b8mUwAAAD5kAAAGcQZoASahBaJlMCT8AABQv9hPk7P7gJiAWwxlB\n",
              "WzM/EJDi3L7X1rPhtV3eZVR4FyfQcesQfy/pKI1S5gOkxAgxEG8ZPOqqD58ZCayDyNlj1lrurjlx\n",
              "EZRZEgfL53KtFA56GT3xexc0uEcr6BV7Xk6VNUprDMmY7qfpqKIG2ybU/SuUKDQE5oOYFMvFiedp\n",
              "VFgkibQYnWYX8uSv3Y270yvDhFlZkRl/f21lPJuSBizMzgbxkqOF8dcQL7tBwXapZ5vSOppDYo7z\n",
              "iDqw+hMmSgd241t3FGQ8W2yXT0kamJlWL2A2W26C2KqBHFO9XdYrBmyX+GmuNkvSsam8CI4iQGM+\n",
              "xBoCB6o5kXtTvwGeNHe7wPGv0c7067UWk9wcjClXJeSo8shyqB1Gm0m6xB28IVupnpGBaiM4j4q2\n",
              "UvoZnghP8GGWpArVrquBYXEZqMauq4Io5zUlkx/Lln53oRCPj0QgANbSuZzDi9f1C76Bmcenx1Zk\n",
              "v7+mu1MIOAoh31hd/Vr2GGv4zXwv97xjC8urFqQTi8WCRrSjErO8okAfMQAAACVBnj5FESwl/w4n\n",
              "yaKFHk1PYkZbkIIKEUks5/3UW9vKW7gwADugAAAAFQGeXXRC3w9Tzm2VzFAj8ojPjgADZgAAACAB\n",
              "nl9qQt8Pd1PCJz7AIPKCozrgiRmtiamyJfy1GAAxYQAAADJBmkFJqEFsmUwJPwAAE+kw/S8ga7AQ\n",
              "/eg54U2AJTrPCTxZg3JUwOew3RFQfhlBxICPgAAAAD1BmmJJ4QpSZTAk/wAAFC/2E+Ts/uAmIBbD\n",
              "GUFygur9vmq+tv89zxoqnjHqIlhBRuCn35dIjEMItmuSegVNAAAAMUGahEnhDomUwU0TJwAAE+kw\n",
              "/S8ga7AQ/eg54U2AJTrPCTxZhJSnKYOsaHURE3SAPmAAAAAeAZ6jakLfAEhACDdFSttQ5KG2zel6\n",
              "1CaU5RJWAAYFAAAAOEGaqEnhDyZTAk8AABQv9hPk7P7gJiAWwxlBcoLq/hEdKo/hRgABeEgIkNDy\n",
              "11MtVUZPYACcZAGrAAAAJkGexkURPCX/AEBABNAUyQC2ryvXVwXZchMFYepkVj/P67e04ASNAAAA\n",
              "GgGe5XRC3wBIQAJZ9Icv+D502zyG6P814AcdAAAADwGe52pC3wAAPH10xAACDgAAADNBmuxJqEFo\n",
              "mUwJPwAAE+vd9NLysKE4GKid+YyTdgkWrHBndSWxercXhrNeU7B2CbpAHzAAAAAdQZ8KRREsJf8A\n",
              "QEAE0BTJALavLAHI4W0hBOAAbMEAAAAcAZ8pdELfAEkbUMtp1W223YoGe1VBOCdfTAAg4AAAABIB\n",
              "nytqQt8AIDEwQINjnAAAN6AAAAGHQZsuSahBbJlMFEyfAAsngRjq92yYSq4HL5zkehc16X81rqcA\n",
              "6lubOusaO53jwbBNWKXcJUSr8y9xo7JGZK+kP3oEmLgm32oEtGhkNJ9gakK6tHcf7dDxAXmbS2BL\n",
              "UcHJ2/45HhfmG58KS7dcjUmWKioHQb4JS0FvVxuODTwfQcpk9XK1+V7RCt2hUq/YT0w+/HwOLK9q\n",
              "203P80AMysELBufNY9XDeX01CIG0OEIMWbXCHnqr2zJ2kbyQFMXDIPVOfMXodjXyk+BuHc/7+NeU\n",
              "4K0Lhjhm/y/+pSIEnoaqlSOT8YkNsi7HnyYhUbuP1T5XRtQ6Kn7nvlxfwCFYcyAywQQgRY6QpdQU\n",
              "ndhVvSqoFFWr3F+Rrr0vPhp+8fCNGh09GO0SIIqAhDU6wv7QcdLzA38VKz5etWlVNRj4eF/Kq+cj\n",
              "XwOkDHmSgeCAvNA9VEru8XNAnu7WEde7btRJp0W5IM/7hc97HLBlxK3aVmDpTOMk46xH8FJyQZDA\n",
              "J28zCcAxR8u/QAAV8QAAACEBn01qQt8n7dmyMqX+BXFRn8izPlxIwAL8c7Qk4GAABM0AAAGFQZtP\n",
              "SeEKUmUwJP8ACyf3N8+jv4nQPC3+CoQq7C5fToqnWUexwvKgYs+VIE+v4B8fN2BvBeX/lh+IPlsR\n",
              "cfd/5xoi/zvFB7Zh4+qI9F9gUK0TbenGxgN7lrgQwULuCRAlHpDXXrrfEeJujXNqKXCPIbVDmVPO\n",
              "muStDHH74K7BgL6li/rvs5AvppgrcAm3dGI9d+q66+W5y0+T4oWqkPWGp4tGMegUPOU10YSIDNp2\n",
              "G5eayqZ7YBQ68w5tWIAQzrJRjqU6oot0WiHtyjsZAVS84LLSaPLjr5cSdziQCtAs1eu7j0CArqZh\n",
              "KJs9ycKQ43zw06y7ag5hu4SYWmECze2def517fgJ7qy5vu3FM+V4JGFa9T3RdQ/ZyBd2PQmLsJVV\n",
              "oSeIXnirV5bKGrjQi/Inle2PKOX8EepWkuasdZ+JcBsuPDlcH8PM/PaD4U4ThqEyvuB9GXWVj8Y1\n",
              "c2paJ5xLYJ0bs3eUFBZJ1F533G2w2cxHdHe1NOCNDkdE5uPWcFosIAAAG9EAAAF1QZtwSeEOiZTA\n",
              "k/8ACTIYfphJc1eHwrrLCUbHAcI2Z+bN9hxQ2rVqkpREkd9Bw5GwoYIyR8W9YX+LXO+tUjtaKNIu\n",
              "WNBWMcxBP/Gi7nrJ5LH3mybchFN9e60/GB0W6FmnpMCkMycza/kASbrKrjY5wx0mVf/J3+TBFTZk\n",
              "nv9VRItmnSsXL+MthwkYQWmWkXGp59+kA1A7O0K57kkpplNPzehC1dV9nJptF0RANf7wIjinoYOL\n",
              "7y68XViKwdqt7g/YbKPVv9nqnMfm8hYqgqd3chgoFKignIEyKEUbZ/yCIxv+Mww1nBuMHf11X6zr\n",
              "ukolRm1sUjAsoGlSuLt9CkCyX9D3mEV1Q6FVwYE7WNIMSNO51BTTIJSgzIqCjgSj3rBzw33Bn7dq\n",
              "Hs3hOrDEAWM3IQEJxCRmarfpLA6HHHgsBT0CMee9+4AAOQVPsmD6h33rxip2C84i+OcRz7HOyEfa\n",
              "SrQqRtTrc7xQoz7futThJVOMGAALKAAAADdBm5FJ4Q8mUwJPAAkyG++IYkm08B4JNEi6MZ5vpHKf\n",
              "PVPNi7v3uHmGIo2GxlCdnoYZlI1sAAR8AAABikGbsknhDyZTAk8ACyeBGOr3bJhKrgcvnOR6FzXp\n",
              "fzWupwDqW5s66xo7nePBsE1YpdwlRKvzL3GjskZkr6Q/egSYuCbfagS0aGQ0n2BrF2VZG4/26HiA\n",
              "vM2lsCWo4OTt/xyPC/MLS/8ls65B2vNZmgdBvglLQW9XG44NPAUZUWT1gksTtFCanvr7GU1MSklX\n",
              "7CemH34+BxZXtW2m5/mgBmVhDNECT2PVw3lFewuecnR3ulmdXHIHxybnICUXICmLhkHqnPmL0Oxr\n",
              "5SfA3Duf9/HNI0GIIjCHZsydXc+Em9MyiBJ6GqpUjk/GJDbIuhkpIS0vbpV+V0bUOip+575cX8Ah\n",
              "WHMjYaFEn09RYas5mPBdQUndhVvSqoFFWr3F+Rrr0vPhp+wo7K9RAzMdokQRUBCGp1hf2g46XmBv\n",
              "4qVny9atKqajZkLn5tQTka+B0gY8yUDwQF5oHqold3i5oE93awqy7/u0my1y4ds7DB8HgNdc3DIA\n",
              "/HxKzB0pnGScdYj+CdYA5b2MAAADAf8AAAF9QZvTSeEPJlMCTwAK+1Rqvw640ojzLp4k6Vfbl8gB\n",
              "yQ3Ap7Rpf1UnXK5aEggS9+Q2Nl0JZAvI7uArfthtW5+vMjx1yfGAOtrzVcyy3LJjoZGPWIDq6y1R\n",
              "P6v44QUf3EHAZqHdFoebEIW6k2v9jq2XF/TUW89AGMHSvZ1a4Hq/sovZKcpUux2aZ3svh7mFWqno\n",
              "gCZQnpFu4RL/9JY6CV05I0M5H1h/JJF7Gn5CZMQtwu/kgo/WU+PEpYh27uVZv/s/NQzNkbxRvKO6\n",
              "AoePP9KyBUvjoT+jM3HMxBf5wiRV00isvOMF7RSMRwgDhn2vSzYeBxmGFIajUDmG791I/MF8awoU\n",
              "k6ChFul3h8bXiuNRjVXuA55T52mKOmjaRdaNKyABxHgy1MneHjmhVMLLMS0oIBOR6bS1tyyoozxS\n",
              "x4hdtozL9ujF4TRHIrbVcTYjVA687g2rH/wevq8pTec7eQ+XEfPQ9o2g/Yeby5E/wFDJrheeyhWd\n",
              "sve6J0ngADPgAAAANkGb9EnhDyZTAk8ACvoFTvGTcTXvwUeDRvMhzTDRkdDsnS2sbj1U8PwGVSYX\n",
              "7bfxUCPiwAAh4AAAAYZBmhVJ4Q8mUwJPAAsn9zfPo7+J0Dwt/gqEKuwuX06Kp1lHscLyoGLPlSBP\n",
              "r+AfHzdgbwXl/5YfiD5bEXH3f+caIv87xQe2YePqiPRfXrwOcnb042MBvctcCF5kLIldLcATv7L1\n",
              "1viPE3Rrm1FUCOlKn1usz0luQYkJpdtirQbyl+H/sV97vnl+QSjzRhJ4BBddfLc5afE8UJRUprDU\n",
              "8Wy6u4H6bROaAx05MrUvX2gDSntgFHWLY7WoqH+dZKMdUU2yudzrS82Bi1IGi35BZVztmPRxIN7n\n",
              "EgFaBZq9d4EwP1gZtMtmD3Ju8cx4RVTrLtqDmG7lZNishLE2zrw5wu6EjPdWXN924pnfF/RKfC96\n",
              "PAxfs5Au7HoTF2EzKPUdchtEVZd2jQ1cJuL5E7r2x5Ry/gj1K0l+sjhJ9rwNlx4Qrg/h5n7DQe0n\n",
              "CcNQmV9wPoy7chmrxjZjallnnEtgnRuzd5QUFknUXnfcbHAINQJHu9qacEebewV00UG9Zweey1uw\n",
              "AAADAoMAAAAvQZo2SeEPJlMCTwAK+mwkxmciQB1gfrEJEwtFJ9ASQ2F04oN1ARxgDFcOgAAAEnAA\n",
              "AAA0QZpXSeEPJlMCTwAK+1RxaKCb30CTmkUZCYhueA0wLfl1WSzx25RcTq8xYuSbG0WAAAA/wQAA\n",
              "ADJBmnlJ4Q8mUwURPJ8ACvrgvTQcMdqQzSGA4IPbr6S8DzhG+/fWFEAgZvaVYwAAAwB/gQAAABoB\n",
              "nphqQt8nIAbMAR6vxOuPwJhwEAAAAwAm4AAAAXhBmppJ4Q8mUwJPAAr7VHFonrmRwrYPSDiUYFF5\n",
              "IoRTqH8WMzwv1hIIEvfkNjZdCWQLyO7gK37YbVu7rzI8dcnxgDra81XMstyyY6GRj1XCm5fQrEJX\n",
              "8cIKP7iDgM1Dui0PNiCuZMl4YKOPxv6C7S3TwAAzpjnARcD1f2UXslOUqXY7NM72Xw9zCrVT0QBM\n",
              "oT0i3cIl/+kqxBfM7fyMrSQh/JJF7Gn5CZMQtwu/kgo/WU+PEpYh27uVZv/s/OAwNkB/LeUd0BQ8\n",
              "ef6VkCpfHQn9GZuOZiC/zhEiqEzipeSjWMikYjhAHDPtelmw8DjMMKRAXRwKwL897xj1haVKPEDt\n",
              "K0XNjw+NrxXGoxqr3Acyzd3ht3cu2kXWjSsgAcR4MtS13h7IgmvoHN6UEAnI9Npa25ZUUZ4pY8Qu\n",
              "20Zl+zscqLHTcVtquJsRqgdedwbVj/4PX1eUpvOdvIfJiPnmBp9oP2Hm8uRP8BQya4XnsoVnbL3u\n",
              "ieGIAAd1AAABnkGau0nhDyZTAk8AABQv9hPk7P9X6JWtHmOkD12OJTPKIn+5eeS+19av/tVc3mVU\n",
              "eBcn0HHrEH8v6SiNUuYDpMQIMRBvGTzqqg+fGQkcjaMWKhZmn1ccuIjKLIkD5fO5VooG/uEbaOVK\n",
              "8ohHK+gVe15OlTVKawzJmO6n6aiiBtsm1P0rlCg0BOaDmBTLxYnnaVRYJK6xiM8zoc6mg7qbW6ZX\n",
              "hwiysyIy7n7ZYYkAhHEsUzgbxkqOF8dcQL7tBwXapZ5vSOpLDYo7ynqyxALyMum2HC1bjqMh4ttk\n",
              "unpI1MTKsXsBstt0FsVUDYKeFYEbkGbJf4aa42S9KxqbwIjiJAYz7EGgHZvkmReucK8Z40d7vA8a\n",
              "/RzvTrtRaT3ByMKVcl5Kjyy7Ko7ls2k2eIO3hCt1M9IwLURnEfFWyl9DM8EJ/gwy1IFatG3AUtxG\n",
              "ajGrquCKOc1JZMfy5Z+96EQj49EIADW0rmcw4vX9Qu+gZnHp8dXpr+/prtTCDgKId9YXf1a9hhr+\n",
              "M18L/e8Z8TZote5x3+LBI1pRiVneC4AScAAAAatBmtxJ4Q8mUwJPAAADA5P+W+D6QLgv6X0JILN6\n",
              "d85yp0pbDZ0belDvM54XmGvil5gdFe3D+rAYfw7K6pGbWkLw0ZbG95VYm0GHGS9+1wNtGA9jnwSe\n",
              "ffpxTgdSEZrf+VTy0wILr3tbBGJjt3YwBRufuqpj6w7WE3tcdF+Xfw7qbvHzcJn21nAbsHsmBuzi\n",
              "NSL2HblM4EAwBlL4KMCwbv5iUmdkcbpO41CxuVsRJMttthPv3QjP+NgJDhNGKIESoecCEVL1+ur0\n",
              "1FZkTgAKQ3rnAFwwHJsRJk2WOkZ2C9f9zKEuetzeOdQqPlbRf+oQcBUqqpr6gXL+jaocDPU4OzmL\n",
              "2MAtb65gDCIATeq9SUjx/9MKTVelqj/sKcc31AsVIV967sehMXkmCfBVgaHEDRuJjphTWPRCDfQd\n",
              "aQPLsg3ggKY+amImB2BG8U06aOGb0gAOSpPhA5xiznup/68xKAJudHnAldTft56XqdB8RpTGgWIV\n",
              "SFwfMcymFoZSarCPlD//cpP8X/LX0xCvVCvNB/mMtlVOpq0IsyIFPizCTMfxJY1knwAGBbkIAF7B\n",
              "AAAB2UGa4EnhDyZTAk8AABeP+Fd+QryXXfWuQKpS3nrxxcXEEGRLE8rPN8ahIqX2/hIJ9mwohE/m\n",
              "kXcs6w0sEBkMeus58vCZpFrIC/tSJSFtkCOfB1Q7IVrrOWUSfNkLIII4BJA2gc5v35d0iIolBGsr\n",
              "/hS0xB+nxiaMcXBHSm7pIhMwFIHG/qMomk5+hkVg9ROIL/+hG3QWPQnmh4uaMN4UGDePGWG81GQb\n",
              "QVID0xngAHPOFx9gEbWOFApuwAZ4V4Z6suFcXkt3EkcBkug/Bo5zwMe6o0cPI8375Fq9ymDqg06k\n",
              "0yXd+DueeUDsPSDxb0ai2KfZ3EjGK0zsJEcwEhFORkkX/cKtzS7cfsAOmMggLRWzDIQTLYWcg45X\n",
              "QE7GGunTvI8ibKH/GFKSaxDE3lrr6pTSqYPntkGXtGHOxp9Ay6e+HyGSnHjJrbykPnFoaPC6LBMQ\n",
              "ZdqF9A9a6tUdLsfb80mDrIbnwaB9g4rwVQnX382OJ5O3x0PNlekI8y1jV8Lstc86puFtHNTVshFJ\n",
              "cTfAK8ZCgBN7VFD7P4LhVtBhoIlxE7db9WMKSQYT4Na+g5Rl6ehpoG+wLI6s7TSTfcTW1JQZz6IV\n",
              "pj8Cr5khwhAA/UQG0QIe7fA4ADFhAAAALUGfHkURPCX/AE8iAZqe4B5GsdPKE2VMR9ix8RUsZ+Bt\n",
              "U13PwAPkaIKKQADPgAAAACEBnz10Qt8AWDGKMRsuA0cKeBjsBp1wQHGd7sTtQcAAqYAAAAAWAZ8/\n",
              "akLfAFimQYWLtQbjA/v4QABdwQAAAEJBmyJJqEFomUwU8n8AABfmrLXyMl6L12sgD0MjPlKrKrl2\n",
              "hldFIhJrq0wOXhIomd8BsDb/XEUBG0DwZseHZBCMAQcAAAAjAZ9BakLfAFdcUMH97T2FDG3ZjKsR\n",
              "j7/YDBMVrRSQZpgABvUAAAGjQZtESeEKUmUwUsn/AAADACu/7CfJ7YMX6ULEmeRM3/pdxKSPAuT6\n",
              "Dj1iD+X9JRGqXMB0mIEGIg3jJ51VQfPjJueJC74BULM0+rjlxEZRZEgfL53KtFA86uOKMv7Rgg3L\n",
              "7Kd2lwjlfQKva8nSpqlNYZkzHdT9NRRA22Tan6VyhQaAnNBzApl4sTztKosEpxTuM8zoc6mhJ/vn\n",
              "jyRRwiysyIzuf4daTybkgYszM4G8ZKjhfHXEC+7QcF2qWeb0jqflaCKBB8XEkfRpKQC8jLpthwtW\n",
              "46jIeLbZLp6SNTEyrF7AbLbdBbFVAEU+fEbI//kZ1nw01xsl6VjU3gRHESAxn2INASU4AEyQq7KB\n",
              "qOFeM8aO93geNfo53p12otJ7g5GFKuS8lR5Y2GMwNInabv8EyCHxByNd7BMlJxHxVspfQzPBCf4M\n",
              "MtSBWrimHGGkHAaIzUY1dVwRRzmpLJj+XLPzfhrIIHohAAa2lczmHF6/qF30DM49PjqzgwXAliXp\n",
              "1ZPxyab55QQkc1Sd9oYx5JApGuAh6WpBOLxYJGtKMSs71GwANmAAAAAjAZ9jakLfAACcgBswWMLL\n",
              "/xoVbGpBWzfTTWn9LJfkWSmACVkAAAF6QZtlSeEOiZTAk/8AABQvJxndb+Cn65XLQkECXvyGxsuh\n",
              "LIF5HdwFb9sNrJuKo9ax1yfGAOtrzVcyy3LJjoZGPhpsZKO/wiy8veEFH9xBwGah3RaHmz6MPKUv\n",
              "DBRx+N/QXaW6eAAGdkeMDIolQ/foGkSk1jtn5KXSn+CzmFWqnogCZQnpFu4RL/9Ms9yV05I0NuVt\n",
              "YorQJexp+QmTELcLv5IKP1lPjxKWIdu7lWb/7P2UFA2QH8t5R3QFDx5/pWQKl8dCf0Zm45mIL/OE\n",
              "SMwJVBjNOiC9opGI4QBwz7XpZsPA4zDCk42Avhg3fz27GPWFpUo8QO0rRc2PD42vFcajGqvcCekx\n",
              "KncFHTRtIutGlZAA4jwZaVd3h7GgmvoHN6UEAnI9Npa25ZUUZ4pY8Qu20ZmJT7HKiwXlK21XE2I1\n",
              "QOvO4Nqx/8Hr6vKU3nO3kPV1w55gafaD9h5vLkT/AUMmuF57KFZ2y97onZcnL4SsiFAd/DDINDIw\n",
              "2QEfAAAAQEGbh0nhDyZTBRU8nwAAFC/2E+Ts/1fola0eY6P+wCjdyFOkxs+AnkAfSC6zWs6lNh6k\n",
              "//NzqRwfjlQkPFwA+YEAAAAlAZ+makLfAEhACdjCS38KCvqItVQaxV+xWOm0aHEXZpu5O4APSQAA\n",
              "ADRBm6hJ4Q8mUwJPAAAT6TjapbolbQRVIzuGvn+eexWHIGBt1WeAUvh5vKzQSuMelhsFAEnAAAAA\n",
              "MUGbyUnhDyZTAk8AABQv9hPk7P7gJiAWwxlBcoLq/hEc6LAAElJTqHm9wtzgAaxQBJwAAAAxQZvr\n",
              "SeEPJlMFETyfAAAT6TD9LyEkCIhyuGB4WEoZyxG6nNouJkB2rofGNDUESyANWQAAAB4BngpqQt8A\n",
              "SEAJ3HJ97HYKPOgScl6wWVXLI4QABNwAAAGEQZoMSeEPJlMCTwALJ4EY6vdsmEquBy+c5HoXNel/\n",
              "Na6nAOpbmzrrGjud48GwTVil3CVEq/MvcaOyRmSvpD96BJi4Jt9qBLRoZDSfYGsXZVkbj/boeIC8\n",
              "zaWwJajg48vIi8Ypx7n/yWzrkHa81maB0G+CUtBcree1408BRlRZPWCSoXi68+JjVKv2E9MPvx8D\n",
              "x+T5a4uvckzXMrCGaIEnserhvL6ahEDaHDkGN/2lDz1V7Zk7SN5ICmLhkIlsZZGxXY18pPgbh3P+\n",
              "/jXlOCtC4Y4Zv8v/qUiBKClXRUjk/GJDbIux58mIVG7j9U+V0bUOip+58AcfKb/iImX3HN1bNvuV\n",
              "frvF7fU55+VUCirV7i/I116Xnw0/ePhGjQ6ejHaJEEVAQhqdYX9qFJ9twX+KlZ8vWrSqmox8PC/l\n",
              "VfORr4HSBjzJQPBBTLy65SZk8XNAnu7WEde7btRJp0W5IM/7hc97HLBlxLuWtgDpTOMk46xH8FJy\n",
              "QZDAJ28zCcAxR8u/QAAV8AAAADJBmi5J4Q8mUwURPJ8ACvrgvTCw/2qwc435S46KAnqigGzYCoAF\n",
              "WAA+z6KLwbVdrAACPwAAABwBnk1qQt8nLhR6gpiLvW3zzrO6J+/3l66AAAtpAAABm0GaUEnhDyZT\n",
              "BTyfAAAUL/YT5Oz+4CYgFsMZQXKC6vlDg3L7X1rE+1V0eZVR4FyfQcesQfy/pKI1S5gOkxAgxEG8\n",
              "ZPOqqD58ZCXaDyNFj1lrurjlxEZRZEgfL53KtFA54eT3wetcm+2bGfzr2vJ0qapTWGZMx3U/TUUQ\n",
              "Ntk2p+lcoUGgJzQcwKZeLE87SqLBI52gxOswv5clfu0t3pleHCLKzIjL8ftrKeTckDFmZnA3jJUc\n",
              "L464gX3aDgu1SzzekdTPnCJ4YbVliAXkZdNsOFq3HUZDxbbJdPSRqYmVYvYDZbboLYqoEQU7jYBi\n",
              "sGbJf4aa42S9KxqbwIjiJAYz7EGgIG0jmRe1O/AZ40d7vA8a/RzvTrtRaT3ByMKVcl5KjyyXKna8\n",
              "abSbrEHbwhW6mekYFqIziPirZS+hmeCE/wYZakCtWuq8FhcRmoxq6rgijnNSWTH8uWflmoEI+PRC\n",
              "AA1tK5nMOL1/ULvoGZx6fHVkS/v6a7Uwg4CiHfWF39WvYYa/jNfC/3vF8E2aLXucd/iwSNaUYlZ3\n",
              "lEgD5wAAACQBnm9qQt8ASEAIN0dZO0ns+/S+Cg1LAGTJSkcZSfeVSwQAAwIAAAAvQZpxSeEPJlMC\n",
              "TwAAE+kw/S8gAEqF36RpAOBuy6rB/94trMKau8AYKuD3JHkAfMAAAAGGQZqSSeEPJlMCTwALJ4EY\n",
              "6vdsmEquBy+c5HoXNel/Na6nAOpbmzrrGjud48GwTVil3CVEq/MvcaOyRmSvpD96BJi4Jt9qBLRo\n",
              "ZDSfYGpCurR3H+3Q8QF5m0tgS1HBydv+OR4X5hufCku3XI1JlioqB0G+CUtBb1cbjg08H0HKZPVy\n",
              "tfle0QrdoVKv2E9MPvx8DiyvattNz/NADMrBCwbnzWPVw3l9NQiBtDhCDFm1wh56q9sydpG8kBTF\n",
              "wyD1TnzF6HY18pPgbh3P+/jXlOCtC4Y4Zv8v/qUiBJ6GqpUjk/GJDbIux58mIVG7j9U+V0bUOip+\n",
              "575cX8AhWHMgMsEEIEWOkKXUFJ3YVb0qqBRVq9xfka69Lz4afvHwjRodPRjtEiCKgIQ1OsL+0HHS\n",
              "8wN/FSs+XrVpVTUY+HhfyqvnI18DpAx5koHggLzQPVRK7vFzQJ7u1hHXu27USadFuSDP+4XPexyw\n",
              "ZcSt2lZg6UzjJOOsR/BSckGQwCdvMwnAMUfLv515EAIvAAABikGas0nhDyZTAk8ADfcoQhq5aEio\n",
              "CWTNoDgJgfYJtt0kRRhVny1HZUCbA9VyFvUvRYm0PFdI2YyRWR4X0sAVN6tpurwhWY6gV+oyDvwF\n",
              "AVCzK/I3v1BVnoQfbCQTxj/70nOFEUxTELA6q00R10YdvC3Cf5UwMb/RTdETiSjvW/aiROD/c7hv\n",
              "boF4yAN1ah8E6ROTQ88noK8LtTDt4zfqrXP9HpaOwWzajpHo5AeU+2BA2wzchMjtw+BOSzofbvOE\n",
              "5KJi+4hmSMkY2kBaBxm4Qof96TSKlcaM73stWxQcbpidG5f17IDhn3CoM91ow4rEIU1TfATDASHK\n",
              "AigWTNr3Cnw4sBv2Jn32uIyUQuSwOCB2I1lf54tU3JRY5rGY3SW74OuJ6fKbuIP/+ANUzBQZ1r7g\n",
              "qqZtGauhvc3GyJ0EvYzkYzzoRwksb+3sFT8pZYx1R6juuIYmRJ3pS8DBUCrZ9ldldX0izVN0+1/q\n",
              "mWPzihUZ6aGUa+Cxtp7H9ySvnAZNeinCUBY6gAAAHLAAAAF5QZrUSeEPJlMCTwATanX6qTjBm1+8\n",
              "y+xb/utvTrOohTpNHB0yVmBvz+OqJPxB149aLo4t7lmmLZeUqpA5wNJb5kyi2E5X7cICc2pD8sfG\n",
              "5Kuiq2kwIDJedDX0BbYVFWxZcrWpwqVi24cfDLg5VYwiv0ROko6nQgg2Z2Z43U800/bPKMDjuqgc\n",
              "Z13f0NPA0fSULMzPBAc5PP96K9h/DIFCQnmXtfamcG2KdRPhAo1BLYisXI0AlN1AKFhtBGf4338Z\n",
              "MYQeTX/uISiE7bhbKXwyoHDpdYwQu4K4hHr3LFql62PiRSUPdYdke3YOw4dNVwaWEyWNevCKUnDu\n",
              "/C9n6SehUdviczMIerNWohRQtFSRm2FJFfy/1lIFNwn7O3gE2uc5wtZb/d0xTxd0wCNaFA5LYpUB\n",
              "tPQxEcV5tBMl1/lG/AyPUYrTaIvNWCCYH3VMRoL2guU3xixcVirzkTiXwlymHXGEVUuVPPjDifp6\n",
              "OAaMgAFDOWQAAAMAB3QAAABAQZr1SeEPJlMCTwATn9GrCzmo+C6o3A4zsUKDFDRSGj838VXiXE56\n",
              "SUrUBdcy0A6kU+mYZ8O6q521xUaoAAAHpQAAAYtBmxZJ4Q8mUwJPAA6f8pzn3ThvI1Qj315USq4H\n",
              "L5zkehc16X81rqcA6lubOusaO53jwbBNWKXcJUOkKuMJDskZkr6Q/egSYuCbfagS0aGQ0n2BrF2V\n",
              "ZG4/2nQOMTBtLYEtRwcnb/jkeF+YWl/5LZ1yDteYWrc4A4wb1tgAAbjg08BRlRZPWCSlCzB39J4X\n",
              "p0Tj721SBqHs402QMZarVtpuf5oAZlYQzRAk9j1cN5jIALhnJ0d7pZmzckD45Nzp0jeSApi4ZB6p\n",
              "z5i9Dsa+UnwNw7n/fxVAADImEOzr06u58JN6ZlECT0NVSpHJ+MSG2RdHlITCSuh6w8ro2odFT9z3\n",
              "y4v4BCsOZGTUAsNG+klWY4RwXUFJ3YVb0qqBRVq9xfka69Lz4afs46ZAjt2ZjtEiCKgIQ1OsL+0H\n",
              "HS8wN/FSs+XrVpVTUcWhc/QFTpoaYekDHmSgeCAvNA9VEru8XNAnu7WFljTxzxmWuXDtnYYPg8Br\n",
              "rm4ZAH4+JWYOlM4yTjrEfwUUmgAAAwBiwAAAADtBmzhJ4Q8mUwURPJ8ADaxmk1+bR/754bhCWo9E\n",
              "grCthY74+5uwwtU+rokgiTl6/Lg/JQeh8AAAAwDugQAAAB8Bn1dqQt8veIZ5tAocRKHeWa8M5wUI\n",
              "PVhNiAAAAwEjAAAANkGbWUnhDyZTAk8ADay0ar8QKGQE9yDhKQqnJzX8PN7T62Jzfi17MboZfloh\n",
              "wWB26BhAAAAN6AAAAXlBm3pJ4Q8mUwJPAAsn9zfPo714j53h7JNehNnN8kCX7ZX+Cn65XLQkECXv\n",
              "yGxsuhLIF5HdwFb9sNq32OVarHXJ8YA62vNVzLLcsmOhkY9YazuX0GUsvL3hBR/cQcBmod0Wh5sQ\n",
              "bY5peGCjj8b+gu0t08AAM6ZcirXA9X79A0iUmsds/JS6U/wWcwq1U9EATKE9It3CJf/pNh0OH3b+\n",
              "RmgEQP5JIvY0/ITJiFuF38kFH6ynx4lLEO3dyrN/9n5yuZsZGKN5R3QFDx5/pWQKl8dCf0Zm45mI\n",
              "L/OESK83YCzidK/GT1Q6GoOGfa9LNh4HGYYUiFtQOYbvylH5gvjWFCknQUIt0u8Pja8VxqMaq9wH\n",
              "Nxk+zP7uXbSLrRpWQAOI8GWpi7w8pQTX0Dm9KCATkem0tbcsqKM8UseIXbaMy/a2OVEsdlK21XE2\n",
              "I1QOvO4Nqx/8Hr6vKU3nO3kPo7hzy00+0H7DzeXIn+AoZNcLz2UKztl73RPDEAAO6QAAADJBm5xJ\n",
              "4Q8mUwURPJ8ACvpsJMY5rjYHPDCHBowAP2zO+ofJLyH8O+kRWMMtnBZE0AAGLAAAABwBn7tqQt8n\n",
              "IARHoqVrAYISbLOc/qdnIsrAAALbAAABkUGbvknhDyZTBTyfAA33KEIauWhIqAlkzaA4CYH2Cbbd\n",
              "JEUYxyOmLj6H6geq5C3qXosTaHiukbMZIrI8L6WAKm9W0ovpCsx1Ar9RkHaTVAVCzK/IpbchVnoQ\n",
              "oRaSEMXA6BcPPY14WyK1BTvZXuvF0YdvC23e1+OnTn9E59e1o5ivCAVhrDOdWZOdugXjIA3VqHfm\n",
              "KWx4DDXygO7aARpS8R75dA5zI6WjsFs40QTVArwM9ekBvRP7cix9BZrcvvjPAVmxg3uE5KKfPwAQ\n",
              "lM6YCMOtm9KtPKpPx57JV5JXey1bFBxumJqL7nAnClFW/L4PmMXuPW7cx13VYvi812u/KAjNv+Nr\n",
              "gIv/uAGy3fk9LqMuK7IARVCiq0boB87/QKe1/oiovwCnGmDY5etPxSSYaqSK9SsFneg7ke7sQbLJ\n",
              "R/Exo5J+5FSIQJPBmjGzkd2f5T8xbgZhChnChT7e7zuyPXyNRRdeodOpNZloP3O5Hwx8iekW8tw2\n",
              "cL8BYHzQx3K7uHRV834IbPjgAZHf13AAAAdNAAAAKAGf3WpC3y9/whvskhqhgN8rOlSyOlqknH4f\n",
              "x404ZXihpdIQmAAAB3QAAAF6QZvfSeEPJlMCTwATanX6qTjBm1+8y+xb/utvTrOohTpNHB0yVmBv\n",
              "z+OqJPxB149aLo4t7lmmLZeUqpA5wNJb5kyi2E5X7cICc2pD8sfG5Kuiq2kwIDJedDX0BbYVFWn3\n",
              "QNNqcKlYtuHHwy4OVWMIr8JUAQOBEEXZPIJMTj6afxf1KBx3VQOM67v6GngaPpKFmaPlYH6bw3xv\n",
              "b07p/4uruQkYj6X5wbYp1E+ECjTqzpnbiGgEpuoBQsNoIz/G+/jIvW5NBiGuOwHjtuFspfDKgcOt\n",
              "fSU5jgriEevctfThdDMiRse/O7bN23YOwyW0VwaWEyWNevCKCoGidxARRyehUdviQaD2sEi4B6k8\n",
              "bDaRm2FJFf4/2ORO+gP2dvAJtc5zhay3+7pim67pgRgL9VyWxSoDaehiI6HHFk05X+QD8ODAc/dl\n",
              "/G8bGmtgfdUxGgvJszT9kngYrFXnInEvhLlMOuMIjVj5E+MOJ+no4BoyAAU5b9+PQwAAAwKSAAAA\n",
              "QEGb4EnhDyZTAk8AE54I+1KCOj57DUcBEUitZ21lsvUsLQ/xT8wH7aEp9R5Yy13tb0uAvCV0SpnG\n",
              "1PhmqAAAB6UAAAGLQZoBSeEPJlMCTwANrLRqvxBEwOkfX7rKBScDl85yPQua9L+a11OAdS3NnXWN\n",
              "Hc7x4NgmrFLuEqHytTZ6o7JGZK+kP3oEmLgm32oEtGhkNJ9gaxdlWRuP9qdLvspzS2BLUcHHl5EX\n",
              "jFOPc/+S2dcg7XmHH1FufwSloLlbz2vGngKMqLJ6wSUps/KFx06iL06Jhskq/YT0w+/HwPH5Plri\n",
              "69yTNcysIZogSex6uG84r2Fzzk6U3038rpSB8cm506RvJAUxcMhEtjLI2K7GvlJ8DcO5/38TGqAI\n",
              "UYyNnHJ1dz4Sb0zKIEoKVdFSOT8YkNsi6KkZSIldDxZsn1Hk6oWu37mp8pv+IiZfUcBR81FJKsxp\n",
              "qUuoKTu2a5+VUCirV7i/I116Xnw0/ZIONGmU9GO0SIIqAhDU6wv7UKT7bgv8VKz5etWlVNRvyFz8\n",
              "+VOmhph6QMeZKB4IKZeXXKTMni5oE93aws0aeOeMy1y4ds7DB8HgNdc3DIA/btK/0OI++ScdYj+C\n",
              "hn4AAAMAPuAAAABOQZolSeEPJlMCTwAN8meLNyIb7AvCzLJg5Kvp5Z8vGkgL63Nd6m8BBDecd3LD\n",
              "EQwnYfBOObDYQ0+mRdwQUJLkg4qRwcfl/LKwAAADACPhAAAANEGeQ0URPCX/KyZfDA9kkKDuTZQI\n",
              "/X16WE/N2A00bMgaNMwCZBYaldTuoD1YKjAAAAMAI+AAAAAfAZ5idELfL9WCgASKcaQjNcNTGaaF\n",
              "MyB3EAAAAwANmQAAABUBnmRqQt8v1YRp2tA973AAAAMA+YEAAAGBQZppSahBaJlMCT8AE2p1+qk4\n",
              "wZtfvMvsW/7rb06zqIU6TRwdMlZgb8/jqiT8QdePWi6OLe5Zpi2XlKqQOcB8+6mTKTR7TPtwgJza\n",
              "kPyx8bkq8BXu6/T4oMl50NfQFthUVafdA1nVIj9i0Zd/cBbH3dG964IwO+uXrm+NupZ+e3gWTvb7\n",
              "HJ1PNM2Bcc6AbaZKSh67v6OudNSsNd/uF7OH8OHd5nage8eOBiwxH0rV5BhxknwgUBu+jZoMQ0UR\n",
              "/tAOEZ8EoMLb7+oFeiB9Ed6ixA8OZgWyl8MqBx1O6mRc+6uJ7mzSxQ3yPwwTtkE53bZu27B3Z3IQ\n",
              "58MQ6YatF2iMgA9Hfx1FsY/eSBI0mTVTVlL8g4oWiEYVC212ZpUY4X4YVsq6aIIci+GLWst/jMRT\n",
              "w70wPAZ+q5LYpUBtPQxEdqtV9LKV1tG/DgwXP3ZfxvGxprYH3VMRoL7Qgw+gLwYVb91jil0LNPZa\n",
              "N06MgiTInxhxP09HAMfBORNm2AAAAwBxwQAAAClBnodFESwl/zHPdakVRwFQNxununjM9c9MF80h\n",
              "XGNAbd0JAAADAADegQAAABcBnqZ0Qt8v1YKbGc50EBpkAAADAABZQAAAACgBnqhqQt82cS1lpT8T\n",
              "dXI0BB4shQj630qFmeiR851TCnyEAAADAAZUAAABokGaqkmoQWyZTAk/ABOf0cYVINGCg0Wxcpny\n",
              "sWPUUjwNhpMXT/gIeof1Ngm51kabEZXTHpABNbWZvAZbssvGx+A7uME5/tdMjgWGCVuDBNDVfAM0\n",
              "4UbzQmyvNJbWMGh/2Kq480NZs2WDPEYXyzPZ10ujm8/LZutnr0Lht7J3U6oUDnKLAEOf+vu2pKQ3\n",
              "+2BrRhwg51P3lUmCKpcu+B1xDt1F4jN2tc1nRTXPfEdxkfujm8F6WwjqUttwy/AFWA2fSB/WQt+o\n",
              "O94p4H1SsMekIcPejjvWvM4rMLCq/Gc+CPjEU6FVWjKxhH3GWYCqBzsT+8bsocdIAJZIssrOZzNt\n",
              "MHd9d4xjUpDUru9R62UyNpqTTrhFs8roxqLzVJyFRhEBdHt0BoRfdr68ga+uekVTXtN7l5G+HVND\n",
              "hAKwSoTgJuKVsFXeyoKxYSv2QEWfwmKG8B8xNWXdiz1Vw0kK/1G+Y23zr/WjznCzsAFXS6aZow/Q\n",
              "tRPesSfeI+M291E07NnPjwgOhvL1TtocBa/m87tiyvp4e+xPRHPpXAv5Ma0tVTgABZUAAAGbQZrM\n",
              "SeEKUmUwUVLJ/wAAG+/xSeAE+YMa/g37sgpzvhGtcxKyXtw/xbVOPjW0Ez+QpBJd82XQlkDIg5CC\n",
              "6eF0OWY8BQlYNC3en7Qlb22lKo1r3pTrIKGrqHOGj12djYKzNJpvy9cyUJJn0koc/hJACshKrz4o\n",
              "BBksvCul77Gf3Y4Kl8dG8OCY45RwkkT3aeczorZGlFxQ1+UI6ATfAjiRqfM5Uy58L3TKWJSFU/7a\n",
              "bjhAGXbQQhafzvtVDC+xQ9eknriYUCtqjhADi6Yzdv1bZJggNcEPXnAbslMZnicWH4qE9nKPwwOv\n",
              "Lc72EgZxir2G27hkJM+FCTqxn6YvJqzPi+uinQzKzCFInPBtx7f9mLw54f1PhGs309De3+hXxcpC\n",
              "LdTHLaMvTZJfBI6s1isGr3jy4iEzHRLCQ350vaDia7Yod/+mcTPeJIip0E2J+mcSdJJGmI02Xxfb\n",
              "tOyy0awRcqJqR4/ldvB4rAK0W+AxRKidstsQ+J4WeDCcUo97P6yg8tZjdEEEEgQRX9uQfVFCNAwM\n",
              "yV2CQTRGAHHAAAAAIgGe62pC3yz3XlSXBEss7jsDpLAJHThpcMaspfpSEoAAHpAAAAA7QZrtSeEO\n",
              "iZTAk/8AABsDCdmCCrkhAAWo59y4N/3ndVHdhtoeAhLyGgBNJLd/N4ITH+aMHg4E/MQA44EAAAA/\n",
              "QZsQSeEPJlMCTwAAGwJEfbV4Eq/d7roLsIIWI44GEBroAY8xCpyjw+KYk37e0BQJpDjMnvekGaQj\n",
              "CZOO0ArZAAAAJEGfLkURPCn/K7PKWZICwjLGZfreQbZHJsETGSk4chY1AAAeMQAAABIBn09qQt8A\n",
              "ZqZ6AGQWulcAAbUAAAGEQZtRSahBaJlMCT8AAAMAMt/lOi5aQgBhaFchN96ASLVGSPbIsbv4wQm5\n",
              "7KOVTeEZ37dP5sl4TkNivmvR7HGBsLoEGKQ16vs2K282nnxm/sQutE9iFJy1wKi+aZ8fmMy+ySsI\n",
              "zu3uJJVJLffE2tRaQ2v21oGjYgo3n0agRUEoClero5Hv1rMQQj33LiJTP2CKWhSVoIi0oe6vpbWL\n",
              "fbnTful2VnnwnosxIBDswNlAWfifIrDj8mv+JxlQX8JhxL3LBw9X/U3FpqIKD1q0V/wRzprFzX2l\n",
              "e7Mx+h7PJ+/ZdkMfLYRUZgDz48rhFUYzepiYb5AXei9lk4jxlMVJ0Jf0JXkJg2bQcN680SbeoPKH\n",
              "p0+xm2DNNmd823ce5C7CnDDJhn3Rl1n+yXdLwoEWEKYLBw9ZklB1w+AeMp+eWXq44aDuTk3smRC6\n",
              "5PRCoMa6QmGnbWe7TAPk6mimeHhhISfYJVhnS0wukn6X3H5zDUTChLQZ0zK3trJEKS0CWODev9Nv\n",
              "1wwWzAAAADdBm3JJ4QpSZTAk/wAAAwAyS8ZTSeeBUgTOSTgVHPZMAlYRLxAOfCaJ3HmGyudkxJDk\n",
              "wi4evRUxAAAAR0GblknhDomUwJP/AAADADLf5TouWkIAYWhXITfegEi1RklJXc2minXCBLtVhnWC\n",
              "U6okajggXTT5j51rAyF5t6aARkydgq7gAAAAMkGftEURPCX/KExmWdW6ePKXz3EzaVGIBMtfpL2O\n",
              "g0bdoION7SbyHYka5msAFApUQA6oAAAAHgGf03RC3wBlnzFTTDFZ05R4fg6BtORBOkyfMwDlgQAA\n",
              "ABYBn9VqQt8AZqSoD4kvBCxw0hGMwJmAAAAAN0Gb2kmoQWiZTAk/AAADADJM272e5mByMoc+qfcG\n",
              "xfdtB5Ckjh466Xp8pYrSSTeTnMAOdE71XcEAAAAhQZ/4RREsJf8oyRy94OWuQXOml3w2NmhgndJK\n",
              "TGzyUoF7AAAAHwGeF3RC3wBlnzF4RvvdpH9fL4JqSESBjN9B5CYA6YAAAAAOAZ4ZakLfAGakqAAA\n",
              "HTEAAABEQZobSahBbJlMCT8AAAMAMt/lOi5aQgBhaFchN96ASLVGSU02eIHtUnO3s9+C2mYEvYwm\n",
              "8O0Ag3/aSmm7Zxmi2nJmC2YAAAA3QZo/SeEKUmUwJP8AAAMAMkvGU4fVxY2YAAW8OjzjPxg7PfnA\n",
              "qUkyi/TjIjP1sAr5davjQwVdwQAAAC1Bnl1FNEwl/yhMZlnVun606Q8njQ4Ql0ctZ74YZmJ4gIIZ\n",
              "Qo92MB7BaNvfAm8AAAAcAZ58dELfAGWfMVNMMVnTlHh+DlgD/y1lOFAtoAAAABIBnn5qQt8AZqSw\n",
              "YYDxz1AAD5gAAADBQZpjSahBaJlMCT8AAAMAMt/lOi5aQgBhaFchN96ASLVGSbyR7wFmnei0Lwf6\n",
              "nRA+UF8pv6fM9hyWn7QB/6WBFWfOR5hrqgFoBplOUPuXvSFvkUXoIUJ0CJHTdtKYazbEkfvSheXc\n",
              "xMhv4BVVnp/So4S+oPPVFZ6JsE8jvc5M7M+oG4U4ahtVRODlvbuXCo2Yp+FS2SLg9gotzbCefWZ0\n",
              "tU2Z2fsx+Gqmn6WRJkDeOyDbtSAA/VqKWegyJ2clT4Ku4QAAACVBnoFFESwl/yjJHL3g5aX5e5gh\n",
              "FG9AH8q1bwHBi/BUI/lwAKSAAAAAHwGeoHRC3wBlnzGIO7VVCD1r4zBHNfc+10+LiVpwIuEAAAAT\n",
              "AZ6iakLfAGakqA9QJKiOZ8QDMgAAABVBmqdJqEFsmUwJPwAAAwAAAwAAr4EAAAAWQZ7FRRUsJf8o\n",
              "yRy94OAA5BRVAuADFwAAABMBnuR0Qt8AZZ8kAh19TukrGAaNAAAAEwGe5mpC3wBmpKgBWrAf8p1g\n",
              "AekAAAIeQZrrSahBbJlMCT8AAAMAMt4EKtSf/LyXrN62eBeXLGoMlOrQurXXRtGlgi0Y2akbXvD+\n",
              "nwEpJdjD4lELLn2sajt6o9XVsyBmX/md0qGslzmjJnnYJSSlALpvFc4+TLP2nJY7wu9PZ0vsHNNN\n",
              "H/9mYfiYK2tA4/zMyGtVHreZcTMPhynIBPjefU385FH79nOHo21Od09Uo68B3UWER4xZHKg6j3Kv\n",
              "5Pr1Jzg4Na7k7bV4dXnXscAS6ymWcwZMoDdAtK8BNfsbQ9c8XAV0YQ0+8kkYFGo9kgitvrpSYoDx\n",
              "oUysYugZHN9OkEUPWk2gDmGGIkoScfI6vZ/EP17V/GDjBwUdJMkI7aNj6DYuZW3r31B0nGeuwzdJ\n",
              "RNEvve1hd+O3gv65tW4lwsgdWyVcJikQtmWJWxpOERmDDHq/zsFdYBNERuVih59o40QlQ/TZZpOJ\n",
              "dnBjgwFht0aiFRoXLBzKGVtWWpogiPOCq4p8beuhA19+L+BeEN1Yx45s0vbNtrhMreUWRwe/LtrI\n",
              "w8HAlCO0Eup3OdXA0Rr5u3Hm5PQOcmaAa+htZmyPsWxpjicEpag2c6MojZVDrxRIxFlpZUvkaD1e\n",
              "pt6DcnsvmEfqCtvXLk+9rfUgT9jr7Mb99FFIveo7cwi5khw9tFK0lWdjo4s0v7T9qNgCJWRaAxij\n",
              "evPUXETrk/CwrPO90amwHKmuVBTCtxq4qoACAgIcHlOzEekAAAAkQZ8JRRUsJf8oyRy94OWymyMr\n",
              "ra7jCIQYHZ9QCKwO57kz4GPAAAAAFQGfKHRC3wBlnyQY9WphZ8RF8YCNgQAAACABnypqQt8AZqSw\n",
              "ZCL52TdL5QNoQNL1B8cUn48Qt2AZUAAAADdBmy9JqEFsmUwJPwAAAwAy3+U6Llo5aFbNARRPJhAh\n",
              "WaYYaCFITb04olQAsPZHTHeaGwOT5EmLAAAAJEGfTUUVLCX/KMkcveDlsp8w9NpCGmpZTZ4hEehk\n",
              "kvTOUuA/wQAAABMBn2x0Qt8AZZ8xxjA4sVqAAH+BAAAAGwGfbmpC3wBmpLCLjQTdjMCyGaXzkHFA\n",
              "MOeB4wAAADVBm3JJqEFsmUwJPwAAAwAyRIhgruJRJQwfSEPqMchvoFaA5cHqbV6EeZsRxrVLqPs8\n",
              "LWYj0gAAACFBn5BFFSwp/ywuaC2r6LqaFa1dzxZYQFTTtCDcEhQAdMAAAAAbAZ+xakLfAGaksEuW\n",
              "WkCkEjCoc6Tz1iFZdgk5AAAAN0GbtUmoQWyZTAk/AAADADLf5TouWjloVs0BFE8mECFZuEA7GpXA\n",
              "wM+GsAIuOCcdVOCaAQ4wWzAAAAAfQZ/TRRUsKf8sLmgtq+ikXAcr6PLqSiSsQKejq/IDZgAAAA4B\n",
              "n/RqQt8AZqSoAAAdMQAAADlBm/dJqEFsmUwUTJ8AAAMAMkzcWUig+6UWkuhnw1xB1AobNEq/7B3q\n",
              "SZU+sNjb6maJiD2/AZHzBbMAAAAdAZ4WakLfLXHh/nQMFjRqFym8xOCFPqvq+LeYBD0AAAGZQZoY\n",
              "SeEKUmUwJP8AABtP9tL8RE1D+psE3OsjTYjK6Y9IAJ5QLKjLkNPMiUAOd3GCc/2umRwMxJZXF7xR\n",
              "nv/72KKZ6omPOCUrWdJQ4h/2EhVeBvygBm2H31QkG2zrpdjJ8rfnQba2H3WNKYnEjtl6FQtF5isc\n",
              "QaT+kpDf7YGtItfNQk63lUmCKyBmqEIfdDOLbDnuBPDwCtaiK0jdlmc3gvS2EdSlxEKQLkY4DZ9I\n",
              "H9ZC3hX92q+74gYjR6Qhw96OPDSt1S8aeYIRusZ6S+NQGiTgOUbjpbOYVTB49zEdzLjgS8kmEstv\n",
              "tzkPY1YdjGpSG8fySkakpuNp7qWqz5YshIjUXmqyaH0szICPboDQwRe01h4NFc9IqmtfXR/nmzfq\n",
              "aHCAVglQnATcUrYKu9k/7PEPqv4KZb5ccBYD5iasu7FPD/96dlIU1wmF4hWy+aNjGbAQFQuywgcx\n",
              "ESAie9Yk+8Nv0Oxpkx2bOfHhAdDeXqnbYnTQqpUiP2wXhZCN39EdQifS/kxrS1qSw+V3iljARpol\n",
              "4mZU7QCtgQAAADhBmjlJ4Q6JlMCT/wAAG+/ynBO+HZLnM3xnTSsAwBUdyPS1iSMvRLLch1kI1EAd\n",
              "BLS+aRjjmIBlQAAAAYlBml1J4Q8mUwJPAAADADLf5TouWjloVs0BFE8mECFZuEA5N4Q938YITc9l\n",
              "HKpvCM79t382S8JyGxXzXo9jjA2F0CDFIa9XjbAtBUS34zf2IXWiexCk5a4FRfNM+PzGZfZJWEZ3\n",
              "b3EkqklvvibWotIbX7az8xsQUbz6NQIqCUBSvV0cj361mIIR77mVEpn7BFLQpK0ERaUPdX0trFvt\n",
              "zpv3S7Kzz4T0WYkAh2YGyliXhVU1eFMCEYZ49v0tqZ6FN3KnaOl89MAQx0TD7h3Uz4VPG7CNSDd/\n",
              "y7E/4cm6inmd7w9vKnkzRWcjaBUZgDz48rhFoynepQ1UkXHtbOXEwI34aNX0bNUryEwbNoRw9eaO\n",
              "LvDhIUadD8HsBlQ/0XNt3Ki3kd4oZGQBKFQN6YnOjZvCgRW1FfwKOZg2Fei1TMJOlpgUHjM23ivT\n",
              "pD9H8cnYiFSNk5PSQyROpqSzGo4/kqmj2XUyhU1avjpaYYbQYHZ6S77HPQU/hLZYre2skQpWlpK3\n",
              "96MslthgtmEAAABBQZ57RRE8Jf8oTGUCYgHdRiD9MP/Dy6gOTjQdBo27QRfxt4p0A8UU2xztMjMj\n",
              "oDjEvcTdmfk8/IsAHmykp3AAM+AAAAAfAZ6adELfAAC3gESP+vI5jBAaXMSh399BVBUmUUuBWwAA\n",
              "ABkBnpxqQt8AAAMBWZr0ul7Zya0YWUiUcBSRAAAAN0GagUmoQWiZTAk/AAADADJM272e5mByMoc+\n",
              "qfcPpuD6oLb2f0jLA9HGeJbYeS2HI7mEcEpyMqAAAAAlQZ6/RREsJf8oyRvByRre+v/DZKFQn8do\n",
              "0Ni9kNKUVEXXp4DegAAAABwBnt50Qt8AALeARI/68j9Ptf3gaw/y9eBFAKSBAAAADwGewGpC3wAA\n",
              "tQVcQwAB6QAAAElBmsVJqEFsmUwJPwAAAwAy3+U6LlpB5pTcGi7X9uyApWg1b7+S5tNFQFH6/hXO\n",
              "nm//7SLmS0grOLIxtyAeQs02YAuN8AHNDEelAAAAPEGe40UVLCX/KMkbwckBcz5qHl+DQ2HKCuU9\n",
              "DoNG3aB5Cszf/jJ97S05D1dilfYvrxCcgzNc1FUoTo4CmgAAAB0BnwJ0Qt8AALeARI/68jmMEBt6\n",
              "biaHTch37NgIuQAAABcBnwRqQt8AAAMBWZr0ul7N762SKYApIQAAADdBmwhJqEFsmUwJPwAAAwAy\n",
              "TNu9nuZgcjKHPqn3D6bg+qC29n9IywTRre326UPdlsifgO4TDIypAAAAJEGfJkUVLCn/LC5nAhhg\n",
              "ZZ9PdEEhkQeVP3W0cIpXMAC7VoArYQAAABoBn0dqQt8AALeAqYbtzptrm5qKcCblyLyCDgAAADlB\n",
              "m0xJqEFsmUwJPwAAAwAy3+U6LlpCAGFoVyE33oBItUZJSKy7AAualgXpOABXvangJpm3AHKAq7gA\n",
              "AAAeQZ9qRRUsJf8oyRvByQFzPmoeX4NDQPCUA6SOoCbhAAAAGwGfiXRC3wAAt4BEj/ryOYwQGekY\n",
              "9Lns30DLgAAAAA8Bn4tqQt8AAAMBWY8GB/gAAAA3QZuPSahBbJlMCT8AAAMAMkzbvZ7mYHIyhz6p\n",
              "9w+m4PqgtvZ/SMsD0cZ4lth5LYcjuYRxIzBbMQAAACBBn61FFSwp/ywuZwIYYGWfT3RBIZEHlMSg\n",
              "puTW+owFnQAAABoBn85qQt8AALeAqYbtzptrm4ix0DkFQaAtoQAAADdBm9FJqEFsmUwUTJ8AAAMA\n",
              "Mt/lOi5aQgBhaFchN96ASLVGSUisuv/r1q9ADjW0mRAKZgDwAVdwAAAAGwGf8GpC3y1x4MIy5ZaQ\n",
              "KQSMKhzpPPWIVl2CTgAAADNBm/RJ4QpSZTAk/wAAAwAyRIMY79AABVxKO4fTBY/+IjcvoHo4zxLb\n",
              "DyWw5HcwjiRmC2cAAAAeQZ4SRTRMKf8rs8kCYgKgF5B08deG1wIKQ62kwCDgAAAADgGeM2pC3wAA\n",
              "AwAAAwKCAAAAO0GaNUmoQWiZTAk/AAADADLf5TouWkIAYWhXITfegEi1RklNNniB7VJzt7Pf5cXG\n",
              "D9IUNBgIKXehiPSBAAAAQkGaWUnhClJlMCT/AAADADJBtjjV4KpJxUTZDnYU8COFkYsoJN2odNpL\n",
              "dmbkkT0RUYUD0aEp6cuhJ2iX2MHiToxHpAAAAB9BnndFNEwl/yhMZQJnvlhNYSE1S8+hXGL9ASzh\n",
              "PA6ZAAAAHAGelnRC3wAAt4BEj/sSFawjqnUY15VZXXvAvYEAAAAOAZ6YakLfAABPQqYAIuAAAAAV\n",
              "QZqdSahBaJlMCT8AAAMAAAMAAK+BAAAAEkGeu0URLCX/KMkbwMkMwAAWcAAAAA4Bntp0Qt8AAE5Z\n",
              "3AAy4QAAAA4BntxqQt8AAE9CpgAi4QAAAZ5BmsBJqEFsmUwJPwAAG0/20vxETUP6mwTc6yNNiMrp\n",
              "j0gAmtrM3gMt2WXjY/Ad3GCc/2umRwMxJZXF7xRnv/5Y/+ArQmy1ucQTEWKH/YqrjzQ1mzZYM8Rh\n",
              "fLM9nXS7GT5W/Og21sPusaUxOW9LKBzlFgCHP/X3bUlIb/bA1pFr5qEnW8qkwRVLl3wOuIznovEr\n",
              "2p7fbOFNc98R3GR+6ObwXpbCOpS4iFIFyMcBs+kD+shb9Qd7xTwPqlYY9IQ4e9HHhpW6peOfMEI3\n",
              "WM9JfGNC5ROA5RuOltCoBVBJ5k8Xc7rT4V+G4EvJJhLLb7c0Dz+u8YxqUhvCJ6DElU+RtNSadcIt\n",
              "nldGNReapA+JF8qLo9ugNCL7tfXkDX1z0iqbKlWqXklfAjwcIBWCVCcBNxStgq72VBWLCV+yAiz+\n",
              "ExQ3gPmJqy7sU0VXDSQ7/Ub5jbfOv9aPOdF6hUJOllhA5PLq1E96xJ94Y8zb3UTTs2c+PCA6G8vV\n",
              "O2hwFr+bzu2LJ7CR/7v6I59K4F/JjWlrUlfINR88gApoDqDh4XaAVsAAAAApQZ7+RRUsKf8sLmgs\n",
              "G66V6p5eqglHnli+aHaL4EJ4n50pFBDkhAAAqYAAAAAVAZ8fakLfAGcesAdCprkImwAAAwMfAAAB\n",
              "ekGbAUmoQWyZTAk/ABNqdfqpOMGbX7zL7Fv+629Os6iFOk0cHTJWYG/P46ok/EHXj1ouji3uWaYt\n",
              "l5SqkDnA0lvmTKLYTlftwgJzakPyx8bkq6KraTAgMl50NfQFthUVafdA02pwqVi24cfDLg5VYwfK\n",
              "V48CyeBpvXq00/i/qUDjuqgcZ13f0NPA0fSULM0fKwP03hvje3p3TymkNhhIxH0h+q3s4yT4QKNO\n",
              "rOmduIaASm6gFCw2gjP8b7ymN8Hz5/+4Wyl8MqBw619JTmOCuIR69y2EakaKA/0C/353bZu27B2G\n",
              "S2iuDSwmSxr14Re7oqmvJPQqO3xINB7WCRcA9SeNcrzTRVblh0jGUf0oaFCrGagpgEOFrLf7umKR\n",
              "q2hTvgX6rktilQG09DER0OOLJpyv8MX7PC9aW22iLzVggmB91TEaC8mzNP2SeBisVecicS+EuUw6\n",
              "4waWkyp58YcT9PRwDWfM+TCzY9YiAAi7WQWmQ8SkLAq1sAALKAAAAYVBmyJJ4QpSZTAk/wAfPAho\n",
              "FH+CoQq7C5fToqnWUexwvKgYs+VIE+v6kqyZvGG9BX/lh+IPlsRcfd/5xoi/zvFB7Zh4+qI9F9gU\n",
              "K0TflMSJZIUI6PdYDF3BIgSj0hrzHvNONtUrSRVFLhHkNqhzKnnTXJWhjj98L8m9SaCFn5ftqRRy\n",
              "R+inSajNGI9d+q66+W5y0+T4oWqkPWGp4tmkPQKHnKa6MJEBm9lPzLqAHtPbAKHXmHNqxACGdZKN\n",
              "C9KcaXO51pebAxakBVLzgszE/I4BpfmD9JyJAK0CzV67uPQICupmEomz3JrUhHQuHSMy7ag5hu4S\n",
              "YWmECze2ddSo62/AT3VlzfduKZ8rw0AP+3wM+8aRnIF3Y9CYuwlVWhJ4heeKtXlsoaYI6L8iVPLY\n",
              "8o5fwR6laS5qx1n4lwGy48OVwfw8z89oPJehOHezGR4H0ZdZWPxjVzalWsMc+gnRuzd5QUFknUXn\n",
              "fcbbDZzEd0d7U04I0OR0Tm49ZwTAABdCVAG0AAAJOQAAAXVBm0VJ4Q6JlMCT/wAd1wXpfeO1WDnG\n",
              "6ywlGxwHCNmfmzfYcUNq1apKURJHfQcORsKGCMkfFvWF/i1zvrVI7WijSLljQVjHMQT/xou56yeS\n",
              "x95sm3IRTfXutPxgdFuhZp6TApDMnM2v5AEm6yq42OcMdJlX/yd/kwRU2ZJ7/VUSLZp0rFy/jLYc\n",
              "JGEFplpFxqeffpANQOztCue5JKaZTT83oQtXVfZyabRdEQDX+8CI4p6GDi+8uvF1YisHare4P2Gy\n",
              "j1b/Z6pzH5vIWKoKnd3IYKBSooJyBMihFG2f8giMb/jMMNZwbjB39dV+s67pKJUZtbFIwLKBpUri\n",
              "7fQpAsl/Q95hFdUOhVcGBO1jSDEjTudQU0yCUoMyKgo4Eo96wc8N9wZ+3ah7N4TqwxAFjNyEBCcQ\n",
              "kZmq36SwOhxx4LAU9AjHnvfuAADkFT7Jg+od968YqdgvOIvjnEc+xzshH2kq0KkbU63O8UKM+37r\n",
              "U4SVTjBgABdwAAAALEGfY0URPCn/PQAGsm8AULf1P15qkUCWChJhKQNdnABzQUfeJ5rvf2AAADKh\n",
              "AAAAGAGfhGpC3zmdeIdgGfdZh7vrDiJoAAAO6QAAAZ5Bm4dJqEFomUwU8n8AACA/7CfJLpqdQfw3\n",
              "02zJb+dosOvMlafYIV/xKjA5XnBM357uvtcZ9nQkXyWCV55oYeDbaPXMpUO5FUkB3u2vzfv447Fm\n",
              "NNBlGFa5ATuqEDDY16lAGJLQiKT3Pvk76NoN/+y3nsq/EscSZQ2FcjTA3YKy1CW+OeuONS3h2OuT\n",
              "YMJZxgxVWdSzNqLiFs8QUmh4DWv2GzUKdCn8aFU97p6/fg67y8MbRugqU7zCASqrXMvf7m5fwH3x\n",
              "jlRla5KkFyCa4NWLrhmJXp9p34+k6Zb1WJ9q9B0QWr4Vfr2w1KX5yUXTpGSqoq3HpsseCo6t/Pji\n",
              "nNgO1nSu6qT8PjeIIh0iRgx/kHAIjsnNiD/ZP7YyUoRM+5xPrXaZGbo2DOcQOpzpN69JDKFQqBqY\n",
              "xcVSXhVwziezdNGa9h9hVIS2/EbTv4tbfHPR6u/zMhOfF27ZK8J96xEJCC+RF2fAhwsufnS+eQIP\n",
              "LhMC9SuHDyj2K+FcHuSJ5Xacz+A9xYW/ZACXY6UhfKsVTf2cX7HgSXSTZQUALaEAAAAtAZ+makLf\n",
              "OeekYSfJGOhBjjbYWY+dWhFZfQenTzRLR5bH5bY/T9nqaafAAAOrAAABk0GbqUnhClJlMFLJ/wAA\n",
              "AwA6n+U6Llo5aFbNAOXxCydk7Ilr90cV7727+MEJueyjo4qyYn0+hcriVN6zzZIVWNzJJLaqtS3X\n",
              "dIGj9IboDc1rVBE3C3cnQC7wqR+14uMQDKTXDdILEfxxEU38YtV1TIR5BtWt4HpsdLyKIEE2q8pp\n",
              "R9STYtNJbO20neWhf/rga4d1ln/rjJvrtt7lW4ZeORI8ESMYyqvV0haIep4XjJy07Thqo/1C3gqd\n",
              "SGVGzuoCQ1l1L0Z81YNnkMJNcJkPkv2YbX2yZ/+n5Yzs5tuU0Snv/6/78RFYClUVfeEc8nENBLC2\n",
              "jlEw9sEhUrkviXePYcf38q3GHgsmKBM3+XXbsYPdLdqpHub0TQkcawL3KJXneCkM1s/xZYYsjlzR\n",
              "lRe6VM/VeMoteC468rgIEPOWpPcLDjcDaJIbHVN0opJPLzL8hR0pvt6C/z8p4FyyCZeVMinKxMZM\n",
              "yvkHrShm+o/7oywnu/WKh/U7h40Q/4qCWuj2PrfIhJVjXjEZDff7qMRcAR/QVQQAAAAmAZ/IakLf\n",
              "LPddAt8uQ0LkpAjHM4RquXd6pR+g0U3u9Fcv3rfoh4AAAAGHQZvLSeEOiZTBRMn/AAADAABtP8p0\n",
              "lqd+tE9J/2m7MM/8KTMFrYKbjif1UqFXYXL6dFU6yj2OF5UDFnypAn183zrEUCQ96Cv/LD8QfLYi\n",
              "4+7/zjRF/neKD2zDx9UR6L7AoVomHNmvhKFCOj3WAxdwSIEo9IavKoHkHfno1zailwjyG1Q5lTzp\n",
              "rkrQxx+97XVIhFHTTBW4BNu6MR679V118tzlp8nxQtVIesNTxaaaZAc5NnI0YSIDNtUgR1mODdRQ\n",
              "nB1WUZtWIAQzrJRjzyhOUz+daXmwOL8x9Gei/27skLDev/FmaalpELW7j0CArqZrqMYxb8CxI2UI\n",
              "qbmVsVQ9BBg2GKgxR4tL7OJCtvzk91Zc5HmDC06765AQPiZUsUdeylqLsJVVoSeIXnirQjGE2pd+\n",
              "BYF9vRBeUcv4I9StJz1Y6z8S4Efe91bMC4eZ/S0HsvytceNbIYV8H5g5w001eeLVo85LME6N2bvK\n",
              "Cgsk6i877jbYbOYjujvawomoqOuic3HrOCzzoQAAACMBn+pqQt8s910ABS6BdhmJ8i/9Oorop7ry\n",
              "HhJwW9oX6A+iUgAAADlBm+5J4Q8mUwJPAAADAABpjM7N5AFWDDcDu9Jh3N9MMCYRXvEYWNl3/ozu\n",
              "/FCYeX0lzUa+lSZdJ50AAAAwQZ4MRRE8Kf8rs8kABQyH7AERnVoB3PuAQIrsjiwZHy2NAkFi9ROg\n",
              "8AH2+EoRrD/tAAAAFgGeLWpC3wAAAwGaw/coEI948bvLZBUAAAGdQZovSahBaJlMCT8AAAMAOp4E\n",
              "cIVD4lRgcrzgmb893X2uM+zoSL5LBK880MPBttHrmUrnSixxxAnO2vzfv447FmNNBlGFa5ATurhB\n",
              "uXsG0QAxJaERSe6BkFmmBJdl+WpDZV+JY4kyhsK3RjA6eDZahLfHPXHGpbw7HXJsGEtXxeKRKUGM\n",
              "2ouIWzw7nLXwNa/YbNQp00BPJjl1mqgtocUvfPQLtTLN3S8jpZtF9ers9lz4R/fGOVGVrkqQXUiH\n",
              "W0IXCZhXJ0+078dw6Q+4AxPtXoOiC1fJZo9sOPzT4I68/1iBDetKk5suW2d1b+fHFObAdrOledDT\n",
              "8PjeIIh1/YYMf5CH0Adk5sQf7KEnhgzPJk121/KiC49gDLJi1ul7Dp3q9JDKFQqBqYxcVSXhQlBY\n",
              "ch7vtudxDCqQlt+I2nfNdDWOej1d/SBCc+Lt1+V4T71iISEFEgY8Nz9isufnS+eQIPLhKrcM1w/l\n",
              "HsV8K4O9p8n3KNumeZ11LmN0vF2OlIXyWkaIEe92x4El0k2hWNfC5lkYqnXKkqkrY5MKqCEAAAF+\n",
              "QZpRSeEKUmUwURLJ/wAAH6Ta/VqaCrVJSiJI76DhyN8Ky2ekot6wv8Wud9apHa0UaRcsaCsY5iCf\n",
              "+NF3PWTzNwgvo4Q5CKb691p+MDot0LkbLsm6zMnM2v5AEm6yq42OcMdJn1bk3PwUUsxqZ7/VUSLZ\n",
              "p0rFy/jLYcJGEFplpFxqevzJANQOztCue5XhTYQnL4xPNtJoNR+02i6IgGv94ERxT0MHF95deLrs\n",
              "yAiJjxeD9hso9W/2eqcx+byFiqCp5oLM9zi+NBSt6dLAijbQ5gareKzzVaq7c2puWEm/7Ou6SiVG\n",
              "bWxSMDfAOWZ9HrqNIFkv6HvMIrqh0KrgwJ2saQYknW5xdM7/e9CexS/bjeK+ASVx929n7dqHs3hO\n",
              "rDEAWM3IQEJxCRmarfpLA6HHHgsBUFtGJZe/cAAHIKn2TB9Q7714xU7BecRfHOIzIipuvk2kq0Kk\n",
              "bU63O8UKM+37rU4SVTjzFu+UjqpNKEexl+tkIrhMXsoKByUxHssCcAAAACcBnnBqQt8s916MvRVr\n",
              "pD2g1hcjdk80eQ9VYiNoPUA5Fy8ApAnAekAAAAGDQZpzSeEOiZTBRMn/AB88CGgUf4KhCrsLl9Oi\n",
              "qdZR7HC8qBiz5UgT6/qSrJm8Yb0Ff+WH4g+WxFx93/nGiL/O8UHtmHj6oj0X16aCTkJ5RmWSFCOj\n",
              "3WAwUdMJyA9/aGjciEQg6Nc2opcI8rtztbQtJvHoxITEyDZ/I1B3ckfop0mozRiPXlOk95axkrvE\n",
              "xmzjmX7a89YB/HoFDzlNWBSPoS9ZnYSppeSe2AUOvj0Vb7rn51uc0NQGjF26LRD25R2MgKpgidFo\n",
              "lManpORIBWgWavXdx7X0a8QBls5Bb/Ep4Nd14adZdtQcw3cJMLTbGwiRLAqvXvG4T3VlzfduKaDO\n",
              "i+U+cN2/ZyBd2PQmLsJYZsmlZc6Ut8/KXav9ga2lP4PbHlHL+CPUrSXO5V0RgvA2XEJWBZ2ZpAjF\n",
              "3YkekFEmYyPA+jLrKx+MQAXQOw8WSjA6zS1PygoLJOovO+4223HwVitpXoj663Gb3WleWpwX1fGx\n",
              "Arkj3EAwATYcByKdeoigAAbVAAAAJwGekmpC3z6ckC9CIX1PLsZLUgl4ByM9U1kL7niJENLAAALq\n",
              "KiCLgAAAAXlBmpRJ4Q8mUwJPAB3ao5cBvj1VfF6qTjBm1+8y+xb/utvTqZvGsglj/8er8Dfn8dUS\n",
              "fiDrx60XRxb3LNMWy8pVSBzgPn3UyZSaPaY8KZoAYejyx8bkq8BXu6/T2o78FJqx0zthUVafdA1n\n",
              "VIj9i0Zd/cBbH3dG3qgEPzp7kYZw7PLg3r1aafxf1KBx3VQOh67v6OudNSsNd/t1dwP03hvje2d8\n",
              "bOw6EZYh5lSADbFOonwgUaqGJUnF/iClOIVOvSwJCMLb7tblqDE52UTcEZoBbKXwyoHFDA6ZFz7q\n",
              "4nubNLIe4oC/Eh9491h2R7dg7XQbRXC04iJtWi7RIlKNjgh2tZPQqO3xMtPwWB7WvN5GPQ+zQTVb\n",
              "s0dIxpIBfuhV00QQ5F8MWtZb/GYioMQIMxtaFA5LYpUBtPQxEdDjiyX+r/c59ie0xitNoi81YIJg\n",
              "fdUxGgvQP5EZAXgwq37rHFLoWaey0bp0W6mWRPjDifp6OAY8ywgAAAMCLgAAADlBmrZJ4Q8mUwUR\n",
              "PJ8AHdc879IeH3UoBCDcge22+K5htgkYZHN5UG5wc0XKI2lmh9e7vGvgAAADAxcAAAAgAZ7VakLf\n",
              "Po+2aQBkIDr+xSOz0BQt0cmzAIAAAAMAFxAAAABAQZrXSeEPJlMCTwAd1wXpnZFYJafY1ncDSLBg\n",
              "YsGz3TfhiXxnHEdoskS8VD8XtQAAB9YI3bgAtraxGZBgAAAYEQAAAY9BmvhJ4Q8mUwJPABOeCPsI\n",
              "fSWNp8v6a7plEUmbQHATA+wTbbpIijGOR0xcfQ/UD1XIW9S9FibQ8V0jZjE0NIUVPAFTeraUX0hW\n",
              "Y6gV+oyDtJqfzAdQhU6QOQqz0IPtxS1BH/+9JzhRFMUxCwRShk2C6MO3hbhP6qYGN/opujRiU7RH\n",
              "NApySEq/4l+3QLxkAbq1D4Nkpwmh55PQV4XamHbxm/TqZ5xOY3PRbNrmOB33ak/Dob3ieZfmfcPW\n",
              "SY0RXuguzT3ecJyUVIbROhGDBT34deAEonEXYAAExtK3i72WrYoON0xOmMy49kBwz7iuBCrHXor1\n",
              "3AXQQPhpsf85abQRm3/G1wEZeAZ30aTel9riMiEAEUbgb5I+E+6ecL5zeqDyI8IbpLd8HXE8SRzd\n",
              "Zpu2COsFneg7ke7sQbLJR/Ex0ofu+dym3uTETc+zPF2f5SxpoGit9EdChT7e7zuyP4uu8HDUuVUO\n",
              "HjKIr8Qq4p1hxEqwzhgIcfwFfruYODZ1P1XvmvBMZ8phIAEAAAMAK+EAAAA6QZsaSeEPJlMFETyf\n",
              "ABOfkuw+ZcqKINeTg338mm/IAbhucts+rSy65Eg1AEOOycK9+T0D5QAAAwBxwAAAACUBnzlqQt82\n",
              "YWHZlF77yGTw1HE2PCoUlEmkD0s1Me6gAAADAA6ZAAAATEGbPknhDyZTAk8AE54DF7sjNHACJIOw\n",
              "90QbfACS/QYFOZUZQYLqWIDH46j+Vx3TM2cPH2saYlpBedtYhheBkcneYNC+mFUAAAMAKmAAAAAw\n",
              "QZ9cRRE8Jf8xQAMOcVrd8n+k7SA0kyhPmiy7iEHEBWewL5auWzwbJUYCAAADAEnBAAAAIQGfe3RC\n",
              "3zZgAErYkaiDH1alMXjVvZlTSasUZ8AAAAMDFwAAABwBn31qQt8x+LdM6khGgoo9q/XKsMuAAAAD\n",
              "ADMgAAABjUGbYUmoQWiZTAk/AA6f8pwUz9r7u0/JH315USq4HL5zkehc16X81rqcA6lubOusaO53\n",
              "jwbBNWKXcJUNPfRH7DskZkr6Q/egSYuCbfagS0aGQ0n2BrF2VZG4/2guq4CLeawJajg5O6MtxWpK\n",
              "03IQpLZ1yDteXPrc5RciUtBb1ccpaa/3USosnrBJSedN098yq0NE42qVfsJ6Yffj4HF5ntTrrn+a\n",
              "AGZWEM0QJPY9XDebyAC4ZydLV6bFEuiHuOTc6dI3kgKYuGQeqcQoeK7GvlJ8DcO5/38VQAAo+5Lk\n",
              "8WGOGb/L/6lIgSehpzVI5PxiQ2yLpAD0oEOyHlmyfUeTqha7fsZ7jAIVhzIumXVJphb7XZzMeC6g\n",
              "pO7CrY1VQKKtXuL8jXXpefDT9nHGV6iBmY7RIgioCENTrC/tCDH8kDfxUrPl61aVU1HDu5PzagnI\n",
              "18DpAx5koHggLkWXVRK7vFzQJ7u1hdI08c8Zlrlw7Z2GD4PAa65uGQB+PiF9IcR98k46xH8FFJoA\n",
              "AAMAYsAAAAAoQZ+fRREsKf8wyrwq+wyvCMb7Vwtyv02vhjRwGrdthFVhYgAAAwAGpQAAACEBn6Bq\n",
              "Qt8x+IwA5QvOmPFe8MFa95Y5wT3TNjmAAAADAuIAAAF9QZuiSahBbJlMCT8ACyf3OAP0l3MB8Xl7\n",
              "/OEhgRSTkhZQjoApzj/BT9crloSCBL35DY2XQlkC8ju4Ct+2G1ci6s61jrk+MAdbXmq5lluWTHQy\n",
              "MeuAk3L6EchK/jhBR/cQcBmod0Wh5sQnQgm1/sdWy4v6ai3noAxg6WjVEtxJf8+eDJTlKl2OzTO9\n",
              "l8Pcwq1U9EATKE9It3CJf/pRG0OH3b+RokAMP5JIvY0/ITJiFuF38kFH6ynx4lLEO3dyrN/9n5sC\n",
              "iekMUbyjugKHjz/SsgVL46E/ozNxzMQX+cIkV014TONqJe0UjEcIA4Z9r0s2HgcZhhSGn6OBWBfK\n",
              "UfmC+NYUKSdBQi3S7w+NrxXGoxqr3Ac1KbFM/u5dtIutGlZAA4jwZaofo/qJBNfQOb0oIBOR6bS1\n",
              "tyyoozxSx4hdtozL+MjF4Qh2UrbVcTYjVA687g2rH/wevq8pTec7eQ+vuHPLTT7QfsPN5cif4Chk\n",
              "1wvPZQrO2XvdE6TwABnxAAAAOkGbxEnhClJlMFFSyf8ACvoFTvGTcTXvwUeDRvMhzTDRkdDsnS2s\n",
              "bj1U8PwGVSYX7cwrIspEQ2AABDwAAAAdAZ/jakLfJ4uwtN2d07BBgeJrtZIZLktXJMAAAeMAAAG9\n",
              "QZvoSeEOiZTAk/8ADfcoQhvq/pFQWlnkhBt6aDIi73UYd31zL4dRP9+VqNFfxw2AYYFvVBvJbm0Q\n",
              "tiuI+ggCIuYsAwb4wv0isygKoQcUa8dPLc2CMvDC5tuIFrj/nHPWcxpBuEHAzjVxbeZ0huPKU1gQ\n",
              "cbOCuihz1rjz6sWYfdNvgrhGP9hF+QOHUNvPJCTzw7yI718qZtYRna+twcarsRqrjz2PVuKAeH0Y\n",
              "GRlkIwEwEPG+tKBEDzah76uqsChvAqa1AGnxvS3434jjnkS9ZU+pNOmtj89Y0TOUAW9SQOGhozaK\n",
              "nTg0eND6d4Nr1q4jigsaHKLQNImamYCwTjCDiz75eoickXieLZzbalUbxYp93nUgxg51pnfy7rnH\n",
              "TohD9dOkiGlOrSAKC6CRbHpwf4btWJqqmsLt94RNbyu7X76KyP9R9/BXnkOueK1UAD9PI44ODkvG\n",
              "ChDi+9Fs1LWZjY1d+TRLuGAWdjELIjyYXA3WG466nhJPclMNP0+Vmd9bqlXj7Qiyrhm0r0jNDGex\n",
              "Wh0pmNmiKn2I1SFcC8odh6lXDCYWMNLCuidn8ADfY1chIH3IAAEMf1EwAAAEvQAAACtBngZFFTwl\n",
              "/yrXHpEIHfqwpOOgqS7+unAzClMz8/sItmqbXK5c5gAAAwLjAAAAHwGeJXRC3y94hT66An7UUKci\n",
              "ufEMSPVgFakyQAAANSEAAAAcAZ4nakLfL7IX5lYMW5QUMM9AFDagUREQAAAF7AAAAXpBmipJqEFo\n",
              "mUwU8n8AE2p1+qk4wZtfvMvsW/7rb06zqIU6TRwdMlZgb8/jqiT8QdePWi6OLe5ZpkqrKVUgc4Gk\n",
              "t7xCi2NZX7cICc2pD8sSgD5caiq2j2ADJedDX0BbYVFWxc+LWpwqZ026JB3Tm9jm6hxls7tGisTT\n",
              "gvHhrMVU3U801Bghua2bv1RIzru/oacemnCYWZjV3A/TeHC/LIZrEFSHrrEPOJzg2xTqJ8IFGuJs\n",
              "oXC5GgEpuoBQsNnnz/G+9Rx8VaDC5pFcd23C2UvhlQON2A1MLmwVxCPXuVyMHc0NzscQ91h2R7df\n",
              "5SIxt6+a9D0eNeuQkoEf7P46WgL0Kjt8V0f0HKzFiIUULR0kZthSRX8v9pT+WyHuvx33Ze0I7f4J\n",
              "u34qAIsEEWtCgclsUqA2noYiOxsf74eFL9g+/DtMYrTaIvNWCCYH3VMRoL5Xuru4c/HxULrFb2jh\n",
              "JksOt6DXVMsifGHE/TzzArjAAOFS1paQQAAAd0AAAAAjAZ5JakLfNuzRxXuYAwrSB7/2gI0ZNldR\n",
              "uwUa3cbwlAAABD0AAAGIQZpLSeEKUmUwJP8AHzwIaBR/gqEKuwuX06Kp1lHscLyoGLPlSBPr+pKs\n",
              "mbxhvQV/5YfiD5bEXH3f+caIv87xQe2YePqiPRfXrwOcn8piRLJChHR7q76FkSuluAJ39oaNyIRC\n",
              "Do1zaiqBHSlT63WZ6S3IMSE0u21yKPLVSprIdfF1yNNMFbgE27owk8AguuvluctPieKEoqU1hqeL\n",
              "ZgDIDnJs51AY6cmbeTJ9QA9p7YBR1i2O1qKh/nWSjQV4HqlzudaXmwMWpA0W/ILMtugVs9fMH6Tk\n",
              "SAVoFmr13gTA/WBm0y2YPcms/QLC4dIzLtqDmG7lZNishLE2zrqwpu6EjPdWXN924pnfGAAAzLfA\n",
              "z7xpGcgXdj0Ji7CZlHqOuQ2iKsu7RoahSFL8iVPLY8o5fwR6laS/WRwk+14Gy48IVwfw8z9hoPND\n",
              "hOHezGR4H0ZduQzV4xsxtSu2GOfQTo3Zu8oKCyTqLzvuNjgEGoEj3e1NOCPNvYK6aKDes4JgABC2\n",
              "bS0UAAADA6oAAAF1QZpsSeEOiZTAk/8AHz/KdFseCZzQxU7AEaCakywNX2m/f9WpoKtUlKIkjvoO\n",
              "HI0nnueJHxb1hf4tc761SO1oo0i5Y0FYxzEE/8aLuesnixVge/9yEU317rT8YHRboWa6hwHgzJzN\n",
              "r+QBJusquNjnDHSZW1lnf5MEVNmSe/1VEi2adKxcv4y2HCRhBaZaRcanoVSQDUDs7QrnuSfg5Jp+\n",
              "bpIWrqvs5NNouiIBr/eBEcU9DBxfeXXi6srWDlrlqw5Wyo9W/2eqcx+byFiqCp3i8VagpUUE5AmR\n",
              "QijbQAIqssRSnq1V25tTcsJN/2dd0lEqM2tikYFno0qVxdnC0gWS/oe8wiuqHQquDAnaxpBiRxXL\n",
              "4KaZBKUGZFQUcCUe9YOyG+kjm3ah7N4TqwxAFjNyEBCcQkZmq36SwOhxx4LAU9RhCA5fuAADkFT7\n",
              "Jg+od968YqdgvOIvjnEdsRU3Wk8kq0KkbU63O8UKM+37rU4SVTjBgABdwAAAADdBmo9J4Q8mUwJP\n",
              "AB3XPO/QzA6A037hfejHabd7li99YGfzd74OblcxDXbjqrkEFULyCK2AAEvBAAAAJEGerUURPCn/\n",
              "PQ5tHDK+MAh2kyJaiMl0IkoJny1wUwAAAwAlYQAAABMBns5qQt89vXPKbU5QAAADAArZAAABe0Ga\n",
              "0kmoQWiZTAk/AB8/ynOqH8SEMsOWs4wZtfvMvsW/7rb06maLLIJY+vHq/A35/HVEn4g68etF0cW9\n",
              "yzTJVWUqpA5wNJb5kyi2E5V2UzRcw9HliCYFxqKraS/Hx5J2scoZ2wqKti65ptThUrFtw4+GXByq\n",
              "xg7U/KZYI1Iwzh2eXBvXq01Bitc9vUFW8xZ13f0NPA0fSULMyi7gfpvDhiLIF4uOkLrEPNeQAbYp\n",
              "1E+ECkFAWc3xY8P4puoBQsNoIz/G+58TqAp4CRcpaM0AtlL4ZUDiN0J4i5sFcQj17lk+8lA0ZBuo\n",
              "e6w7I9uwdllqy040sJksa9eESRkv6QQ7BknoVHb4oie09BIuAepPGx45oJqt2aOkYx85Xc2UKsZq\n",
              "CmAQ4Wst/u6YqMrCDJkHTQOS2KVAbT0MRHJeDQTJdf5nPriNWktttEXmrBBMD7qmI0F4YLLLDi4G\n",
              "KxV5yJxL4S5TDrjCQxuWSz4w4n6ejgGtCyi+mHmKgAAAYEAAAAAwQZ7wRREsKf89AAe2l8q9G9+A\n",
              "Hy+p3ztGR0N7BQJvKljVm0XSIBXvPxqIAAADAAd0AAAAGwGfEWpC3zmjP+ekQkr2NVBIUTjdoAAA\n",
              "AwAj4QAAADdBmxRJqEFsmUwUTJ8AHee+0k2TR+0AeuKfAcxbVgCb0aSzz+5wo5R+0hLLs1kgEjGo\n",
              "JiAAAFbAAAAAHQGfM2pC3z6ABtNICPyrpVp3kepcoXagAAADAAz4AAABdUGbOEnhClJlMCT/AB3X\n",
              "EfYQ8Rwn+ZdN43U+c0cpBn7YR3/VqaCrVJSiJI76DhyNIIGnYUkwqR+IxxEeajhpwQaRcsaCsY5i\n",
              "Cf+NF3PWTxWtvNm25CKb691p+MDot0LNjo4DwZk5m1/IAk3WVXGxzhjpMrPSzv8mCKmzJPf6qiRb\n",
              "Hpaxcv4y2HCRhBaZaRcanoK4gFvzlMO4dQ4V+gMtIOrXqk0GpAY6HCSU5rS4weiJ6GDi+8uvF1ZC\n",
              "sHLXLVhytlR6t/s9XFbERzQqcLEgI8lGK+NBSt6dLAijbP+wRGOA3+G2s4Nxg7+uq/Wdd0uMmwxY\n",
              "iBmBwONKlcXZwtIFqXgXrtJuqh0KrgwJ2saQYkb1y+CmmQSlBmiUFHAlHvWDngvpI5t2oezeE7NJ\n",
              "GUxbiQgITiEjM1W/SWB0OOPBYCnpcIQHL9wAAcgqfZMHvz1EiFip2C84i+OcR2JFTdaTySrQqRtT\n",
              "rc7xQo4JZnMl4L43ytAAD1kAAABRQZ9WRTRMJf844AR0ceHVXA/xNleo/AGfb87AfeHIHBbjbrnW\n",
              "q6PG4Lvx/4ZZVmZMQv05TmbnttqyujienmQ2Ap81xNo/Wjrvtr4W0EwAAA44AAAAIQGfdXRC3z6A\n",
              "AD1G/w1t2d9L9GRkny4ICdh3YO7uwAAVsQAAAB0Bn3dqQt85nVxiZlxjeQPpNIAqaXAn1AAAAwAQ\n",
              "cQAAADhBm3lJqEFomUwIU/8EjganUdS4yI70hE+Q9cRUZYCXO9IiZBDs5mpIZrYuQoRijgqwFqCm\n",
              "5AAFBAAABn9liIIA/9G3eEtXwxKclRpkGWvEHX3sPlEwsWcHRZwEFE+mGUgQJdq2FyUmwym774dV\n",
              "1mhjYAAAAwAAFc/5TdPRFYhNfTbiwlobNXMhxqg8rE9lc622ZvXK3iHC3e7KakO9RaWjP9sWxU/w\n",
              "0jihL1I8HEtnpo1o6h3k7YKFvzWronqO1qAcALP17lUswEusGtFKHAB5V7RRdSWmiv/bSBPtfEsC\n",
              "mZBmy84pFUfOBw64Ffmfk73p0b+iU6u/G6awfu03OcwrQD+OuQ+BzqRiBTyMQ2MQ2mKeYxXneuVX\n",
              "wv9SkU5yLNuN/tboNiO+aHUohnR9ToKEwl3gLt6PEQ3DBhWANyrio+AAGiRkNxvVWFir566IKkrb\n",
              "X+XWa9pRedD4+bV2ONvLVaok+j9U8FrL9pJmOWSHMBIRY1kWCQJIJ5onNd9zedcexbz/2asjxbSf\n",
              "+1kHRVUmVWhEaRTBUFBuUTd8OQxFIwrmJgr0/fdi4SR/LqHv7LIeaadLsmyrOFkPo9qWf2iAAGjE\n",
              "ARtlOPclGqfsMbYtTlaPc0f1JBh35jaLg0UMBjkyULzOEGVVsKVnUy9bKaSbXKROL8VHsmrfLtc6\n",
              "2u2uaAyJBI5P14/ljQUrYNvLJfUKUTH0vKqjrIwCoSoDL+pIpegLDACaiQkyGzQHFSJY1mZoc9sv\n",
              "t1CSRM5AxIijlXt3N8cNv8oYhN+1hxVBSgQ+foK+Jd/dFdSaiALUjMWvPqjKBewYPUJSvBbBR/hg\n",
              "rjkyvgSfMEXD/b4bP38HQyYreivTsGf6U4oaMvl+GwMCy83w/6ytReOJfUy2oWqm4NhVv0o6F1px\n",
              "NHsdP0KtGmAtR2NY6C91xh7kjXF+W6gPUtY2KxiHtV5hyz6UCu4ljMQACVs42V+CPTcR6F0cgzcY\n",
              "wr8bXXZzktgdZBhOKtEx+FOC6B9hOl74qz9qHntNHCiFl9DIkB3UqO7CV5NCagIAQabkDno4P4X+\n",
              "VEWv1aJ6uHPSsKljS2vo1agM/kHA5+nBJ6uiI5ST2jKtj1EwkEtAVYnnMF2NGlhQ2UMhd0SqPlI5\n",
              "47cxgYnkeGlAZAqslULXyb54YwCWCc6CSAuXQ0kb6oXrWzPrP1xpgnjUqxcNBbnEFf+SnUcAPZgr\n",
              "jk8Ea/ap9kA/SM6rRMn4635D9zAtcz5olFAZW2A1+5mkLV7xP0dUKBr47wjp3yY3Ckm8Z/X++J/9\n",
              "69QGGZu624gY6c0LOzpakHCxAsbbe+xxLW6xEcUvZXMdcwDWxpG7rqS3Z6jeC4eXuRNSmvukpV0c\n",
              "aCrQYSZzNNIxOVDv3pai0VlToE/UGK/6L7CR4+D6Jv3tlvnF2gsXqJeCu8UJ4WXHxsLh/KjK6YqC\n",
              "OinfLBeAWO555D/9f0Eq5uzZNvo13X/T7BDaU/w25m244dDYuibi8awk3Im437TyUHW3FEA7wejB\n",
              "AF67z1Gn5Dv7ot/EJtMdBX/9TxpR57QUs2nNkNClflzhlUySc2w3dM4ZbiiOWJZDwPARcJfQETyK\n",
              "JbNZ03hiGCs05gk2XowDPedBRaip5HqOhg1Ji5KKH5kXWqzRRQ4h6bWAnXSV4B6h4wzAnkRFqMUE\n",
              "gxkYdh8PaUXJ0dNcG6PyO9v+KrTWE4bs5yBuew6Fdh9we702/Y5l7YLszhYnjt5B+oRj54Tplush\n",
              "2yWompqBuwDHR9+lqSIRUr2cc8IcoJiWIUJg8XtaLYBxGRTNTNOcRRAZ+5P3VjKpfUEaCs/i+rfM\n",
              "MLVAsFeI6BiLzSp5pUZYjKXyhtzrMah3HnHqrc1rlyVkYpVXsoHEyiIfUHlcCH0i8aqwEruAYIkr\n",
              "FOoDmXiKoi3uZj5wL3aYtyFoitjhGpjQSyOCHmvvQe74sJhgptqiaYDhm1rB4n/w84e9BxqeroNh\n",
              "dlwOcQML/LcfHPo/pTb4ihu2PyomajBmBJ8QzjuzFVRvJ7QagEgKVydLQpZdLuhvk1c/RtgmRNdx\n",
              "ireEvfUI1qRbqD/Pw94RS4Gwvax6wpiQq+I0k/Yb96mzKJ5yfnPGMJXPwriV7xy4k6CRvZtZae14\n",
              "BNs48FvxsEd53rZNkUAn+K9xD0ugXQcXbl3ZCnD86YHkjsvjvxwPc3IYtxy/kQQkRejYkOZIbAn5\n",
              "iIbiTG2hZWWUFeR/9yYw37bUDB15Wjv0AJihoaQBJVqRO678G5NRgnciPF9NAA2yBX+4YggbWZKl\n",
              "SwkQ4jkxcoaXK914BpG0ee6BAAABf0GaImxJ/wAfP8p0XJfaC7OuOWs4wZtfvMvsW/7rb06ifRV1\n",
              "rRlJHq/A35/HVEn4g68etF0cW9yzTFsvKVUgc4Gkt8yZRbCcqguTqqaQ/LHxuSroqtpL5523Umre\n",
              "YK2FRVp90DTanCpWLbhx8MuDlVjB4y1VCvFvY0iXN4sMWYnH00/i/qUDjuqgcZ13f0NPA0fSULLh\n",
              "q7gfpvDfG9vTuVXmdsXWIebaXg2xTqJ8IFGnVnTO3ENAJTdQChYbQRn+N9x1GAEzyA9dKYzQC2Uv\n",
              "hlQOHWvpKcxwVxCPXuWXfr6jRkJih7rDsj27B2GS2iuDSwmSxr14Q60NjC6tIo5PQqO3xINB7WCR\n",
              "cA9SeNldYVC212aOkYyj+lDQoVYzUFMAhwtZb/d0xU5rYIdmtCgclsUqA2noYiOhxxZNOV/o9+0f\n",
              "aYxWm0ReasEEwPuqYjQXk2Zp+yTwMVirzkTiXwlymHXGEviPAlnxhxP09HANYUFA1O4VDoFGXG/Q\n",
              "AAADACLgAAAAJQGeQXkLfz9bT3gFI+Fy3etVpk68nzyb2FjKyiyozRQAAAMARcEAAAA1QZpDPCGT\n",
              "KYSfAB3XBemhH4sITu+JlJLgAATFv802ciTDBAkhMiB4JG/2hJhgxYAAAAMAmYEAAAA8QZpkSeEP\n",
              "JlMCTwAfP8UngBR2zw+4CCU5bQed5IFRBKdghwTm8uz813R0WePm/z8YJ+9fzFyDAAADAHrAAAAB\n",
              "okGahUnhDyZTAk8AFF/lOi4kerqPX+fHcAVVnUOCcjCnEhzk/9Q91D+psE3OsjTYjK6Y9IAJrazN\n",
              "4DLdll42PwHdxgnP9rpkcCvHYXyjTEc9//LH/wFaE2V55owMU0P+xVXHmhrNmywZ4jC+WZ7OulyT\n",
              "93DH7Ts9ehcNvZO6nVCgc5RYAhz/1921JSG/2wNaNcm4UBp5VJgiqXLvgdcREl4ut3FrXNZ0U1z3\n",
              "xHcZH7o5vBelsI6lLa5MzoBVgNn0gf1kLfqDveKeB9UrDHpCHD3o47gfGSLRCwqvxnPgj4xFOhVV\n",
              "oysYR9xr8K1FLbF/Ru7KHHSACWSLLKzmczbTB3fXeMY1KQy2oEZItlMjaak064RbPK6Mai81SfBU\n",
              "YRAXR7dAaEX3a+vIGvrnpFU1/2qsl2t/amhwgFYJUJwE3FK2CrvZUFYsJX7ICLP4TFDeA+YmrLux\n",
              "auq4aSFf6jfMbb51/rR5zb1MAFXS6aZow/QtRPesSfeJwM291E07NnPjwgOhvL1TtocBa/m87tiy\n",
              "y2UaQ4nojn0rgX8mNaWrHAAA34AAAAA4QZqmSeEPJlMCTwATn5LXiwBw/S1YMBypAddtA3KT4iA5\n",
              "YADz40j8iE+4AWbRuwEFWEIuK4AAG/EAAAA+QZrHSeEPJlMCTwAUX+U6Lktq7l2Sb1JcUl7BcmGN\n",
              "6NizdG2ZuiS4HqziR/o04q5O4jdAEMAxO6JmAAADAf4AAAA2QZroSeEPJlMCTwATngL0wev7Vgnw\n",
              "BbzmHXCn+1M68ADE9I9zivyt8FPtD8a04CABAAADAH+BAAAAN0GbCknhDyZTBRE8nwAUX+U6LiR6\n",
              "uo9f58dwBVWdQ4Jz6ly6834FjDkg12AqbeMWaVJcAAADAf4AAAAgAZ8pakLfNmAF1dzj11mQx/ps\n",
              "f8BEckTK6qgAAAMAFTEAAAA2QZsrSeEPJlMCTwATngL0wev7Vg/7LDMlSluFP9qXswAEaxq9ziFa\n",
              "uvjqtsdJ66gMG4AAADZhAAABhkGbTEnhDyZTAk8AHzwIaBR/gqEKuwuX06Kp1lHscLyoGLPlSBPr\n",
              "+pKsmbxhvQV/5YfiD5bEXH3f+caIv87xQe2YePqiPRfXpoJOQnlGZZIUI6PdYDF30BFuBCz0G3fN\n",
              "ONtUrSRVFLhHkNqkgqTpWcgxITZ1FKxSs5ecGRZV43Sz3sJgrcAm3dGI9d+q66/25y0+TvNmIsvW\n",
              "G651FdMgOcmzkaMHVAxgvwb7QB7T2wCh16n1rUL3tlvxePg/3trnc60vNgYtSAql+QRXp4AK8pF+\n",
              "VfpORIBWgWavXdx6lAa1Nrlg2e5Nvj4SFrFNzK2LljggwbDFWAW3tnXdzLW34Ce6sub7txTO+L7g\n",
              "Fvzvgh+Fz9nIF3Y9CYuwlcthNTMumIaxdmfju9ohfIlte2PKOX8EepWkubqdfRteBsuPDlcH8PM/\n",
              "PaD6goTh6MxkeB9GXWVj8Y1c2gtTDHQIJ0bs3eUFBZJ1F533G2w2cwscHcCEfWrhaOic3C+thgAA\n",
              "7HDM4AAAAwDugQAAADVBm21J4Q8mUwJPAB8/ynRbTXz3efwe0olmvLCxYAADf9WnixGwDDeM+U5J\n",
              "VzwzwgAAAwA2YQAAADlBm45J4Q8mUwJPAB3XPO/SOPzL2LGNZT40eArxvLNOuh7XGFFagLbX7Ypw\n",
              "rKT7Kr6wZYnYAAADAy4AAAF2QZuvSeEPJlMCTwAfP8pzoasIpv/a1ZpLFGDYAuAyAB7vlD//4obV\n",
              "q1SUoiSO+g4cjR73UqikmFSPxGOIjzUcNOCDSLljQVjHMQT/xou56yeLSeB7vPEOF4XutPxgdFuh\n",
              "aXYyftkQnM2v5AEm6yq42OcMdJkBZ0+l3rUuY1M9/qqJFs06Vi5fxlsOEjCC0y0i41PR5kgGoHZ2\n",
              "hXPciOv3rT83oQtXVfZyabRdEQDX+8CI4p6GDi+8uvF1EEuOIOWrDlbKj1b/Z6pzH5vIWKoKnZBS\n",
              "DmPxoKVvTpYEUbaDIaIxv+Mww1nBuMHf11X6zrukolRm1sUjAnzYWZ9Hr6FIFkv6HvMIrqh0Krgw\n",
              "J2saQYkc636CmmQSlBmRUFHAlHvWDwk3uDP27UPZvCdWGIAsZuQgITiEjM1W/SWB0OOPBYCm2Zv5\n",
              "737gAA5BU+yYPqHfevGKnYLziL45xHjSM7IR9pKtCpG1OtzvFCjPt+61OElU4p4AAfMAAAA2QZvT\n",
              "SeEPJlMCTwAd10T4i/y1H/awUE9LsHpizMzQESAdqSySKKAzR8ajRI2SkTQLkTNAAAVNAAAAP0Gf\n",
              "8UURPCX/OPNY/N8mFPkQylOdgHRhrWfU5lDLdsKCyOoUF/772ju5Cuc1dfQpj+i9PoO1fmjZ+0wA\n",
              "AAMBLwAAAB0BnhB0Qt8+gALhUHH4T9PEglRnWciDoCAAAAMA/wAAABkBnhJqQt89t/m2EahtfBi0\n",
              "CuGWAAADAA65AAABfkGaFEmoQWiZTAk/AB8/ynRbTXztP1aqk4wZtfvMvsW/7rb06jr/xaJZKvHq\n",
              "/A35/HVEn4g68etF0cW9yzTFsvKVUgc4Gkt8yZRbCcql6nbI1Iflj43JV0VW0l9UHbqTVjpnbCoq\n",
              "0+6BptThUrFtw4+GXByqxg8F1BWX+/jjsRCNPeYRvXq00/i/qUDjuqgcZ13f0NPA0fSULM0C7gfp\n",
              "vDfG9vTuVndtbmWIeZWztk7OMk+ECjTqzpnbiGgEpuoBQsNoIz/G+5QFXessWQHrmuO24Wyl8MqB\n",
              "w619JTmOCuIR69yyq7nEjc609+d22btuwdhktorg0sJksa9eEOiEVJpC9lcBehUdviQaD2sEi4B6\n",
              "k8bJowqFtrs0dIxlH9KGhQqxmoKYBDhay3+7pip3rpgd+b9VyWxSoDaehiI6HHFk05X+dT6wjVpL\n",
              "bbRF5qwQTA+6piNBeTZmn7JPAxWKvOROJfCXKYdcYSogscifGHE/T0cA1lMscpl4wAAAGpEAAAA3\n",
              "QZo1SeEKUmUwJP8AHddNzDjj8WAwTZEgAABixBT0vNY9FHu2rFIagYsN9pLHI/CwoYAAAAMD/QAA\n",
              "AXhBmldJ4Q6JlMFNEycAHz/FJ4AUP2XWBDNPliATZyZhfiYZo/c6fq1NBVqkpREkd9Bw5GjnupRF\n",
              "JMKkfiMcRHmo4acEGkXLGgrGOYgn/jRdz1k8XRZWNeRQim+vdafjA6LdCzUaGBSGZOZtfyAJN1lV\n",
              "xsc4Y6TIf7p9LsUUsxqZ7/VUSLZp0rFy/jLYcJGEFplpFxqejzJANQOztCue5Kk5gmn5vQhauq+z\n",
              "k02i6IgGv94ERxT0MHF95deLqIJccQctWHK2VHq3+z1TmPzeQsVQVOyK7BEFKignIEyKEUbaDHCI\n",
              "xv+Mww1nBuMHf11X6zrukolRm1sUjAnzYWZ9Hr6FIFkv6HvMIrqh0KrgwJ2saQYkc636CmmQSlBm\n",
              "RUFHAlHvWDwk3uDP27UPZvCdWGIAsZuQgITiEjM1W/SWB0OOPBYCnUZv5737gAA5BU+yYPqHfevG\n",
              "KnYLziL45xHjSM7IR9pKtCpG1OtzvFCjPt+61OElU4p4AAfMAAAAJgGedmpC3z6CLjMMiLTdDmc8\n",
              "4ijN4SokH5SRAUYTM6VIAAADADpgAAABoUGaeUnhDyZTBTyfAAOp/lubNVDXFb3uRDtXm+Owm0NE\n",
              "PMBjcAjb+2CPf9ScwOV5wTN+e7r7XGfZ0JF8lgleeaGHg22j1zKVCxnDXYO921+b9/HHYsxpoMow\n",
              "rXICd1QfRXGvUoAxJaERSe58vp/RtCT/0ov3gVfbXnNwUgw0aYG7BWWoS3xz1xxqW8Ox1ybBhLNB\n",
              "uKq5oMZtRcQtniCk0PAa1+w2ahTobeLQqnvUPX78HXeXhjaN0FSneYQCVVa5l7/c3L+A++McqMrX\n",
              "JUguJkXBqydleK5On2nfj6TplvVYn2r0HRBavhiDi1IelvC4TQJ1iBDeqKvTZZWVR1b+fHFObAdr\n",
              "Old1Un4fG8QRDoDyHatRB9AHZObEH+yf2xkpQiZ9zifWu0yM3RsGf1Z/0nTOGENGUKhUDUxi4qkv\n",
              "CrhnE9m6aM17D7CqQlt+I2nfru9GOej1d/nJCc+Lt2yV4T71iISEF8iLs+BDhZc/Ol88gQeXCYE6\n",
              "luA/lHsV8K4PckTyu05n8B7jAt+yAEux0pC+VYqm/s4v2PAkukmx5QAm4QAAADABnphqQt8NZnIC\n",
              "qxn6laK9utgXD/w3YcSqqfl2cNX7P1TF9gESeaQ9dXHdBsAAHHAAAAGYQZqbSeEPJlMFPJ8AA6n+\n",
              "W5s1UNcNArc5/KTyCMLAmjvVV4LyFoI+XUqAHoe3fxghNz2UdHC4bc5Hv/Tak7es82SFVjcySS2q\n",
              "rUt13SBo/SG6A3Na1QRNzB3J2O5fWkfteLjEAyk1w3SCxH8cRFN/GLVdUyEeQbVreB6hHS8iiBBN\n",
              "qvKaUfUk2LTSWzttJ3loX/64HwXdZZ/64yb67be5VuGXjkSPBEjGMqr1dIWiHqeF4ycsf5MyqP+C\n",
              "hr5U0oOrKw3cWHW2FejPmrBs8hh+kguGEYnZln3pxoXP4OZKHvQmc2n/SjZDc28HCosIq+8I55OI\n",
              "aCWFtHKJfhQJCpXJfEu8ew4/v5VuMPBZMUCZv8uu3Ywe6W7VSPZHIuRI41gXuUSvO8FIZrZ/iywx\n",
              "ZHLmjKi90wKToPv4ewW468rgH8UOWpPcLDjcDaJIbHVN0opJRzzL8hR0pvt6C/z8p4FyyCZeVMin\n",
              "KxMZM3zkHr+whfUf90ZYT3frFQ/qdw8dQ6lkiWuj2PrfIhJVjXjEZDff7qMRcAR90CPgAAAALwGe\n",
              "umpC3w1mcgKrGfFqqkQmIJpAwZUdGHTawnsrYSWGk8kUrMv6hEvQB/eswCvhAAABi0GavUnhDyZT\n",
              "BTyfAAOp/lubNVDXDQK3Ofyk7N3EmP+QXcYFyoTMoBdHGKIK1zr/ixsugI+X06Kp1lHscLyoGLPl\n",
              "SBPr+bvWIoEh9iCv/LD8QfLYi4+7/zjRF/neKD2zDx9UR6L7AoVomt7WvhKFCOj3WAxdwSIEo9Ia\n",
              "ut8JKn6jxpIqilwjyG1Q5lTzprkrQxx+93bBIhFHd88vyCUeaMR679V118tzlp8nxQtVIesNTxar\n",
              "cegUPOU10YSIDNuDIzrMcG6ihODqsozasQAhnWSjHNDScvHRaIe3KOxkBVLzgsdXXEgnc4kArQLN\n",
              "Xru49AgK6mYSibPcnJtPm8uFNzK2LljggwbDFOerSzS+4hx3dCRnurLm+7cUz5XcW4TrAP7OQLux\n",
              "6ExdhKqtCTxC88VavLZQ1xhwLAvt6ILyjl/BHqVpLmrHWfiXAbLjw5XB/DzPz2g/ejSCoDMZHgfR\n",
              "l1lY/GNXNqXOeclmCdG7N3lBQWSdRed9xtsNnMR3R3tTTgjQ5HRObj1nBVhoAAAALwGe3GpC3w1m\n",
              "cgKrGfFqqkQmIIs7eUBwkjXD56TGEZzaKiApW+gGZdvJ6cpIUr6JAAABjkGa3knhDyZTAk8AA6n+\n",
              "W5s1UNcNArc5/KTs3cR4Hb9Udkztn4owGPFs8Byo+/wRqySza/b2VyP56qb061hgX07SuOvIWrgb\n",
              "8/jqiT8QdePWixxOFOE1wgfSH5zqkZk3u571fhOVQV9G+tIflgp/7jUVW0lmaSe/R18r+2wqKtPJ\n",
              "wVrU4VKxbcOPhlwcqsYF0AAA2ulQjaUDkG6nmmogX9FdUoa3mLOu7+hp4Gj6ShZfCXcD7r5/nPtG\n",
              "KO10Dm+1iHnAB2ydnGSfCBRprZtTtxDQCU3UAoWG0EZ/jfbJBAEpnJ7etRmgFspfDKgcGPnSU5jg\n",
              "riEevcsqAY6Y3O2/fndtm7bsHWmTaK4NLCZLGvXhCRt1i5u1UBehUdvh9aL2sEi4B6k8bKcdo64X\n",
              "Zo6Ri2QKUNChVjNQUwCHC1lv93TFSwAQaXwL9VyWxSoDaehiI5t3Fk05X+f37T9pjFabRF5qwQTA\n",
              "+6piNBegbSqnSeBisVecicS+EuUw64wmUOZU8+MOJ+no4BqKlWxMLeppAAAAUUGa4knhDyZTAk8A\n",
              "A6n+W5s1UNcNArc5/KTs3cRwrS8iSzpsyvjae8HJnZ7EgO4hGhWiE7L2NbVm1w5fSavEjHWBeLnH\n",
              "U2PnIBK7nSi1v8c8gAAAAEJBnwBFETwl/wwniUK2zPqwz/v0r9s5MuIpsE0QnrCDM/84mcUs7aMy\n",
              "r+8x/RUZr4MvxKX+QTBjfGaaLI2Gvtrgn4EAAAAiAZ8/dELfDVN9nJPBKTVVjNAFmA561jPP0Nzp\n",
              "i25gcEOGfAAAAB4BnyFqQt8NdHSvoRJyhij3qgA8QHN/kS0W5VossXkAAAGfQZslSahBaJlMCT8A\n",
              "A6n+W5s1UNcNArc5/KTs3cSX/yGe3fxghNz2UdHFK+DeHfrfVJ29Z5skKrG5kkltVWpbrukDR+kN\n",
              "0Bua1qgibnNtHU7l9aR+14uMQDKTXDdILEfxxEU38YtV1TIR5BtWt4HreQ3W3gFdGB1zSj6kmxaa\n",
              "S2dtpO8tC//XA4KNQL4bD/FYYfm8w0tc+twRIxjKq9XSFoh6nheMnLCdfjVR/pcp/Qf2k+ysN3Fh\n",
              "1thXoz5qwbPIXm64TIfJfsq1Nt5eU1Pjvlu2VvKaJT3/9f9jhCjtLfye6sKUepE9e9T3yiX/LSLY\n",
              "Y2vELXVFxPkIdCgV78fwWTFAmb/Lrt2MHulu1UitKBIFWXJe7pqD3+w23jyU9v5sLDFkcuaMqL3R\n",
              "rlq1IEz+z8kcR2ANX1OAi7URAnqqe8SGx1TdKKSRZyC/IZpRN0MZcf40Mw9phEQmW92RTlYmMmSk\n",
              "0/6gJq+hkOlyisWNCOof1O4d4yJhDlTz+3DT0VWq5ELEwt+NngDEZDff7qMRcAR+wsUV1ScQ1oF2\n",
              "v4IRiQAAACtBn0NFESwp/w0yUw73EqN8FTUMNr/bSDL+/dJSk0ZdxyI9MNiTG0G61Zi4AAAAKQGf\n",
              "ZGpC3w10dK+hEnKGKPeqAVJ6xZo2nTcXQLkI4kV/SNVY55kAc78MAAAAPkGbZ0moQWyZTBRM3wAH\n",
              "R/RGE42oUUV34YR9h7btysb4Tz2Lg0mQw68K1wribwtpFHnKHKiG5XeUYowBqIaRAAAAJAGfhmpC\n",
              "3w2DcN1MgUqaMptSUzi51Ygr6exgm/eOKwuwJiS6DAAAAENBm4hJ4QpSZTAm/wAHR/RGE42oUUV3\n",
              "4YR9h7btyrpChieqkPnLAkjgQ4BX6PL+RGQw9cNgoLhuNXvOrwKryQTHa+aBAAAAOUGbqUnhDomU\n",
              "wJv/AAdH9EYTjahRRXfhhH2Htu3KvRGw1Ry0JomrMEMNFUXczxyluuAGUNgqwHi+aAAAAYFBm8pJ\n",
              "4Q8mUwJvAAdH9EYTjahRRXfhhH2Htu3JhTpwfmnq5QAp9Q/hefezdz2U/aCqG/6KFg6FS43XzmuI\n",
              "x57YS3e22L2kOuHvN1+oseLWCY0xaR/aTLFf8ybxy0fKa9u+JNNcx90FBxVnX/OJ72OV5+x9mpdH\n",
              "NmWqch9/BF/IRRevP0eaA0Ws6KZAAASV5UI2lDqdCLcJL5mCDcrQHl39q4KT3fImkqg0olYSJuyZ\n",
              "mUKMXL/fr/axDzbHlyFsVKId9E5TXo0TYHP0LCx157ZT5ohKN2cgC5wSRLMF1dzGhOftA2QKdAab\n",
              "LD4VriPYg1hKX+95FSh26Vw6driwVIWrCVbQ1+pX1ZBpaj7VjJg4Luijp5j7Tn3VMVR4edAawqFt\n",
              "rtrXlYOMRjLEpRwNcE1FbH5/2dU8KLD70wil/43aiJc9lzfJT44FkTZKlWbfPw2dzYAdJkWBxbvE\n",
              "f4tBNmSGu65ZTNeHhdw8hDKpS5IkRsqvWYbY6YTniWjeIgg2fbUhAAAAPEGb60nhDyZTAm8AB0f0\n",
              "RhONqFFFd+GEfYe27cmFOnB+Fv/v/0BmrRKQAAAc8eeciPIRhXIDF43v+mWxcQAAAEFBmgxJ4Q8m\n",
              "UwIj/wAN3+iEyuNpq2vfBtCl37duZCnUcsPVEPvKMGb0tgXV37/z+gx5KB8tBBZWzdCB0GFn3bN9\n",
              "SQAAAZ5Bmi1J4Q8mUwIj/wAN3+iEyuNpq2vfBtCl37duZCnUcoa/F1e6FHlQrpno2eq08U7G/yTB\n",
              "+e8YvvSWBuP2MWoc8Ouo9qtQoxMKSitNVLx6rnj6KnBOXAeHUoNYLiqikt/bvQtJgj/9/dbMSvyL\n",
              "n98pmfZAOWRf+vOqRrjn2MpZ3ZqD6co+ITaBdT0RMQlGf6I46TFqlT1YQe4nE3RNHOnx0Qj5qyZV\n",
              "LwwML7+b750fgrcXa1whe4Ec/l4vhIjjw0KEBQSpAbtsv5Cu16DlGvQq0HfGeESipcFAE3AKmdms\n",
              "9+ZIPpnoOMqHlicoeAByziVJGDnzol6/mwxQ/FQmzga9q/ev00Be4+n8HwzDtj4vZbHmm5MH0d4t\n",
              "xN7T4xwo0Ub3yJzOFdUAVMkBvkj4T8dnrCxvUGGAOjOnbtX671pvlN4qFTA+738G7PBUsxV5J5F3\n",
              "XgnFllZOpezkz6ic3J/QJ/RFP/J/g4nJ0c19KF8re8BtB6w7HUhlSYlUhdlewy/vyBdJ6lvHJIGJ\n",
              "y2y/cm8kMxSxABj3EfAF+cQDktsAAAG0QZpPSeEPJlMFETxHAA3f6ITK42mra98G0KXft25qt+BC\n",
              "CcAw/gyWZUvQjpous7jgOE/sITS4878ZNoz8TmAoqk3UnuR8N0fvv3reKnP1G9oUCISTiTtt9xH7\n",
              "rGuR/S1y55hCPcSAHlMarkgXiLIBpZ9V57a2eztdcRhsh6vGJoydQUBuwy/7mj12Zfw+HD+Swytz\n",
              "Cw8zQzCr29uRTz3a1Wf0zyThcPPQT0dJ/vHOjUayrtRHD5dvLUHcGzpIDh3MtaUokOBo2R63ZeDC\n",
              "3AZYNRiJaFnDZA/Em/hCmkIGynYZbqU3dwC/KVxS5d/fNPBeOtXePiRWugEeihWEocBHuAPiP8GT\n",
              "m0JUk+RZIMDXfoEuxhMnKOOux/CTre/xb/5DyutBsfghO1H+jADeHl0PycImGkL2HCvX26eenTA6\n",
              "arjUbGEspBL+sJXR5U7K+ssjslYrf74jHboVuuD6sEKK4VwZltrxNeAywEl63qbY4r6IWW+KhSSz\n",
              "5a/E3LFwvuFiRDH3LIkqYkI0uH5s7yVB2YGi8eVlDu5DsCHu1CB0v4La/LdWE1ZA/E5AADzAvC+x\n",
              "KJydgAAAADUBnm5qQt8NZnICqxnxaqpEJiCLLk6Id1TgLj2QLD5yoFd0HwL+KOLwlrd5tBcuVZOJ\n",
              "LFJvxwAAAatBmnBJ4Q8mUwIr/wAef4zDIl1mhVeL+kKWsNtSzgqcEIJfzMzR7Eh9Aid/Xci3sx0X\n",
              "Yfehthqb0gA/sAc9ELra6pq3Gu03othO1bpbUfYE65uV3sSB/u0byP3MiTMR8W94+T11hPmnhxen\n",
              "6WeWHqe5a3AkWV3s7Q6xmCNghugT8Cs1h8oiiBuBdLcR+oeU10qsi36/0fTVGp2QCASOvQl53rTD\n",
              "YNsGQgCsgNXdwff4STeVqodVkvQIz5v7IZNtABiAYvUnEyNHf7nvQiAZqEmhk3hEpneYi6fDeNRN\n",
              "U+S56lQQiVM19eojYSFUwDA+2N0MihylacxkRb3BB68zdPAhUZSIBBH9I+Ni+45NUHRQDpSezrUd\n",
              "rFuvbdzjwMFonisPJ0bNG8yAOz0eBjct15zg1G/SkUYR4c0IwEk545B+YAohtosxvTmCV7JVsPcB\n",
              "r3fya9ze0yp4cVdBbIKbj8A5/m3M1mKC5f4NNU40fzW2miL7au/2u0R9wJczwycRFLp7oFirBok/\n",
              "BxSEHrqE58PPk2soaNG9EbVw4aI3n3drpqSEArd7HwFOkpxBAAABk0GakUnhDyZTAiv/AB5/jMMi\n",
              "XWaFV4v6Qpaw21LNoQAqvj4gg1fZhYS+tagDBQfx8iNCSUWd16cWZl6HcAQ+/hTpcCNdajsZi3uc\n",
              "bocIAomfieJcOMM/mMlaxesPg5tSDBMTrra+2mkOItdwbQqN/q6ALqCFV3dr+ZEuvn5xEv2wQ6oH\n",
              "S7OxFIE3PtXTovVS1M3xanbJWsyTZElDJqZZG4z5K0iVLH9+fHOduA4ilqx2JZDCZa20ysFuOn6P\n",
              "jLK7WrEhfe3/2ABoTXkGd+reKfwJU8oGVrSbrHVCwHRdPOEULI9xu1j1nPqDubPrW1jwvj5w1q1m\n",
              "OP3mr4yN8TB1AptQGPCDlruWd2gQShrsKmjIFMEh7AvnRMOB42D2BN4mONFLTs2F0sUu25T3TjK5\n",
              "7RSPGclzoyEe6hTVBrbV8ABWAideIahcnsdH9shN+2Bp1UPZXTThUzFlXH+Q8tvFFEJRycaHRJv8\n",
              "uIV+aGohabEEgz2NEACfMvq0l4ucJE0b9TPhePeV/maR+5XhHmuQHPVdJuAAAABKQZqzSeEPJlMF\n",
              "ETxnACu+owv6WtrngZxuKlIdUXtdcnn8HIhTSz8GjyVhot8kZ9gAM2bwNp1CoooAeiNdBgJ+0Mtt\n",
              "6A67dJ3QrRQAAAAyAZ7SakLfDWZyAqsZ8WqqRCYgiy5OiKt5i5Eg+cxy5UzZ/RTHKa63F7JBAWJu\n",
              "etoKg8sAAAGiQZrXSeEPJlMCEv8AtnGNtVwlDfJ7K1oYzjesrMny7iVzA5edADSUg/9owJCqH3Xg\n",
              "+kEvND3E2Sh1bSxdKFWJxxPCs0VpCsPmhXP1lz+xPlw6MTXdj1uTp1ycD82wk9g39o4GZCjsrorz\n",
              "DXMB8CPFEYwtzRRd+iJu+xaJMcMz0eo5vAZUoceOWLNyit+UJeXg0EqfPcCN4sAQZmnpr+ZXy8Ch\n",
              "tV54cvWtVPD+c94UgLguAAVz7G98PJuATroh1DAxY3Qa5FC1Rn5btwwlnt+lFs6eFz9kRZAIn+KY\n",
              "4oA5Pk5n3PbIX6hKhWX2dvxeI7h74eA3k/83XY4BGwEVW245nJ7JrUza8lEdFVW5qZMBnZmWZjZC\n",
              "uV+8vAa+wiinNz66H+OQp0KmfXoIaT9BqLkUy8BC8AStIbnN5Qq43Jt6fPpVMB1nm8QamDOoiY47\n",
              "BZvG2FrHZQlgVLjC+udZTy0smKFkmXL+LGBplBGofTJWGXpUSe3AoIqjTJ3gqeqRg78XqXuUoMii\n",
              "EfUZ/4frzBf8bMt80T8TsJX6hYAvc0MLnww+YQAAAFFBnvVFETwl/wwniUK2zPqwz/v0r9suNmaM\n",
              "NA7UgRggVA2Wnq0RcGsirJW8f8tO7wo+zB8IIl7tyCwMuOd0dA9wJ5L/XQq/m/8nFps7Yi3imWEA\n",
              "AAAqAZ8UdELfDVN9nJPBKTVVjNAXD6NPewXKQRUP/VR4Gb/Bdr0Yw9EDhgGpAAAAJwGfFmpC3w10\n",
              "dK+hEnKGKPeqAPm4eRyqo+KohL7pFhHG2shISkA7oAAAAWxBmxhJqEFomUwIW/8BFOcCM5FqPLIm\n",
              "WqWZQUdVmk2+79NX/gkc86ciWnA0MqSMVMkf/CDDlEzoaVfJU0ptq9CqXa/VoAG3Jxn6n5dQ3NC7\n",
              "aA6lxS9vByeNqxpIQkHElnKkhRxPMgI5QeVfacqpExK1bTs5kdxtKrL5+o0ru5COdc1308Nsi5Ya\n",
              "n+DyWxnTfQwg9br68p59pA7aLxcThGHtWA8LE+JBh5FHLQPXjpDl2KfXqNym24H5PK76w2TH6Hb8\n",
              "SiFCZpulR7lpPOz1kf7lhHWPqB8Fy4vTprwQjUwzRmbB/aafbfJoc8u1Yv8rlqvbv2AJ2WD+bx+p\n",
              "PuZv57U2OM/5KCe2w/l+qT1+blYtYK1jbHvlFr0D5qOUc9rP1HVy2eidvCN5PxPAKhRTrb8bVhGB\n",
              "fQWGbvEdjuyx1nE5nQ3JX2COL+pDMRwW5/PC3lDqAX2KX1UOry47dylHPnKPcG0557W58P55CN2B\n",
              "AAAP5G1vb3YAAABsbXZoZAAAAAAAAAAAAAAAAAAAA+gAADv2AAEAAAEAAAAAAAAAAAAAAAABAAAA\n",
              "AAAAAAAAAAAAAAAAAQAAAAAAAAAAAAAAAAAAQAAAAAAAAAAAAAAAAAAAAAAAAAAAAAAAAAAAAAAA\n",
              "AAIAAA8OdHJhawAAAFx0a2hkAAAAAwAAAAAAAAAAAAAAAQAAAAAAADv2AAAAAAAAAAAAAAAAAAAA\n",
              "AAABAAAAAAAAAAAAAAAAAAAAAQAAAAAAAAAAAAAAAAAAQAAAAAH0AAAB9AAAAAAAJGVkdHMAAAAc\n",
              "ZWxzdAAAAAAAAAABAAA79gAABAAAAQAAAAAOhm1kaWEAAAAgbWRoZAAAAAAAAAAAAAAAAAAAKAAA\n",
              "AmYAVcQAAAAAAC1oZGxyAAAAAAAAAAB2aWRlAAAAAAAAAAAAAAAAVmlkZW9IYW5kbGVyAAAADjFt\n",
              "aW5mAAAAFHZtaGQAAAABAAAAAAAAAAAAAAAkZGluZgAAABxkcmVmAAAAAAAAAAEAAAAMdXJsIAAA\n",
              "AAEAAA3xc3RibAAAALlzdHNkAAAAAAAAAAEAAACpYXZjMQAAAAAAAAABAAAAAAAAAAAAAAAAAAAA\n",
              "AAH0AfQASAAAAEgAAAAAAAAAAQAAAAAAAAAAAAAAAAAAAAAAAAAAAAAAAAAAAAAAAAAAABj//wAA\n",
              "ADdhdmNDAWQAHv/hABpnZAAerNlAgBB554QAAAMABAAAAwCgPFi2WAEABmjr48siwP34+AAAAAAc\n",
              "dXVpZGtoQPJfJE/FujmlG88DI/MAAAAAAAAAGHN0dHMAAAAAAAAAAQAAATMAAAIAAAAAGHN0c3MA\n",
              "AAAAAAAAAgAAAAEAAAD7AAAH8GN0dHMAAAAAAAAA/AAAAAEAAAQAAAAAAQAACgAAAAABAAAEAAAA\n",
              "AAEAAAAAAAAAAQAAAgAAAAABAAAKAAAAAAEAAAQAAAAAAQAAAAAAAAABAAACAAAAAAEAAAoAAAAA\n",
              "AQAABAAAAAABAAAAAAAAAAEAAAIAAAAAAQAABAAAAAABAAAKAAAAAAEAAAQAAAAAAQAAAAAAAAAB\n",
              "AAACAAAAAAEAAAQAAAAAAQAACgAAAAABAAAEAAAAAAEAAAAAAAAAAQAAAgAAAAABAAAGAAAAAAEA\n",
              "AAIAAAAAAQAACgAAAAABAAAEAAAAAAEAAAAAAAAAAQAAAgAAAAABAAAKAAAAAAEAAAQAAAAAAQAA\n",
              "AAAAAAABAAACAAAAAAIAAAQAAAAAAQAABgAAAAABAAACAAAAAAEAAAoAAAAAAQAABAAAAAABAAAA\n",
              "AAAAAAEAAAIAAAAAAQAACgAAAAABAAAEAAAAAAEAAAAAAAAAAQAAAgAAAAABAAAGAAAAAAEAAAIA\n",
              "AAAACQAABAAAAAABAAAGAAAAAAEAAAIAAAAAAwAABAAAAAABAAAKAAAAAAEAAAQAAAAAAQAAAAAA\n",
              "AAABAAACAAAAAAEAAAYAAAAAAQAAAgAAAAABAAAGAAAAAAEAAAIAAAAAAQAABAAAAAABAAAGAAAA\n",
              "AAEAAAIAAAAAAgAABAAAAAABAAAGAAAAAAEAAAIAAAAAAQAABAAAAAABAAAGAAAAAAEAAAIAAAAA\n",
              "AQAABgAAAAABAAACAAAAAAYAAAQAAAAAAQAABgAAAAABAAACAAAAAAIAAAQAAAAAAQAABgAAAAAB\n",
              "AAACAAAAAAEAAAYAAAAAAQAAAgAAAAADAAAEAAAAAAEAAAoAAAAAAQAABAAAAAABAAAAAAAAAAEA\n",
              "AAIAAAAAAQAACgAAAAABAAAEAAAAAAEAAAAAAAAAAQAAAgAAAAABAAAEAAAAAAEAAAYAAAAAAQAA\n",
              "AgAAAAABAAAEAAAAAAEAAAgAAAAAAgAAAgAAAAACAAAEAAAAAAEAAAoAAAAAAQAABAAAAAABAAAA\n",
              "AAAAAAEAAAIAAAAAAQAACgAAAAABAAAEAAAAAAEAAAAAAAAAAQAAAgAAAAABAAAEAAAAAAEAAAoA\n",
              "AAAAAQAABAAAAAABAAAAAAAAAAEAAAIAAAAAAQAACgAAAAABAAAEAAAAAAEAAAAAAAAAAQAAAgAA\n",
              "AAABAAAKAAAAAAEAAAQAAAAAAQAAAAAAAAABAAACAAAAAAEAAAoAAAAAAQAABAAAAAABAAAAAAAA\n",
              "AAEAAAIAAAAAAQAACgAAAAABAAAEAAAAAAEAAAAAAAAAAQAAAgAAAAABAAAIAAAAAAIAAAIAAAAA\n",
              "AQAACAAAAAACAAACAAAAAAEAAAYAAAAAAQAAAgAAAAACAAAEAAAAAAEAAAoAAAAAAQAABAAAAAAB\n",
              "AAAAAAAAAAEAAAIAAAAAAQAACgAAAAABAAAEAAAAAAEAAAAAAAAAAQAAAgAAAAABAAAKAAAAAAEA\n",
              "AAQAAAAAAQAAAAAAAAABAAACAAAAAAEAAAgAAAAAAgAAAgAAAAABAAAKAAAAAAEAAAQAAAAAAQAA\n",
              "AAAAAAABAAACAAAAAAEAAAgAAAAAAgAAAgAAAAABAAAGAAAAAAEAAAIAAAAAAQAACAAAAAACAAAC\n",
              "AAAAAAEAAAQAAAAAAQAACgAAAAABAAAEAAAAAAEAAAAAAAAAAQAAAgAAAAABAAAKAAAAAAEAAAQA\n",
              "AAAAAQAAAAAAAAABAAACAAAAAAEAAAgAAAAAAgAAAgAAAAACAAAEAAAAAAEAAAgAAAAAAgAAAgAA\n",
              "AAABAAAGAAAAAAEAAAIAAAAAAQAABgAAAAABAAACAAAAAAEAAAYAAAAAAQAAAgAAAAABAAAIAAAA\n",
              "AAIAAAIAAAAAAQAABAAAAAABAAAGAAAAAAEAAAIAAAAAAQAABgAAAAABAAACAAAAAAEAAAQAAAAA\n",
              "AQAABgAAAAABAAACAAAAAAIAAAQAAAAAAQAABgAAAAABAAACAAAAAAEAAAoAAAAAAQAABAAAAAAB\n",
              "AAAAAAAAAAEAAAIAAAAAAQAACAAAAAACAAACAAAAAAEAAAQAAAAAAQAABgAAAAABAAACAAAAAAEA\n",
              "AAoAAAAAAQAABAAAAAABAAAAAAAAAAEAAAIAAAAAAQAABgAAAAABAAACAAAAAAIAAAQAAAAAAQAA\n",
              "CAAAAAACAAACAAAAAAEAAAgAAAAAAgAAAgAAAAABAAAGAAAAAAEAAAIAAAAAAQAACgAAAAABAAAE\n",
              "AAAAAAEAAAAAAAAAAQAAAgAAAAACAAAEAAAAAAEAAAYAAAAAAQAAAgAAAAAGAAAEAAAAAAEAAAYA\n",
              "AAAAAQAAAgAAAAAFAAAEAAAAAAEAAAoAAAAAAQAABAAAAAABAAAAAAAAAAEAAAIAAAAAAgAABAAA\n",
              "AAABAAAGAAAAAAEAAAIAAAAAAQAABgAAAAABAAACAAAAAAEAAAYAAAAAAQAAAgAAAAABAAAGAAAA\n",
              "AAEAAAIAAAAAAQAABAAAAAABAAAKAAAAAAEAAAQAAAAAAQAAAAAAAAABAAACAAAAAAEAAAgAAAAA\n",
              "AgAAAgAAAAABAAAGAAAAAAEAAAIAAAAABgAABAAAAAABAAAGAAAAAAEAAAIAAAAAAgAABAAAAAAB\n",
              "AAAGAAAAAAEAAAIAAAAAAQAACgAAAAABAAAEAAAAAAEAAAAAAAAAAQAAAgAAAAABAAAEAAAAABxz\n",
              "dHNjAAAAAAAAAAEAAAABAAABMwAAAAEAAATgc3RzegAAAAAAAAAAAAABMwAACIUAAAIeAAAAJgAA\n",
              "ABcAAAAhAAACVgAAACgAAAAbAAAAKAAAABsAAAAXAAAAEwAAABMAAAGGAAAAOwAAACIAAAAiAAAA\n",
              "EgAAAEQAAAGdAAAAPAAAACQAAAAhAAABkgAAACcAAAIpAAAALgAAACAAAAAWAAABoAAAACkAAAAZ\n",
              "AAAAJAAAADYAAABBAAAANQAAACIAAAA8AAAAKgAAAB4AAAATAAAANwAAACEAAAAgAAAAFgAAAYsA\n",
              "AAAlAAABiQAAAXkAAAA7AAABjgAAAYEAAAA6AAABigAAADMAAAA4AAAANgAAAB4AAAF8AAABogAA\n",
              "Aa8AAAHdAAAAMQAAACUAAAAaAAAARgAAACcAAAGnAAAAJwAAAX4AAABEAAAAKQAAADgAAAA1AAAA\n",
              "NQAAACIAAAGIAAAANgAAACAAAAGfAAAAKAAAADMAAAGKAAABjgAAAX0AAABEAAABjwAAAD8AAAAj\n",
              "AAAAOgAAAX0AAAA2AAAAIAAAAZUAAAAsAAABfgAAAEQAAAGPAAAAUgAAADgAAAAjAAAAGQAAAYUA\n",
              "AAAtAAAAGwAAACwAAAGmAAABnwAAACYAAAA/AAAAQwAAACgAAAAWAAABiAAAADsAAABLAAAANgAA\n",
              "ACIAAAAaAAAAOwAAACUAAAAjAAAAEgAAAEgAAAA7AAAAMQAAACAAAAAWAAAAxQAAACkAAAAjAAAA\n",
              "FwAAABkAAAAaAAAAFwAAABcAAAIiAAAAKAAAABkAAAAkAAAAOwAAACgAAAAXAAAAHwAAADkAAAAl\n",
              "AAAAHwAAADsAAAAjAAAAEgAAAD0AAAAhAAABnQAAADwAAAGNAAAARQAAACMAAAAdAAAAOwAAACkA\n",
              "AAAgAAAAEwAAAE0AAABAAAAAIQAAABsAAAA7AAAAKAAAAB4AAAA9AAAAIgAAAB8AAAATAAAAOwAA\n",
              "ACQAAAAeAAAAOwAAAB8AAAA3AAAAIgAAABIAAAA/AAAARgAAACMAAAAgAAAAEgAAABkAAAAWAAAA\n",
              "EgAAABIAAAGiAAAALQAAABkAAAF+AAABiQAAAXkAAAAwAAAAHAAAAaIAAAAxAAABlwAAACoAAAGL\n",
              "AAAAJwAAAD0AAAA0AAAAGgAAAaEAAAGCAAAAKwAAAYcAAAArAAABfQAAAD0AAAAkAAAARAAAAZMA\n",
              "AAA+AAAAKQAAAFAAAAA0AAAAJQAAACAAAAGRAAAALAAAACUAAAGBAAAAPgAAACEAAAHBAAAALwAA\n",
              "ACMAAAAgAAABfgAAACcAAAGMAAABeQAAADsAAAAoAAAAFwAAAX8AAAA0AAAAHwAAADsAAAAhAAAB\n",
              "eQAAAFUAAAAlAAAAIQAAADwAAAaDAAABgwAAACkAAAA5AAAAQAAAAaYAAAA8AAAAQgAAADoAAAA7\n",
              "AAAAJAAAADoAAAGKAAAAOQAAAD0AAAF6AAAAOgAAAEMAAAAhAAAAHQAAAYIAAAA7AAABfAAAACoA\n",
              "AAGlAAAANAAAAZwAAAAzAAABjwAAADMAAAGSAAAAVQAAAEYAAAAmAAAAIgAAAaMAAAAvAAAALQAA\n",
              "AEIAAAAoAAAARwAAAD0AAAGFAAAAQAAAAEUAAAGiAAABuAAAADkAAAGvAAABlwAAAE4AAAA2AAAB\n",
              "pgAAAFUAAAAuAAAAKwAAAXAAAAAUc3RjbwAAAAAAAAABAAAAMAAAAGJ1ZHRhAAAAWm1ldGEAAAAA\n",
              "AAAAIWhkbHIAAAAAAAAAAG1kaXJhcHBsAAAAAAAAAAAAAAAALWlsc3QAAAAlqXRvbwAAAB1kYXRh\n",
              "AAAAAQAAAABMYXZmNTguNzYuMTAw\n",
              "\">\n",
              "  Your browser does not support the video tag.\n",
              "</video>"
            ]
          },
          "metadata": {},
          "execution_count": 20
        }
      ]
    },
    {
      "cell_type": "code",
      "source": [],
      "metadata": {
        "id": "2Gze8vWTGYnk"
      },
      "execution_count": 20,
      "outputs": []
    }
  ],
  "metadata": {
    "kernelspec": {
      "display_name": "Python 3",
      "language": "python",
      "name": "python3"
    },
    "language_info": {
      "codemirror_mode": {
        "name": "ipython",
        "version": 3
      },
      "file_extension": ".py",
      "mimetype": "text/x-python",
      "name": "python",
      "nbconvert_exporter": "python",
      "pygments_lexer": "ipython3",
      "version": "3.8.5"
    },
    "colab": {
      "provenance": [],
      "include_colab_link": true
    }
  },
  "nbformat": 4,
  "nbformat_minor": 0
}